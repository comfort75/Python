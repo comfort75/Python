{
 "cells": [
  {
   "cell_type": "markdown",
   "id": "12f8ab3c-680a-48b0-9682-bf49cbc2d421",
   "metadata": {},
   "source": [
    "# Football Players"
   ]
  },
  {
   "cell_type": "markdown",
   "id": "f6ad8e4a-59e1-4025-b5f2-854ec4dba3b8",
   "metadata": {},
   "source": [
    "### Football players, also known as soccer players in some regions, are athletes who participate in the sport of football (soccer).Football players often become cultural icons, admired for their skill, dedication, and contributions to the sport. The sport has a massive global following, with millions of fans supporting their favorite players and teams. The dynamic and competitive nature of football, combined with the athleticism and skill of the players, contributes to its status as the world's most popular sport has giving us the reason for ANALYSIS. "
   ]
  },
  {
   "cell_type": "markdown",
   "id": "ba8afaa4-d41a-44c8-84ab-78c0459f0173",
   "metadata": {},
   "source": [
    "## Import all necessary libraries"
   ]
  },
  {
   "cell_type": "code",
   "execution_count": 1,
   "id": "dcc2432e-737e-4fca-a64a-5054836ce2a5",
   "metadata": {
    "tags": []
   },
   "outputs": [],
   "source": [
    "import numpy as np\n",
    "import pandas as pd\n",
    "import matplotlib.pyplot as plt\n",
    "import seaborn as sns"
   ]
  },
  {
   "cell_type": "code",
   "execution_count": 2,
   "id": "09ebe47a-64eb-4fd0-a4ab-cf27441b25de",
   "metadata": {
    "tags": []
   },
   "outputs": [],
   "source": [
    "df=pd.read_csv(r\"C:\\Users\\COMFORT\\OneDrive\\Desktop\\PYTHON\\Football Players .csv\")"
   ]
  },
  {
   "cell_type": "code",
   "execution_count": 3,
   "id": "acbae668-b7c9-4e5a-b39e-8557a7c02744",
   "metadata": {
    "tags": []
   },
   "outputs": [
    {
     "data": {
      "text/html": [
       "<div>\n",
       "<style scoped>\n",
       "    .dataframe tbody tr th:only-of-type {\n",
       "        vertical-align: middle;\n",
       "    }\n",
       "\n",
       "    .dataframe tbody tr th {\n",
       "        vertical-align: top;\n",
       "    }\n",
       "\n",
       "    .dataframe thead th {\n",
       "        text-align: right;\n",
       "    }\n",
       "</style>\n",
       "<table border=\"1\" class=\"dataframe\">\n",
       "  <thead>\n",
       "    <tr style=\"text-align: right;\">\n",
       "      <th></th>\n",
       "      <th>Player</th>\n",
       "      <th>Team</th>\n",
       "      <th>Nation</th>\n",
       "      <th>Pos</th>\n",
       "      <th>Age</th>\n",
       "      <th>Mp</th>\n",
       "      <th>Starts</th>\n",
       "      <th>Min</th>\n",
       "      <th>90S</th>\n",
       "      <th>Gls</th>\n",
       "      <th>...</th>\n",
       "      <th>Xg</th>\n",
       "      <th>Npxg</th>\n",
       "      <th>Xa</th>\n",
       "      <th>Npxg+Xa</th>\n",
       "      <th>Xg5</th>\n",
       "      <th>Xa6</th>\n",
       "      <th>Xg+Xa</th>\n",
       "      <th>Npxg7</th>\n",
       "      <th>Npxg+Xa8</th>\n",
       "      <th>Column9</th>\n",
       "    </tr>\n",
       "  </thead>\n",
       "  <tbody>\n",
       "    <tr>\n",
       "      <th>0</th>\n",
       "      <td>Bukayo Saka</td>\n",
       "      <td>Arsenal</td>\n",
       "      <td>ENG</td>\n",
       "      <td>FW,MF</td>\n",
       "      <td>19</td>\n",
       "      <td>38</td>\n",
       "      <td>36</td>\n",
       "      <td>2978</td>\n",
       "      <td>33.1</td>\n",
       "      <td>11</td>\n",
       "      <td>...</td>\n",
       "      <td>9.7</td>\n",
       "      <td>8.2</td>\n",
       "      <td>6.9</td>\n",
       "      <td>15.2</td>\n",
       "      <td>0.29</td>\n",
       "      <td>0.21</td>\n",
       "      <td>0.50</td>\n",
       "      <td>0.25</td>\n",
       "      <td>0.46</td>\n",
       "      <td>NaN</td>\n",
       "    </tr>\n",
       "    <tr>\n",
       "      <th>1</th>\n",
       "      <td>Gabriel Dos Santos</td>\n",
       "      <td>Arsenal</td>\n",
       "      <td>BRA</td>\n",
       "      <td>DF</td>\n",
       "      <td>23</td>\n",
       "      <td>35</td>\n",
       "      <td>35</td>\n",
       "      <td>3063</td>\n",
       "      <td>34.0</td>\n",
       "      <td>5</td>\n",
       "      <td>...</td>\n",
       "      <td>2.7</td>\n",
       "      <td>2.7</td>\n",
       "      <td>0.8</td>\n",
       "      <td>3.5</td>\n",
       "      <td>0.08</td>\n",
       "      <td>0.02</td>\n",
       "      <td>0.10</td>\n",
       "      <td>0.08</td>\n",
       "      <td>0.10</td>\n",
       "      <td>NaN</td>\n",
       "    </tr>\n",
       "    <tr>\n",
       "      <th>2</th>\n",
       "      <td>Aaron Ramsdale</td>\n",
       "      <td>Arsenal</td>\n",
       "      <td>ENG</td>\n",
       "      <td>GK</td>\n",
       "      <td>23</td>\n",
       "      <td>34</td>\n",
       "      <td>34</td>\n",
       "      <td>3060</td>\n",
       "      <td>34.0</td>\n",
       "      <td>0</td>\n",
       "      <td>...</td>\n",
       "      <td>0.0</td>\n",
       "      <td>0.0</td>\n",
       "      <td>0.0</td>\n",
       "      <td>0.0</td>\n",
       "      <td>0.00</td>\n",
       "      <td>0.00</td>\n",
       "      <td>0.00</td>\n",
       "      <td>0.00</td>\n",
       "      <td>0.00</td>\n",
       "      <td>NaN</td>\n",
       "    </tr>\n",
       "    <tr>\n",
       "      <th>3</th>\n",
       "      <td>Ben White</td>\n",
       "      <td>Arsenal</td>\n",
       "      <td>ENG</td>\n",
       "      <td>DF</td>\n",
       "      <td>23</td>\n",
       "      <td>32</td>\n",
       "      <td>32</td>\n",
       "      <td>2880</td>\n",
       "      <td>32.0</td>\n",
       "      <td>0</td>\n",
       "      <td>...</td>\n",
       "      <td>1.0</td>\n",
       "      <td>1.0</td>\n",
       "      <td>0.6</td>\n",
       "      <td>1.6</td>\n",
       "      <td>0.03</td>\n",
       "      <td>0.02</td>\n",
       "      <td>0.05</td>\n",
       "      <td>0.03</td>\n",
       "      <td>0.05</td>\n",
       "      <td>NaN</td>\n",
       "    </tr>\n",
       "    <tr>\n",
       "      <th>4</th>\n",
       "      <td>Martin Ødegaard</td>\n",
       "      <td>Arsenal</td>\n",
       "      <td>NOR</td>\n",
       "      <td>MF</td>\n",
       "      <td>22</td>\n",
       "      <td>36</td>\n",
       "      <td>32</td>\n",
       "      <td>2785</td>\n",
       "      <td>30.9</td>\n",
       "      <td>7</td>\n",
       "      <td>...</td>\n",
       "      <td>4.8</td>\n",
       "      <td>4.8</td>\n",
       "      <td>6.8</td>\n",
       "      <td>11.6</td>\n",
       "      <td>0.16</td>\n",
       "      <td>0.22</td>\n",
       "      <td>0.38</td>\n",
       "      <td>0.16</td>\n",
       "      <td>0.38</td>\n",
       "      <td>NaN</td>\n",
       "    </tr>\n",
       "    <tr>\n",
       "      <th>...</th>\n",
       "      <td>...</td>\n",
       "      <td>...</td>\n",
       "      <td>...</td>\n",
       "      <td>...</td>\n",
       "      <td>...</td>\n",
       "      <td>...</td>\n",
       "      <td>...</td>\n",
       "      <td>...</td>\n",
       "      <td>...</td>\n",
       "      <td>...</td>\n",
       "      <td>...</td>\n",
       "      <td>...</td>\n",
       "      <td>...</td>\n",
       "      <td>...</td>\n",
       "      <td>...</td>\n",
       "      <td>...</td>\n",
       "      <td>...</td>\n",
       "      <td>...</td>\n",
       "      <td>...</td>\n",
       "      <td>...</td>\n",
       "      <td>...</td>\n",
       "    </tr>\n",
       "    <tr>\n",
       "      <th>673</th>\n",
       "      <td>Christian Marques</td>\n",
       "      <td>Wolverhampton Wanderers</td>\n",
       "      <td>SUI</td>\n",
       "      <td>DF</td>\n",
       "      <td>18</td>\n",
       "      <td>0</td>\n",
       "      <td>0</td>\n",
       "      <td>0</td>\n",
       "      <td>0.0</td>\n",
       "      <td>0</td>\n",
       "      <td>...</td>\n",
       "      <td>0.0</td>\n",
       "      <td>0.0</td>\n",
       "      <td>0.0</td>\n",
       "      <td>0.0</td>\n",
       "      <td>0.00</td>\n",
       "      <td>0.00</td>\n",
       "      <td>0.00</td>\n",
       "      <td>0.00</td>\n",
       "      <td>0.00</td>\n",
       "      <td>NaN</td>\n",
       "    </tr>\n",
       "    <tr>\n",
       "      <th>674</th>\n",
       "      <td>Yerson Mosquera</td>\n",
       "      <td>Wolverhampton Wanderers</td>\n",
       "      <td>COL</td>\n",
       "      <td>DF</td>\n",
       "      <td>20</td>\n",
       "      <td>0</td>\n",
       "      <td>0</td>\n",
       "      <td>0</td>\n",
       "      <td>0.0</td>\n",
       "      <td>0</td>\n",
       "      <td>...</td>\n",
       "      <td>0.0</td>\n",
       "      <td>0.0</td>\n",
       "      <td>0.0</td>\n",
       "      <td>0.0</td>\n",
       "      <td>0.00</td>\n",
       "      <td>0.00</td>\n",
       "      <td>0.00</td>\n",
       "      <td>0.00</td>\n",
       "      <td>0.00</td>\n",
       "      <td>NaN</td>\n",
       "    </tr>\n",
       "    <tr>\n",
       "      <th>675</th>\n",
       "      <td>Louie Moulden</td>\n",
       "      <td>Wolverhampton Wanderers</td>\n",
       "      <td>ENG</td>\n",
       "      <td>GK</td>\n",
       "      <td>19</td>\n",
       "      <td>0</td>\n",
       "      <td>0</td>\n",
       "      <td>0</td>\n",
       "      <td>0.0</td>\n",
       "      <td>0</td>\n",
       "      <td>...</td>\n",
       "      <td>0.0</td>\n",
       "      <td>0.0</td>\n",
       "      <td>0.0</td>\n",
       "      <td>0.0</td>\n",
       "      <td>0.00</td>\n",
       "      <td>0.00</td>\n",
       "      <td>0.00</td>\n",
       "      <td>0.00</td>\n",
       "      <td>0.00</td>\n",
       "      <td>NaN</td>\n",
       "    </tr>\n",
       "    <tr>\n",
       "      <th>676</th>\n",
       "      <td>Dion Sanderson</td>\n",
       "      <td>Wolverhampton Wanderers</td>\n",
       "      <td>ENG</td>\n",
       "      <td>DF</td>\n",
       "      <td>21</td>\n",
       "      <td>0</td>\n",
       "      <td>0</td>\n",
       "      <td>0</td>\n",
       "      <td>0.0</td>\n",
       "      <td>0</td>\n",
       "      <td>...</td>\n",
       "      <td>0.0</td>\n",
       "      <td>0.0</td>\n",
       "      <td>0.0</td>\n",
       "      <td>0.0</td>\n",
       "      <td>0.00</td>\n",
       "      <td>0.00</td>\n",
       "      <td>0.00</td>\n",
       "      <td>0.00</td>\n",
       "      <td>0.00</td>\n",
       "      <td>NaN</td>\n",
       "    </tr>\n",
       "    <tr>\n",
       "      <th>677</th>\n",
       "      <td>James Storer</td>\n",
       "      <td>Wolverhampton Wanderers</td>\n",
       "      <td>NaN</td>\n",
       "      <td>GK</td>\n",
       "      <td>0</td>\n",
       "      <td>0</td>\n",
       "      <td>0</td>\n",
       "      <td>0</td>\n",
       "      <td>0.0</td>\n",
       "      <td>0</td>\n",
       "      <td>...</td>\n",
       "      <td>0.0</td>\n",
       "      <td>0.0</td>\n",
       "      <td>0.0</td>\n",
       "      <td>0.0</td>\n",
       "      <td>0.00</td>\n",
       "      <td>0.00</td>\n",
       "      <td>0.00</td>\n",
       "      <td>0.00</td>\n",
       "      <td>0.00</td>\n",
       "      <td>NaN</td>\n",
       "    </tr>\n",
       "  </tbody>\n",
       "</table>\n",
       "<p>678 rows × 31 columns</p>\n",
       "</div>"
      ],
      "text/plain": [
       "                 Player                     Team Nation    Pos  Age  Mp  \\\n",
       "0           Bukayo Saka                  Arsenal    ENG  FW,MF   19  38   \n",
       "1    Gabriel Dos Santos                  Arsenal    BRA     DF   23  35   \n",
       "2        Aaron Ramsdale                  Arsenal    ENG     GK   23  34   \n",
       "3             Ben White                  Arsenal    ENG     DF   23  32   \n",
       "4       Martin Ødegaard                  Arsenal    NOR     MF   22  36   \n",
       "..                  ...                      ...    ...    ...  ...  ..   \n",
       "673   Christian Marques  Wolverhampton Wanderers    SUI     DF   18   0   \n",
       "674     Yerson Mosquera  Wolverhampton Wanderers    COL     DF   20   0   \n",
       "675       Louie Moulden  Wolverhampton Wanderers    ENG     GK   19   0   \n",
       "676      Dion Sanderson  Wolverhampton Wanderers    ENG     DF   21   0   \n",
       "677        James Storer  Wolverhampton Wanderers    NaN     GK    0   0   \n",
       "\n",
       "     Starts   Min   90S  Gls  ...   Xg  Npxg   Xa  Npxg+Xa   Xg5   Xa6  Xg+Xa  \\\n",
       "0        36  2978  33.1   11  ...  9.7   8.2  6.9     15.2  0.29  0.21   0.50   \n",
       "1        35  3063  34.0    5  ...  2.7   2.7  0.8      3.5  0.08  0.02   0.10   \n",
       "2        34  3060  34.0    0  ...  0.0   0.0  0.0      0.0  0.00  0.00   0.00   \n",
       "3        32  2880  32.0    0  ...  1.0   1.0  0.6      1.6  0.03  0.02   0.05   \n",
       "4        32  2785  30.9    7  ...  4.8   4.8  6.8     11.6  0.16  0.22   0.38   \n",
       "..      ...   ...   ...  ...  ...  ...   ...  ...      ...   ...   ...    ...   \n",
       "673       0     0   0.0    0  ...  0.0   0.0  0.0      0.0  0.00  0.00   0.00   \n",
       "674       0     0   0.0    0  ...  0.0   0.0  0.0      0.0  0.00  0.00   0.00   \n",
       "675       0     0   0.0    0  ...  0.0   0.0  0.0      0.0  0.00  0.00   0.00   \n",
       "676       0     0   0.0    0  ...  0.0   0.0  0.0      0.0  0.00  0.00   0.00   \n",
       "677       0     0   0.0    0  ...  0.0   0.0  0.0      0.0  0.00  0.00   0.00   \n",
       "\n",
       "     Npxg7  Npxg+Xa8  Column9  \n",
       "0     0.25      0.46      NaN  \n",
       "1     0.08      0.10      NaN  \n",
       "2     0.00      0.00      NaN  \n",
       "3     0.03      0.05      NaN  \n",
       "4     0.16      0.38      NaN  \n",
       "..     ...       ...      ...  \n",
       "673   0.00      0.00      NaN  \n",
       "674   0.00      0.00      NaN  \n",
       "675   0.00      0.00      NaN  \n",
       "676   0.00      0.00      NaN  \n",
       "677   0.00      0.00      NaN  \n",
       "\n",
       "[678 rows x 31 columns]"
      ]
     },
     "execution_count": 3,
     "metadata": {},
     "output_type": "execute_result"
    }
   ],
   "source": [
    "df"
   ]
  },
  {
   "cell_type": "code",
   "execution_count": 4,
   "id": "1238fc7b-d57c-4f6a-b3ff-82ea64eabe8e",
   "metadata": {
    "tags": []
   },
   "outputs": [
    {
     "data": {
      "text/html": [
       "<div>\n",
       "<style scoped>\n",
       "    .dataframe tbody tr th:only-of-type {\n",
       "        vertical-align: middle;\n",
       "    }\n",
       "\n",
       "    .dataframe tbody tr th {\n",
       "        vertical-align: top;\n",
       "    }\n",
       "\n",
       "    .dataframe thead th {\n",
       "        text-align: right;\n",
       "    }\n",
       "</style>\n",
       "<table border=\"1\" class=\"dataframe\">\n",
       "  <thead>\n",
       "    <tr style=\"text-align: right;\">\n",
       "      <th></th>\n",
       "      <th>Player</th>\n",
       "      <th>Team</th>\n",
       "      <th>Nation</th>\n",
       "      <th>Pos</th>\n",
       "      <th>Age</th>\n",
       "      <th>Mp</th>\n",
       "      <th>Starts</th>\n",
       "      <th>Min</th>\n",
       "      <th>90S</th>\n",
       "      <th>Gls</th>\n",
       "      <th>...</th>\n",
       "      <th>Xg</th>\n",
       "      <th>Npxg</th>\n",
       "      <th>Xa</th>\n",
       "      <th>Npxg+Xa</th>\n",
       "      <th>Xg5</th>\n",
       "      <th>Xa6</th>\n",
       "      <th>Xg+Xa</th>\n",
       "      <th>Npxg7</th>\n",
       "      <th>Npxg+Xa8</th>\n",
       "      <th>Column9</th>\n",
       "    </tr>\n",
       "  </thead>\n",
       "  <tbody>\n",
       "    <tr>\n",
       "      <th>0</th>\n",
       "      <td>Bukayo Saka</td>\n",
       "      <td>Arsenal</td>\n",
       "      <td>ENG</td>\n",
       "      <td>FW,MF</td>\n",
       "      <td>19</td>\n",
       "      <td>38</td>\n",
       "      <td>36</td>\n",
       "      <td>2978</td>\n",
       "      <td>33.1</td>\n",
       "      <td>11</td>\n",
       "      <td>...</td>\n",
       "      <td>9.7</td>\n",
       "      <td>8.2</td>\n",
       "      <td>6.9</td>\n",
       "      <td>15.2</td>\n",
       "      <td>0.29</td>\n",
       "      <td>0.21</td>\n",
       "      <td>0.50</td>\n",
       "      <td>0.25</td>\n",
       "      <td>0.46</td>\n",
       "      <td>NaN</td>\n",
       "    </tr>\n",
       "    <tr>\n",
       "      <th>1</th>\n",
       "      <td>Gabriel Dos Santos</td>\n",
       "      <td>Arsenal</td>\n",
       "      <td>BRA</td>\n",
       "      <td>DF</td>\n",
       "      <td>23</td>\n",
       "      <td>35</td>\n",
       "      <td>35</td>\n",
       "      <td>3063</td>\n",
       "      <td>34.0</td>\n",
       "      <td>5</td>\n",
       "      <td>...</td>\n",
       "      <td>2.7</td>\n",
       "      <td>2.7</td>\n",
       "      <td>0.8</td>\n",
       "      <td>3.5</td>\n",
       "      <td>0.08</td>\n",
       "      <td>0.02</td>\n",
       "      <td>0.10</td>\n",
       "      <td>0.08</td>\n",
       "      <td>0.10</td>\n",
       "      <td>NaN</td>\n",
       "    </tr>\n",
       "    <tr>\n",
       "      <th>2</th>\n",
       "      <td>Aaron Ramsdale</td>\n",
       "      <td>Arsenal</td>\n",
       "      <td>ENG</td>\n",
       "      <td>GK</td>\n",
       "      <td>23</td>\n",
       "      <td>34</td>\n",
       "      <td>34</td>\n",
       "      <td>3060</td>\n",
       "      <td>34.0</td>\n",
       "      <td>0</td>\n",
       "      <td>...</td>\n",
       "      <td>0.0</td>\n",
       "      <td>0.0</td>\n",
       "      <td>0.0</td>\n",
       "      <td>0.0</td>\n",
       "      <td>0.00</td>\n",
       "      <td>0.00</td>\n",
       "      <td>0.00</td>\n",
       "      <td>0.00</td>\n",
       "      <td>0.00</td>\n",
       "      <td>NaN</td>\n",
       "    </tr>\n",
       "    <tr>\n",
       "      <th>3</th>\n",
       "      <td>Ben White</td>\n",
       "      <td>Arsenal</td>\n",
       "      <td>ENG</td>\n",
       "      <td>DF</td>\n",
       "      <td>23</td>\n",
       "      <td>32</td>\n",
       "      <td>32</td>\n",
       "      <td>2880</td>\n",
       "      <td>32.0</td>\n",
       "      <td>0</td>\n",
       "      <td>...</td>\n",
       "      <td>1.0</td>\n",
       "      <td>1.0</td>\n",
       "      <td>0.6</td>\n",
       "      <td>1.6</td>\n",
       "      <td>0.03</td>\n",
       "      <td>0.02</td>\n",
       "      <td>0.05</td>\n",
       "      <td>0.03</td>\n",
       "      <td>0.05</td>\n",
       "      <td>NaN</td>\n",
       "    </tr>\n",
       "    <tr>\n",
       "      <th>4</th>\n",
       "      <td>Martin Ødegaard</td>\n",
       "      <td>Arsenal</td>\n",
       "      <td>NOR</td>\n",
       "      <td>MF</td>\n",
       "      <td>22</td>\n",
       "      <td>36</td>\n",
       "      <td>32</td>\n",
       "      <td>2785</td>\n",
       "      <td>30.9</td>\n",
       "      <td>7</td>\n",
       "      <td>...</td>\n",
       "      <td>4.8</td>\n",
       "      <td>4.8</td>\n",
       "      <td>6.8</td>\n",
       "      <td>11.6</td>\n",
       "      <td>0.16</td>\n",
       "      <td>0.22</td>\n",
       "      <td>0.38</td>\n",
       "      <td>0.16</td>\n",
       "      <td>0.38</td>\n",
       "      <td>NaN</td>\n",
       "    </tr>\n",
       "  </tbody>\n",
       "</table>\n",
       "<p>5 rows × 31 columns</p>\n",
       "</div>"
      ],
      "text/plain": [
       "               Player     Team Nation    Pos  Age  Mp  Starts   Min   90S  \\\n",
       "0         Bukayo Saka  Arsenal    ENG  FW,MF   19  38      36  2978  33.1   \n",
       "1  Gabriel Dos Santos  Arsenal    BRA     DF   23  35      35  3063  34.0   \n",
       "2      Aaron Ramsdale  Arsenal    ENG     GK   23  34      34  3060  34.0   \n",
       "3           Ben White  Arsenal    ENG     DF   23  32      32  2880  32.0   \n",
       "4     Martin Ødegaard  Arsenal    NOR     MF   22  36      32  2785  30.9   \n",
       "\n",
       "   Gls  ...   Xg  Npxg   Xa  Npxg+Xa   Xg5   Xa6  Xg+Xa  Npxg7  Npxg+Xa8  \\\n",
       "0   11  ...  9.7   8.2  6.9     15.2  0.29  0.21   0.50   0.25      0.46   \n",
       "1    5  ...  2.7   2.7  0.8      3.5  0.08  0.02   0.10   0.08      0.10   \n",
       "2    0  ...  0.0   0.0  0.0      0.0  0.00  0.00   0.00   0.00      0.00   \n",
       "3    0  ...  1.0   1.0  0.6      1.6  0.03  0.02   0.05   0.03      0.05   \n",
       "4    7  ...  4.8   4.8  6.8     11.6  0.16  0.22   0.38   0.16      0.38   \n",
       "\n",
       "   Column9  \n",
       "0      NaN  \n",
       "1      NaN  \n",
       "2      NaN  \n",
       "3      NaN  \n",
       "4      NaN  \n",
       "\n",
       "[5 rows x 31 columns]"
      ]
     },
     "execution_count": 4,
     "metadata": {},
     "output_type": "execute_result"
    }
   ],
   "source": [
    "df.head(5)"
   ]
  },
  {
   "cell_type": "code",
   "execution_count": 5,
   "id": "adf2f754-0eda-4443-81ed-fc2a9bfce8b0",
   "metadata": {
    "tags": []
   },
   "outputs": [
    {
     "data": {
      "text/html": [
       "<div>\n",
       "<style scoped>\n",
       "    .dataframe tbody tr th:only-of-type {\n",
       "        vertical-align: middle;\n",
       "    }\n",
       "\n",
       "    .dataframe tbody tr th {\n",
       "        vertical-align: top;\n",
       "    }\n",
       "\n",
       "    .dataframe thead th {\n",
       "        text-align: right;\n",
       "    }\n",
       "</style>\n",
       "<table border=\"1\" class=\"dataframe\">\n",
       "  <thead>\n",
       "    <tr style=\"text-align: right;\">\n",
       "      <th></th>\n",
       "      <th>Player</th>\n",
       "      <th>Team</th>\n",
       "      <th>Nation</th>\n",
       "      <th>Pos</th>\n",
       "      <th>Age</th>\n",
       "      <th>Mp</th>\n",
       "      <th>Starts</th>\n",
       "      <th>Min</th>\n",
       "      <th>90S</th>\n",
       "      <th>Gls</th>\n",
       "      <th>...</th>\n",
       "      <th>Xg</th>\n",
       "      <th>Npxg</th>\n",
       "      <th>Xa</th>\n",
       "      <th>Npxg+Xa</th>\n",
       "      <th>Xg5</th>\n",
       "      <th>Xa6</th>\n",
       "      <th>Xg+Xa</th>\n",
       "      <th>Npxg7</th>\n",
       "      <th>Npxg+Xa8</th>\n",
       "      <th>Column9</th>\n",
       "    </tr>\n",
       "  </thead>\n",
       "  <tbody>\n",
       "    <tr>\n",
       "      <th>673</th>\n",
       "      <td>Christian Marques</td>\n",
       "      <td>Wolverhampton Wanderers</td>\n",
       "      <td>SUI</td>\n",
       "      <td>DF</td>\n",
       "      <td>18</td>\n",
       "      <td>0</td>\n",
       "      <td>0</td>\n",
       "      <td>0</td>\n",
       "      <td>0.0</td>\n",
       "      <td>0</td>\n",
       "      <td>...</td>\n",
       "      <td>0.0</td>\n",
       "      <td>0.0</td>\n",
       "      <td>0.0</td>\n",
       "      <td>0.0</td>\n",
       "      <td>0.0</td>\n",
       "      <td>0.0</td>\n",
       "      <td>0.0</td>\n",
       "      <td>0.0</td>\n",
       "      <td>0.0</td>\n",
       "      <td>NaN</td>\n",
       "    </tr>\n",
       "    <tr>\n",
       "      <th>674</th>\n",
       "      <td>Yerson Mosquera</td>\n",
       "      <td>Wolverhampton Wanderers</td>\n",
       "      <td>COL</td>\n",
       "      <td>DF</td>\n",
       "      <td>20</td>\n",
       "      <td>0</td>\n",
       "      <td>0</td>\n",
       "      <td>0</td>\n",
       "      <td>0.0</td>\n",
       "      <td>0</td>\n",
       "      <td>...</td>\n",
       "      <td>0.0</td>\n",
       "      <td>0.0</td>\n",
       "      <td>0.0</td>\n",
       "      <td>0.0</td>\n",
       "      <td>0.0</td>\n",
       "      <td>0.0</td>\n",
       "      <td>0.0</td>\n",
       "      <td>0.0</td>\n",
       "      <td>0.0</td>\n",
       "      <td>NaN</td>\n",
       "    </tr>\n",
       "    <tr>\n",
       "      <th>675</th>\n",
       "      <td>Louie Moulden</td>\n",
       "      <td>Wolverhampton Wanderers</td>\n",
       "      <td>ENG</td>\n",
       "      <td>GK</td>\n",
       "      <td>19</td>\n",
       "      <td>0</td>\n",
       "      <td>0</td>\n",
       "      <td>0</td>\n",
       "      <td>0.0</td>\n",
       "      <td>0</td>\n",
       "      <td>...</td>\n",
       "      <td>0.0</td>\n",
       "      <td>0.0</td>\n",
       "      <td>0.0</td>\n",
       "      <td>0.0</td>\n",
       "      <td>0.0</td>\n",
       "      <td>0.0</td>\n",
       "      <td>0.0</td>\n",
       "      <td>0.0</td>\n",
       "      <td>0.0</td>\n",
       "      <td>NaN</td>\n",
       "    </tr>\n",
       "    <tr>\n",
       "      <th>676</th>\n",
       "      <td>Dion Sanderson</td>\n",
       "      <td>Wolverhampton Wanderers</td>\n",
       "      <td>ENG</td>\n",
       "      <td>DF</td>\n",
       "      <td>21</td>\n",
       "      <td>0</td>\n",
       "      <td>0</td>\n",
       "      <td>0</td>\n",
       "      <td>0.0</td>\n",
       "      <td>0</td>\n",
       "      <td>...</td>\n",
       "      <td>0.0</td>\n",
       "      <td>0.0</td>\n",
       "      <td>0.0</td>\n",
       "      <td>0.0</td>\n",
       "      <td>0.0</td>\n",
       "      <td>0.0</td>\n",
       "      <td>0.0</td>\n",
       "      <td>0.0</td>\n",
       "      <td>0.0</td>\n",
       "      <td>NaN</td>\n",
       "    </tr>\n",
       "    <tr>\n",
       "      <th>677</th>\n",
       "      <td>James Storer</td>\n",
       "      <td>Wolverhampton Wanderers</td>\n",
       "      <td>NaN</td>\n",
       "      <td>GK</td>\n",
       "      <td>0</td>\n",
       "      <td>0</td>\n",
       "      <td>0</td>\n",
       "      <td>0</td>\n",
       "      <td>0.0</td>\n",
       "      <td>0</td>\n",
       "      <td>...</td>\n",
       "      <td>0.0</td>\n",
       "      <td>0.0</td>\n",
       "      <td>0.0</td>\n",
       "      <td>0.0</td>\n",
       "      <td>0.0</td>\n",
       "      <td>0.0</td>\n",
       "      <td>0.0</td>\n",
       "      <td>0.0</td>\n",
       "      <td>0.0</td>\n",
       "      <td>NaN</td>\n",
       "    </tr>\n",
       "  </tbody>\n",
       "</table>\n",
       "<p>5 rows × 31 columns</p>\n",
       "</div>"
      ],
      "text/plain": [
       "                Player                     Team Nation Pos  Age  Mp  Starts  \\\n",
       "673  Christian Marques  Wolverhampton Wanderers    SUI  DF   18   0       0   \n",
       "674    Yerson Mosquera  Wolverhampton Wanderers    COL  DF   20   0       0   \n",
       "675      Louie Moulden  Wolverhampton Wanderers    ENG  GK   19   0       0   \n",
       "676     Dion Sanderson  Wolverhampton Wanderers    ENG  DF   21   0       0   \n",
       "677       James Storer  Wolverhampton Wanderers    NaN  GK    0   0       0   \n",
       "\n",
       "     Min  90S  Gls  ...   Xg  Npxg   Xa  Npxg+Xa  Xg5  Xa6  Xg+Xa  Npxg7  \\\n",
       "673    0  0.0    0  ...  0.0   0.0  0.0      0.0  0.0  0.0    0.0    0.0   \n",
       "674    0  0.0    0  ...  0.0   0.0  0.0      0.0  0.0  0.0    0.0    0.0   \n",
       "675    0  0.0    0  ...  0.0   0.0  0.0      0.0  0.0  0.0    0.0    0.0   \n",
       "676    0  0.0    0  ...  0.0   0.0  0.0      0.0  0.0  0.0    0.0    0.0   \n",
       "677    0  0.0    0  ...  0.0   0.0  0.0      0.0  0.0  0.0    0.0    0.0   \n",
       "\n",
       "     Npxg+Xa8  Column9  \n",
       "673       0.0      NaN  \n",
       "674       0.0      NaN  \n",
       "675       0.0      NaN  \n",
       "676       0.0      NaN  \n",
       "677       0.0      NaN  \n",
       "\n",
       "[5 rows x 31 columns]"
      ]
     },
     "execution_count": 5,
     "metadata": {},
     "output_type": "execute_result"
    }
   ],
   "source": [
    "df.tail(5)"
   ]
  },
  {
   "cell_type": "code",
   "execution_count": 6,
   "id": "89ded321-654f-4b1f-af06-067d5a9e8cdb",
   "metadata": {
    "tags": []
   },
   "outputs": [
    {
     "data": {
      "text/html": [
       "<div>\n",
       "<style scoped>\n",
       "    .dataframe tbody tr th:only-of-type {\n",
       "        vertical-align: middle;\n",
       "    }\n",
       "\n",
       "    .dataframe tbody tr th {\n",
       "        vertical-align: top;\n",
       "    }\n",
       "\n",
       "    .dataframe thead th {\n",
       "        text-align: right;\n",
       "    }\n",
       "</style>\n",
       "<table border=\"1\" class=\"dataframe\">\n",
       "  <thead>\n",
       "    <tr style=\"text-align: right;\">\n",
       "      <th></th>\n",
       "      <th>Player</th>\n",
       "      <th>Team</th>\n",
       "      <th>Nation</th>\n",
       "      <th>Pos</th>\n",
       "      <th>Age</th>\n",
       "      <th>Mp</th>\n",
       "      <th>Starts</th>\n",
       "      <th>Min</th>\n",
       "      <th>90S</th>\n",
       "      <th>Gls</th>\n",
       "      <th>...</th>\n",
       "      <th>Xg</th>\n",
       "      <th>Npxg</th>\n",
       "      <th>Xa</th>\n",
       "      <th>Npxg+Xa</th>\n",
       "      <th>Xg5</th>\n",
       "      <th>Xa6</th>\n",
       "      <th>Xg+Xa</th>\n",
       "      <th>Npxg7</th>\n",
       "      <th>Npxg+Xa8</th>\n",
       "      <th>Column9</th>\n",
       "    </tr>\n",
       "  </thead>\n",
       "  <tbody>\n",
       "    <tr>\n",
       "      <th>318</th>\n",
       "      <td>Ça?lar Söyüncü</td>\n",
       "      <td>Leicester City</td>\n",
       "      <td>TUR</td>\n",
       "      <td>DF</td>\n",
       "      <td>25</td>\n",
       "      <td>28</td>\n",
       "      <td>28</td>\n",
       "      <td>2497</td>\n",
       "      <td>27.7</td>\n",
       "      <td>1</td>\n",
       "      <td>...</td>\n",
       "      <td>1.4</td>\n",
       "      <td>1.4</td>\n",
       "      <td>0.1</td>\n",
       "      <td>1.5</td>\n",
       "      <td>0.05</td>\n",
       "      <td>0.00</td>\n",
       "      <td>0.05</td>\n",
       "      <td>0.05</td>\n",
       "      <td>0.05</td>\n",
       "      <td>NaN</td>\n",
       "    </tr>\n",
       "    <tr>\n",
       "      <th>88</th>\n",
       "      <td>Sergi Canós</td>\n",
       "      <td>Brentford</td>\n",
       "      <td>ESP</td>\n",
       "      <td>DF</td>\n",
       "      <td>24</td>\n",
       "      <td>31</td>\n",
       "      <td>25</td>\n",
       "      <td>2083</td>\n",
       "      <td>23.1</td>\n",
       "      <td>3</td>\n",
       "      <td>...</td>\n",
       "      <td>3.0</td>\n",
       "      <td>3.0</td>\n",
       "      <td>1.9</td>\n",
       "      <td>4.9</td>\n",
       "      <td>0.13</td>\n",
       "      <td>0.08</td>\n",
       "      <td>0.21</td>\n",
       "      <td>0.13</td>\n",
       "      <td>0.21</td>\n",
       "      <td>NaN</td>\n",
       "    </tr>\n",
       "    <tr>\n",
       "      <th>36</th>\n",
       "      <td>Mazeed Ogungbo</td>\n",
       "      <td>Arsenal</td>\n",
       "      <td>IRL</td>\n",
       "      <td>DF</td>\n",
       "      <td>18</td>\n",
       "      <td>0</td>\n",
       "      <td>0</td>\n",
       "      <td>0</td>\n",
       "      <td>0.0</td>\n",
       "      <td>0</td>\n",
       "      <td>...</td>\n",
       "      <td>0.0</td>\n",
       "      <td>0.0</td>\n",
       "      <td>0.0</td>\n",
       "      <td>0.0</td>\n",
       "      <td>0.00</td>\n",
       "      <td>0.00</td>\n",
       "      <td>0.00</td>\n",
       "      <td>0.00</td>\n",
       "      <td>0.00</td>\n",
       "      <td>NaN</td>\n",
       "    </tr>\n",
       "    <tr>\n",
       "      <th>628</th>\n",
       "      <td>Arthur Masuaku</td>\n",
       "      <td>West Ham United</td>\n",
       "      <td>COD</td>\n",
       "      <td>DF,FW</td>\n",
       "      <td>27</td>\n",
       "      <td>13</td>\n",
       "      <td>6</td>\n",
       "      <td>650</td>\n",
       "      <td>7.2</td>\n",
       "      <td>1</td>\n",
       "      <td>...</td>\n",
       "      <td>0.1</td>\n",
       "      <td>0.1</td>\n",
       "      <td>0.9</td>\n",
       "      <td>1.0</td>\n",
       "      <td>0.01</td>\n",
       "      <td>0.12</td>\n",
       "      <td>0.14</td>\n",
       "      <td>0.01</td>\n",
       "      <td>0.14</td>\n",
       "      <td>NaN</td>\n",
       "    </tr>\n",
       "    <tr>\n",
       "      <th>456</th>\n",
       "      <td>Miguel Almirón</td>\n",
       "      <td>Newcastle United</td>\n",
       "      <td>PAR</td>\n",
       "      <td>MF,FW</td>\n",
       "      <td>27</td>\n",
       "      <td>30</td>\n",
       "      <td>19</td>\n",
       "      <td>1716</td>\n",
       "      <td>19.1</td>\n",
       "      <td>1</td>\n",
       "      <td>...</td>\n",
       "      <td>2.1</td>\n",
       "      <td>2.1</td>\n",
       "      <td>0.7</td>\n",
       "      <td>2.7</td>\n",
       "      <td>0.11</td>\n",
       "      <td>0.03</td>\n",
       "      <td>0.14</td>\n",
       "      <td>0.11</td>\n",
       "      <td>0.14</td>\n",
       "      <td>NaN</td>\n",
       "    </tr>\n",
       "  </tbody>\n",
       "</table>\n",
       "<p>5 rows × 31 columns</p>\n",
       "</div>"
      ],
      "text/plain": [
       "             Player              Team Nation    Pos  Age  Mp  Starts   Min  \\\n",
       "318  Ça?lar Söyüncü    Leicester City    TUR     DF   25  28      28  2497   \n",
       "88      Sergi Canós         Brentford    ESP     DF   24  31      25  2083   \n",
       "36   Mazeed Ogungbo           Arsenal    IRL     DF   18   0       0     0   \n",
       "628  Arthur Masuaku   West Ham United    COD  DF,FW   27  13       6   650   \n",
       "456  Miguel Almirón  Newcastle United    PAR  MF,FW   27  30      19  1716   \n",
       "\n",
       "      90S  Gls  ...   Xg  Npxg   Xa  Npxg+Xa   Xg5   Xa6  Xg+Xa  Npxg7  \\\n",
       "318  27.7    1  ...  1.4   1.4  0.1      1.5  0.05  0.00   0.05   0.05   \n",
       "88   23.1    3  ...  3.0   3.0  1.9      4.9  0.13  0.08   0.21   0.13   \n",
       "36    0.0    0  ...  0.0   0.0  0.0      0.0  0.00  0.00   0.00   0.00   \n",
       "628   7.2    1  ...  0.1   0.1  0.9      1.0  0.01  0.12   0.14   0.01   \n",
       "456  19.1    1  ...  2.1   2.1  0.7      2.7  0.11  0.03   0.14   0.11   \n",
       "\n",
       "     Npxg+Xa8  Column9  \n",
       "318      0.05      NaN  \n",
       "88       0.21      NaN  \n",
       "36       0.00      NaN  \n",
       "628      0.14      NaN  \n",
       "456      0.14      NaN  \n",
       "\n",
       "[5 rows x 31 columns]"
      ]
     },
     "execution_count": 6,
     "metadata": {},
     "output_type": "execute_result"
    }
   ],
   "source": [
    "df.sample(5)"
   ]
  },
  {
   "cell_type": "code",
   "execution_count": 7,
   "id": "9e0e3ab7-c7b4-4525-b847-af0025c49042",
   "metadata": {
    "tags": []
   },
   "outputs": [
    {
     "name": "stdout",
     "output_type": "stream",
     "text": [
      "<class 'pandas.core.frame.DataFrame'>\n",
      "RangeIndex: 678 entries, 0 to 677\n",
      "Data columns (total 31 columns):\n",
      " #   Column    Non-Null Count  Dtype  \n",
      "---  ------    --------------  -----  \n",
      " 0   Player    678 non-null    object \n",
      " 1   Team      678 non-null    object \n",
      " 2   Nation    675 non-null    object \n",
      " 3   Pos       678 non-null    object \n",
      " 4   Age       678 non-null    int64  \n",
      " 5   Mp        678 non-null    int64  \n",
      " 6   Starts    678 non-null    int64  \n",
      " 7   Min       678 non-null    int64  \n",
      " 8   90S       678 non-null    float64\n",
      " 9   Gls       678 non-null    int64  \n",
      " 10  Ast       678 non-null    int64  \n",
      " 11  G-Pk      678 non-null    int64  \n",
      " 12  Pk        678 non-null    int64  \n",
      " 13  Pkatt     678 non-null    int64  \n",
      " 14  Crdy      678 non-null    int64  \n",
      " 15  Crdr      678 non-null    int64  \n",
      " 16  Gls2      678 non-null    float64\n",
      " 17  Ast3      678 non-null    float64\n",
      " 18  G+A       678 non-null    float64\n",
      " 19  G-Pk4     678 non-null    float64\n",
      " 20  G+A-Pk    678 non-null    float64\n",
      " 21  Xg        678 non-null    float64\n",
      " 22  Npxg      678 non-null    float64\n",
      " 23  Xa        678 non-null    float64\n",
      " 24  Npxg+Xa   678 non-null    float64\n",
      " 25  Xg5       678 non-null    float64\n",
      " 26  Xa6       678 non-null    float64\n",
      " 27  Xg+Xa     678 non-null    float64\n",
      " 28  Npxg7     678 non-null    float64\n",
      " 29  Npxg+Xa8  678 non-null    float64\n",
      " 30  Column9   0 non-null      float64\n",
      "dtypes: float64(16), int64(11), object(4)\n",
      "memory usage: 164.3+ KB\n"
     ]
    }
   ],
   "source": [
    "df.info()"
   ]
  },
  {
   "cell_type": "code",
   "execution_count": 8,
   "id": "eac54f36-00ff-4bdf-bfa1-65e27f9bb9fa",
   "metadata": {
    "tags": []
   },
   "outputs": [
    {
     "data": {
      "text/html": [
       "<div>\n",
       "<style scoped>\n",
       "    .dataframe tbody tr th:only-of-type {\n",
       "        vertical-align: middle;\n",
       "    }\n",
       "\n",
       "    .dataframe tbody tr th {\n",
       "        vertical-align: top;\n",
       "    }\n",
       "\n",
       "    .dataframe thead th {\n",
       "        text-align: right;\n",
       "    }\n",
       "</style>\n",
       "<table border=\"1\" class=\"dataframe\">\n",
       "  <thead>\n",
       "    <tr style=\"text-align: right;\">\n",
       "      <th></th>\n",
       "      <th>Age</th>\n",
       "      <th>Mp</th>\n",
       "      <th>Starts</th>\n",
       "      <th>Min</th>\n",
       "      <th>90S</th>\n",
       "      <th>Gls</th>\n",
       "      <th>Ast</th>\n",
       "      <th>G-Pk</th>\n",
       "      <th>Pk</th>\n",
       "      <th>Pkatt</th>\n",
       "      <th>...</th>\n",
       "      <th>Xg</th>\n",
       "      <th>Npxg</th>\n",
       "      <th>Xa</th>\n",
       "      <th>Npxg+Xa</th>\n",
       "      <th>Xg5</th>\n",
       "      <th>Xa6</th>\n",
       "      <th>Xg+Xa</th>\n",
       "      <th>Npxg7</th>\n",
       "      <th>Npxg+Xa8</th>\n",
       "      <th>Column9</th>\n",
       "    </tr>\n",
       "  </thead>\n",
       "  <tbody>\n",
       "    <tr>\n",
       "      <th>count</th>\n",
       "      <td>678.000000</td>\n",
       "      <td>678.00000</td>\n",
       "      <td>678.000000</td>\n",
       "      <td>678.000000</td>\n",
       "      <td>678.000000</td>\n",
       "      <td>678.000000</td>\n",
       "      <td>678.000000</td>\n",
       "      <td>678.000000</td>\n",
       "      <td>678.000000</td>\n",
       "      <td>678.000000</td>\n",
       "      <td>...</td>\n",
       "      <td>678.000000</td>\n",
       "      <td>678.000000</td>\n",
       "      <td>678.000000</td>\n",
       "      <td>678.000000</td>\n",
       "      <td>678.000000</td>\n",
       "      <td>678.000000</td>\n",
       "      <td>678.000000</td>\n",
       "      <td>678.000000</td>\n",
       "      <td>678.000000</td>\n",
       "      <td>0.0</td>\n",
       "    </tr>\n",
       "    <tr>\n",
       "      <th>mean</th>\n",
       "      <td>24.328909</td>\n",
       "      <td>15.19764</td>\n",
       "      <td>12.091445</td>\n",
       "      <td>1086.454277</td>\n",
       "      <td>12.070796</td>\n",
       "      <td>1.517699</td>\n",
       "      <td>1.094395</td>\n",
       "      <td>1.396755</td>\n",
       "      <td>0.120944</td>\n",
       "      <td>0.148968</td>\n",
       "      <td>...</td>\n",
       "      <td>1.536726</td>\n",
       "      <td>1.423304</td>\n",
       "      <td>1.033038</td>\n",
       "      <td>2.458407</td>\n",
       "      <td>0.108009</td>\n",
       "      <td>0.072891</td>\n",
       "      <td>0.181047</td>\n",
       "      <td>0.102537</td>\n",
       "      <td>0.175575</td>\n",
       "      <td>NaN</td>\n",
       "    </tr>\n",
       "    <tr>\n",
       "      <th>std</th>\n",
       "      <td>5.253915</td>\n",
       "      <td>13.00446</td>\n",
       "      <td>12.085389</td>\n",
       "      <td>1062.541918</td>\n",
       "      <td>11.804801</td>\n",
       "      <td>3.020679</td>\n",
       "      <td>1.908528</td>\n",
       "      <td>2.725847</td>\n",
       "      <td>0.607781</td>\n",
       "      <td>0.708624</td>\n",
       "      <td>...</td>\n",
       "      <td>2.785968</td>\n",
       "      <td>2.503844</td>\n",
       "      <td>1.621304</td>\n",
       "      <td>3.845200</td>\n",
       "      <td>0.237155</td>\n",
       "      <td>0.267017</td>\n",
       "      <td>0.372610</td>\n",
       "      <td>0.232563</td>\n",
       "      <td>0.368745</td>\n",
       "      <td>NaN</td>\n",
       "    </tr>\n",
       "    <tr>\n",
       "      <th>min</th>\n",
       "      <td>0.000000</td>\n",
       "      <td>0.00000</td>\n",
       "      <td>0.000000</td>\n",
       "      <td>0.000000</td>\n",
       "      <td>0.000000</td>\n",
       "      <td>0.000000</td>\n",
       "      <td>0.000000</td>\n",
       "      <td>0.000000</td>\n",
       "      <td>0.000000</td>\n",
       "      <td>0.000000</td>\n",
       "      <td>...</td>\n",
       "      <td>0.000000</td>\n",
       "      <td>0.000000</td>\n",
       "      <td>0.000000</td>\n",
       "      <td>0.000000</td>\n",
       "      <td>0.000000</td>\n",
       "      <td>0.000000</td>\n",
       "      <td>0.000000</td>\n",
       "      <td>0.000000</td>\n",
       "      <td>0.000000</td>\n",
       "      <td>NaN</td>\n",
       "    </tr>\n",
       "    <tr>\n",
       "      <th>25%</th>\n",
       "      <td>20.000000</td>\n",
       "      <td>1.00000</td>\n",
       "      <td>0.000000</td>\n",
       "      <td>14.250000</td>\n",
       "      <td>0.200000</td>\n",
       "      <td>0.000000</td>\n",
       "      <td>0.000000</td>\n",
       "      <td>0.000000</td>\n",
       "      <td>0.000000</td>\n",
       "      <td>0.000000</td>\n",
       "      <td>...</td>\n",
       "      <td>0.000000</td>\n",
       "      <td>0.000000</td>\n",
       "      <td>0.000000</td>\n",
       "      <td>0.000000</td>\n",
       "      <td>0.000000</td>\n",
       "      <td>0.000000</td>\n",
       "      <td>0.000000</td>\n",
       "      <td>0.000000</td>\n",
       "      <td>0.000000</td>\n",
       "      <td>NaN</td>\n",
       "    </tr>\n",
       "    <tr>\n",
       "      <th>50%</th>\n",
       "      <td>24.000000</td>\n",
       "      <td>14.50000</td>\n",
       "      <td>9.000000</td>\n",
       "      <td>852.500000</td>\n",
       "      <td>9.500000</td>\n",
       "      <td>0.000000</td>\n",
       "      <td>0.000000</td>\n",
       "      <td>0.000000</td>\n",
       "      <td>0.000000</td>\n",
       "      <td>0.000000</td>\n",
       "      <td>...</td>\n",
       "      <td>0.300000</td>\n",
       "      <td>0.300000</td>\n",
       "      <td>0.300000</td>\n",
       "      <td>0.900000</td>\n",
       "      <td>0.030000</td>\n",
       "      <td>0.030000</td>\n",
       "      <td>0.080000</td>\n",
       "      <td>0.030000</td>\n",
       "      <td>0.080000</td>\n",
       "      <td>NaN</td>\n",
       "    </tr>\n",
       "    <tr>\n",
       "      <th>75%</th>\n",
       "      <td>28.000000</td>\n",
       "      <td>28.00000</td>\n",
       "      <td>22.000000</td>\n",
       "      <td>1914.750000</td>\n",
       "      <td>21.300000</td>\n",
       "      <td>2.000000</td>\n",
       "      <td>2.000000</td>\n",
       "      <td>2.000000</td>\n",
       "      <td>0.000000</td>\n",
       "      <td>0.000000</td>\n",
       "      <td>...</td>\n",
       "      <td>1.800000</td>\n",
       "      <td>1.800000</td>\n",
       "      <td>1.500000</td>\n",
       "      <td>3.400000</td>\n",
       "      <td>0.140000</td>\n",
       "      <td>0.100000</td>\n",
       "      <td>0.250000</td>\n",
       "      <td>0.130000</td>\n",
       "      <td>0.240000</td>\n",
       "      <td>NaN</td>\n",
       "    </tr>\n",
       "    <tr>\n",
       "      <th>max</th>\n",
       "      <td>39.000000</td>\n",
       "      <td>38.00000</td>\n",
       "      <td>38.000000</td>\n",
       "      <td>3420.000000</td>\n",
       "      <td>38.000000</td>\n",
       "      <td>23.000000</td>\n",
       "      <td>13.000000</td>\n",
       "      <td>23.000000</td>\n",
       "      <td>6.000000</td>\n",
       "      <td>7.000000</td>\n",
       "      <td>...</td>\n",
       "      <td>21.800000</td>\n",
       "      <td>17.100000</td>\n",
       "      <td>11.200000</td>\n",
       "      <td>27.400000</td>\n",
       "      <td>4.480000</td>\n",
       "      <td>6.500000</td>\n",
       "      <td>6.500000</td>\n",
       "      <td>4.480000</td>\n",
       "      <td>6.500000</td>\n",
       "      <td>NaN</td>\n",
       "    </tr>\n",
       "  </tbody>\n",
       "</table>\n",
       "<p>8 rows × 27 columns</p>\n",
       "</div>"
      ],
      "text/plain": [
       "              Age         Mp      Starts          Min         90S         Gls  \\\n",
       "count  678.000000  678.00000  678.000000   678.000000  678.000000  678.000000   \n",
       "mean    24.328909   15.19764   12.091445  1086.454277   12.070796    1.517699   \n",
       "std      5.253915   13.00446   12.085389  1062.541918   11.804801    3.020679   \n",
       "min      0.000000    0.00000    0.000000     0.000000    0.000000    0.000000   \n",
       "25%     20.000000    1.00000    0.000000    14.250000    0.200000    0.000000   \n",
       "50%     24.000000   14.50000    9.000000   852.500000    9.500000    0.000000   \n",
       "75%     28.000000   28.00000   22.000000  1914.750000   21.300000    2.000000   \n",
       "max     39.000000   38.00000   38.000000  3420.000000   38.000000   23.000000   \n",
       "\n",
       "              Ast        G-Pk          Pk       Pkatt  ...          Xg  \\\n",
       "count  678.000000  678.000000  678.000000  678.000000  ...  678.000000   \n",
       "mean     1.094395    1.396755    0.120944    0.148968  ...    1.536726   \n",
       "std      1.908528    2.725847    0.607781    0.708624  ...    2.785968   \n",
       "min      0.000000    0.000000    0.000000    0.000000  ...    0.000000   \n",
       "25%      0.000000    0.000000    0.000000    0.000000  ...    0.000000   \n",
       "50%      0.000000    0.000000    0.000000    0.000000  ...    0.300000   \n",
       "75%      2.000000    2.000000    0.000000    0.000000  ...    1.800000   \n",
       "max     13.000000   23.000000    6.000000    7.000000  ...   21.800000   \n",
       "\n",
       "             Npxg          Xa     Npxg+Xa         Xg5         Xa6       Xg+Xa  \\\n",
       "count  678.000000  678.000000  678.000000  678.000000  678.000000  678.000000   \n",
       "mean     1.423304    1.033038    2.458407    0.108009    0.072891    0.181047   \n",
       "std      2.503844    1.621304    3.845200    0.237155    0.267017    0.372610   \n",
       "min      0.000000    0.000000    0.000000    0.000000    0.000000    0.000000   \n",
       "25%      0.000000    0.000000    0.000000    0.000000    0.000000    0.000000   \n",
       "50%      0.300000    0.300000    0.900000    0.030000    0.030000    0.080000   \n",
       "75%      1.800000    1.500000    3.400000    0.140000    0.100000    0.250000   \n",
       "max     17.100000   11.200000   27.400000    4.480000    6.500000    6.500000   \n",
       "\n",
       "            Npxg7    Npxg+Xa8  Column9  \n",
       "count  678.000000  678.000000      0.0  \n",
       "mean     0.102537    0.175575      NaN  \n",
       "std      0.232563    0.368745      NaN  \n",
       "min      0.000000    0.000000      NaN  \n",
       "25%      0.000000    0.000000      NaN  \n",
       "50%      0.030000    0.080000      NaN  \n",
       "75%      0.130000    0.240000      NaN  \n",
       "max      4.480000    6.500000      NaN  \n",
       "\n",
       "[8 rows x 27 columns]"
      ]
     },
     "execution_count": 8,
     "metadata": {},
     "output_type": "execute_result"
    }
   ],
   "source": [
    "df.describe()"
   ]
  },
  {
   "cell_type": "code",
   "execution_count": 9,
   "id": "f1c94c31-1b64-452b-859c-93b10f4b1c77",
   "metadata": {
    "tags": []
   },
   "outputs": [
    {
     "data": {
      "text/plain": [
       "Player        0\n",
       "Team          0\n",
       "Nation        3\n",
       "Pos           0\n",
       "Age           0\n",
       "Mp            0\n",
       "Starts        0\n",
       "Min           0\n",
       "90S           0\n",
       "Gls           0\n",
       "Ast           0\n",
       "G-Pk          0\n",
       "Pk            0\n",
       "Pkatt         0\n",
       "Crdy          0\n",
       "Crdr          0\n",
       "Gls2          0\n",
       "Ast3          0\n",
       "G+A           0\n",
       "G-Pk4         0\n",
       "G+A-Pk        0\n",
       "Xg            0\n",
       "Npxg          0\n",
       "Xa            0\n",
       "Npxg+Xa       0\n",
       "Xg5           0\n",
       "Xa6           0\n",
       "Xg+Xa         0\n",
       "Npxg7         0\n",
       "Npxg+Xa8      0\n",
       "Column9     678\n",
       "dtype: int64"
      ]
     },
     "execution_count": 9,
     "metadata": {},
     "output_type": "execute_result"
    }
   ],
   "source": [
    "df.isnull().sum()"
   ]
  },
  {
   "cell_type": "markdown",
   "id": "1dab84fe-9db4-418e-b9f2-0bca1c5e980c",
   "metadata": {},
   "source": [
    "### Drop all unnecessary columns"
   ]
  },
  {
   "cell_type": "code",
   "execution_count": 10,
   "id": "949fc055-57ae-4b35-8f42-11d672eb74ec",
   "metadata": {
    "tags": []
   },
   "outputs": [
    {
     "name": "stdout",
     "output_type": "stream",
     "text": [
      "                 Player                     Team Nation    Pos  Age  Mp  \\\n",
      "0           Bukayo Saka                  Arsenal    ENG  FW,MF   19  38   \n",
      "1    Gabriel Dos Santos                  Arsenal    BRA     DF   23  35   \n",
      "2        Aaron Ramsdale                  Arsenal    ENG     GK   23  34   \n",
      "3             Ben White                  Arsenal    ENG     DF   23  32   \n",
      "4       Martin Ødegaard                  Arsenal    NOR     MF   22  36   \n",
      "..                  ...                      ...    ...    ...  ...  ..   \n",
      "673   Christian Marques  Wolverhampton Wanderers    SUI     DF   18   0   \n",
      "674     Yerson Mosquera  Wolverhampton Wanderers    COL     DF   20   0   \n",
      "675       Louie Moulden  Wolverhampton Wanderers    ENG     GK   19   0   \n",
      "676      Dion Sanderson  Wolverhampton Wanderers    ENG     DF   21   0   \n",
      "677        James Storer  Wolverhampton Wanderers    NaN     GK    0   0   \n",
      "\n",
      "     Starts   Min   90S  Gls  ...  G+A-Pk   Xg  Npxg   Xa  Npxg+Xa   Xg5  \\\n",
      "0        36  2978  33.1   11  ...    0.48  9.7   8.2  6.9     15.2  0.29   \n",
      "1        35  3063  34.0    5  ...    0.15  2.7   2.7  0.8      3.5  0.08   \n",
      "2        34  3060  34.0    0  ...    0.00  0.0   0.0  0.0      0.0  0.00   \n",
      "3        32  2880  32.0    0  ...    0.00  1.0   1.0  0.6      1.6  0.03   \n",
      "4        32  2785  30.9    7  ...    0.36  4.8   4.8  6.8     11.6  0.16   \n",
      "..      ...   ...   ...  ...  ...     ...  ...   ...  ...      ...   ...   \n",
      "673       0     0   0.0    0  ...    0.00  0.0   0.0  0.0      0.0  0.00   \n",
      "674       0     0   0.0    0  ...    0.00  0.0   0.0  0.0      0.0  0.00   \n",
      "675       0     0   0.0    0  ...    0.00  0.0   0.0  0.0      0.0  0.00   \n",
      "676       0     0   0.0    0  ...    0.00  0.0   0.0  0.0      0.0  0.00   \n",
      "677       0     0   0.0    0  ...    0.00  0.0   0.0  0.0      0.0  0.00   \n",
      "\n",
      "      Xa6  Xg+Xa  Npxg7  Npxg+Xa8  \n",
      "0    0.21   0.50   0.25      0.46  \n",
      "1    0.02   0.10   0.08      0.10  \n",
      "2    0.00   0.00   0.00      0.00  \n",
      "3    0.02   0.05   0.03      0.05  \n",
      "4    0.22   0.38   0.16      0.38  \n",
      "..    ...    ...    ...       ...  \n",
      "673  0.00   0.00   0.00      0.00  \n",
      "674  0.00   0.00   0.00      0.00  \n",
      "675  0.00   0.00   0.00      0.00  \n",
      "676  0.00   0.00   0.00      0.00  \n",
      "677  0.00   0.00   0.00      0.00  \n",
      "\n",
      "[678 rows x 30 columns]\n"
     ]
    }
   ],
   "source": [
    "# List of unnecessary columns to be dropped\n",
    "unnecessary_columns = ['Column9']\n",
    "\n",
    "# Drop the specified columns\n",
    "df = df.drop(columns=unnecessary_columns)\n",
    "\n",
    "# Display the updated DataFrame\n",
    "print(df)"
   ]
  },
  {
   "cell_type": "markdown",
   "id": "845cc60b-5585-4859-8aa3-d0c859202ad2",
   "metadata": {},
   "source": [
    "### Replace missing values"
   ]
  },
  {
   "cell_type": "code",
   "execution_count": 11,
   "id": "ae6d53dd-caec-4b55-9978-510cb9612f2e",
   "metadata": {
    "tags": []
   },
   "outputs": [
    {
     "name": "stdout",
     "output_type": "stream",
     "text": [
      "                 Player                     Team Nation    Pos  Age  Mp  \\\n",
      "0           Bukayo Saka                  Arsenal    ENG  FW,MF   19  38   \n",
      "1    Gabriel Dos Santos                  Arsenal    BRA     DF   23  35   \n",
      "2        Aaron Ramsdale                  Arsenal    ENG     GK   23  34   \n",
      "3             Ben White                  Arsenal    ENG     DF   23  32   \n",
      "4       Martin Ødegaard                  Arsenal    NOR     MF   22  36   \n",
      "..                  ...                      ...    ...    ...  ...  ..   \n",
      "673   Christian Marques  Wolverhampton Wanderers    SUI     DF   18   0   \n",
      "674     Yerson Mosquera  Wolverhampton Wanderers    COL     DF   20   0   \n",
      "675       Louie Moulden  Wolverhampton Wanderers    ENG     GK   19   0   \n",
      "676      Dion Sanderson  Wolverhampton Wanderers    ENG     DF   21   0   \n",
      "677        James Storer  Wolverhampton Wanderers    ENG     GK    0   0   \n",
      "\n",
      "     Starts   Min   90S  Gls  ...  G+A-Pk   Xg  Npxg   Xa  Npxg+Xa   Xg5  \\\n",
      "0        36  2978  33.1   11  ...    0.48  9.7   8.2  6.9     15.2  0.29   \n",
      "1        35  3063  34.0    5  ...    0.15  2.7   2.7  0.8      3.5  0.08   \n",
      "2        34  3060  34.0    0  ...    0.00  0.0   0.0  0.0      0.0  0.00   \n",
      "3        32  2880  32.0    0  ...    0.00  1.0   1.0  0.6      1.6  0.03   \n",
      "4        32  2785  30.9    7  ...    0.36  4.8   4.8  6.8     11.6  0.16   \n",
      "..      ...   ...   ...  ...  ...     ...  ...   ...  ...      ...   ...   \n",
      "673       0     0   0.0    0  ...    0.00  0.0   0.0  0.0      0.0  0.00   \n",
      "674       0     0   0.0    0  ...    0.00  0.0   0.0  0.0      0.0  0.00   \n",
      "675       0     0   0.0    0  ...    0.00  0.0   0.0  0.0      0.0  0.00   \n",
      "676       0     0   0.0    0  ...    0.00  0.0   0.0  0.0      0.0  0.00   \n",
      "677       0     0   0.0    0  ...    0.00  0.0   0.0  0.0      0.0  0.00   \n",
      "\n",
      "      Xa6  Xg+Xa  Npxg7  Npxg+Xa8  \n",
      "0    0.21   0.50   0.25      0.46  \n",
      "1    0.02   0.10   0.08      0.10  \n",
      "2    0.00   0.00   0.00      0.00  \n",
      "3    0.02   0.05   0.03      0.05  \n",
      "4    0.22   0.38   0.16      0.38  \n",
      "..    ...    ...    ...       ...  \n",
      "673  0.00   0.00   0.00      0.00  \n",
      "674  0.00   0.00   0.00      0.00  \n",
      "675  0.00   0.00   0.00      0.00  \n",
      "676  0.00   0.00   0.00      0.00  \n",
      "677  0.00   0.00   0.00      0.00  \n",
      "\n",
      "[678 rows x 30 columns]\n"
     ]
    }
   ],
   "source": [
    "# Calculate the mode of the 'Nation' column\n",
    "mode_nation = df['Nation'].mode()[0]\n",
    "\n",
    "# Replace missing values in the 'Nation' column with the mode\n",
    "df['Nation'].fillna(mode_nation, inplace=True)\n",
    "\n",
    "# Display the updated DataFrame\n",
    "print(df)"
   ]
  },
  {
   "cell_type": "markdown",
   "id": "08e7832a-925e-4a30-b746-188d66838a5c",
   "metadata": {},
   "source": [
    "## Player Performance"
   ]
  },
  {
   "cell_type": "markdown",
   "id": "e49f4265-93c6-43e0-806c-8ed9f1f59440",
   "metadata": {},
   "source": [
    "### 1: Who are the top goal scorers in the dataset?"
   ]
  },
  {
   "cell_type": "code",
   "execution_count": 12,
   "id": "f48007fd-07de-4c7f-9299-b80596d70b8e",
   "metadata": {
    "tags": []
   },
   "outputs": [
    {
     "name": "stdout",
     "output_type": "stream",
     "text": [
      "                Player  Gls\n",
      "546      Son Heung-min   23\n",
      "353      Mohamed Salah   23\n",
      "420  Cristiano Ronaldo   18\n",
      "543         Harry Kane   17\n",
      "351         Sadio Mané   16\n",
      "..                 ...  ...\n",
      "275         Moise Kean    0\n",
      "274         Cenk Tosun    0\n",
      "273        Isaac Price    0\n",
      "272      Tyler Onyango    0\n",
      "677       James Storer    0\n",
      "\n",
      "[678 rows x 2 columns]\n"
     ]
    }
   ],
   "source": [
    "# Convert the 'Gls' column to numeric (in case it's not already)\n",
    "df['Gls'] = pd.to_numeric(df['Gls'], errors='coerce')\n",
    "\n",
    "# Sort the DataFrame by the 'Gls' column in descending order\n",
    "top_scorers = df.sort_values(by='Gls', ascending=False)\n",
    "\n",
    "# Display the top goal scorers\n",
    "print(top_scorers[['Player', 'Gls']])"
   ]
  },
  {
   "cell_type": "markdown",
   "id": "6618c103-5b20-47b5-acc7-30c27c16ff4a",
   "metadata": {},
   "source": [
    "### 2:Which player has the highest expected goals (xG)?"
   ]
  },
  {
   "cell_type": "code",
   "execution_count": 13,
   "id": "dd7ce3f8-c29e-41a5-9e5b-c9972a8dd5d7",
   "metadata": {
    "tags": []
   },
   "outputs": [
    {
     "name": "stdout",
     "output_type": "stream",
     "text": [
      "Player with the highest xG:\n",
      "Player    Mohamed Salah\n",
      "Xg                 21.8\n",
      "Name: 353, dtype: object\n"
     ]
    }
   ],
   "source": [
    "# Convert the 'Xg' column to numeric (in case it's not already)\n",
    "df['Xg'] = pd.to_numeric(df['Xg'], errors='coerce')\n",
    "\n",
    "# Sort the DataFrame by the 'Xg' column in descending order\n",
    "top_xg_player = df.sort_values(by='Xg', ascending=False).iloc[0]\n",
    "\n",
    "# Display the player with the highest xG\n",
    "print(\"Player with the highest xG:\")\n",
    "print(top_xg_player[['Player', 'Xg']])"
   ]
  },
  {
   "cell_type": "markdown",
   "id": "82ac8bce-9316-4a38-b0ef-8648c00b6860",
   "metadata": {},
   "source": [
    "### 3:Who has the best goals-to-minutes ratio (Gls per 90 minutes)?"
   ]
  },
  {
   "cell_type": "code",
   "execution_count": 14,
   "id": "86faef65-6834-42e4-ab02-ac43b64374a9",
   "metadata": {
    "tags": []
   },
   "outputs": [
    {
     "name": "stdout",
     "output_type": "stream",
     "text": [
      "Player with the best goals-to-minutes ratio:\n",
      "Player        Divock Origi\n",
      "Gls_per_90        2.030075\n",
      "Name: 372, dtype: object\n"
     ]
    }
   ],
   "source": [
    "# Convert the 'Gls' and 'Min' columns to numeric (in case they're not already)\n",
    "df['Gls'] = pd.to_numeric(df['Gls'], errors='coerce')\n",
    "df['Min'] = pd.to_numeric(df['Min'], errors='coerce')\n",
    "\n",
    "# Calculate goals per 90 minutes\n",
    "df['Gls_per_90'] = df['Gls'] / (df['Min'] / 90)\n",
    "\n",
    "# Sort the DataFrame by the 'Gls_per_90' column in descending order\n",
    "best_ratio_player = df.sort_values(by='Gls_per_90', ascending=False).iloc[0]\n",
    "\n",
    "# Display the player with the best goals-to-minutes ratio\n",
    "print(\"Player with the best goals-to-minutes ratio:\")\n",
    "print(best_ratio_player[['Player', 'Gls_per_90']])"
   ]
  },
  {
   "cell_type": "markdown",
   "id": "386e5e58-d06e-48ee-afa2-55500c996dfb",
   "metadata": {},
   "source": [
    "## 4. Identify the players with the most assists (Ast)."
   ]
  },
  {
   "cell_type": "code",
   "execution_count": 15,
   "id": "2d43bab1-0963-4ade-a0ff-882cdb2aca6c",
   "metadata": {
    "tags": []
   },
   "outputs": [
    {
     "name": "stdout",
     "output_type": "stream",
     "text": [
      "Players with the most assists:\n",
      "                     Player  Ast\n",
      "353           Mohamed Salah   13\n",
      "350  Trent Alexander-Arnold   12\n",
      "355        Andrew Robertson   10\n",
      "617            Jarrod Bowen   10\n",
      "320           Harvey Barnes   10\n",
      "..                      ...  ...\n",
      "272           Tyler Onyango    0\n",
      "271            Lewis Dobbin    0\n",
      "270             Ellis Simms    0\n",
      "269    Jean-Philippe Gbamin    0\n",
      "677            James Storer    0\n",
      "\n",
      "[678 rows x 2 columns]\n"
     ]
    }
   ],
   "source": [
    "# Convert the 'Ast' column to numeric (in case it's not already)\n",
    "df['Ast'] = pd.to_numeric(df['Ast'], errors='coerce')\n",
    "\n",
    "# Sort the DataFrame by the 'Ast' column in descending order\n",
    "most_assists_players = df.sort_values(by='Ast', ascending=False)\n",
    "\n",
    "# Display the players with the most assists\n",
    "print(\"Players with the most assists:\")\n",
    "print(most_assists_players[['Player', 'Ast']])"
   ]
  },
  {
   "cell_type": "markdown",
   "id": "a046a2c8-bf62-481b-8a8f-3f3e1171103b",
   "metadata": {},
   "source": [
    "## 5. Who has the highest expected assists (xA) in the dataset?"
   ]
  },
  {
   "cell_type": "code",
   "execution_count": 16,
   "id": "cd442b13-9874-4e52-a97b-aa4b640634a7",
   "metadata": {
    "tags": []
   },
   "outputs": [
    {
     "name": "stdout",
     "output_type": "stream",
     "text": [
      "Player with the highest xA:\n",
      "Player    Trent Alexander-Arnold\n",
      "Xa                          11.2\n",
      "Name: 350, dtype: object\n"
     ]
    }
   ],
   "source": [
    "# Convert the 'Xa' column to numeric (in case it's not already)\n",
    "df['Xa'] = pd.to_numeric(df['Xa'], errors='coerce')\n",
    "\n",
    "# Sort the DataFrame by the 'Xa' column in descending order\n",
    "top_xa_player = df.sort_values(by='Xa', ascending=False).iloc[0]\n",
    "\n",
    "# Display the player with the highest xA\n",
    "print(\"Player with the highest xA:\")\n",
    "print(top_xa_player[['Player', 'Xa']])"
   ]
  },
  {
   "cell_type": "markdown",
   "id": "3ae9910f-06b9-423a-bacd-6b51df4a351b",
   "metadata": {},
   "source": [
    "## 6. Which players have the highest combined goals and assists (G+A)?"
   ]
  },
  {
   "cell_type": "code",
   "execution_count": 17,
   "id": "1a8eaeb2-d8c2-4cae-9471-4ef014da0719",
   "metadata": {
    "tags": []
   },
   "outputs": [
    {
     "name": "stdout",
     "output_type": "stream",
     "text": [
      "Players with the highest combined goals and assists:\n",
      "               Player  G+A\n",
      "353     Mohamed Salah   36\n",
      "546     Son Heung-min   30\n",
      "543        Harry Kane   26\n",
      "389   Kevin De Bruyne   23\n",
      "617      Jarrod Bowen   22\n",
      "..                ...  ...\n",
      "282  Charlie Whitaker    0\n",
      "281       Reece Welch    0\n",
      "280       Harry Tyrer    0\n",
      "279  Nathan Patterson    0\n",
      "677      James Storer    0\n",
      "\n",
      "[678 rows x 2 columns]\n"
     ]
    }
   ],
   "source": [
    "# Convert the 'Gls' and 'Ast' columns to numeric (in case they're not already)\n",
    "df['Gls'] = pd.to_numeric(df['Gls'], errors='coerce')\n",
    "df['Ast'] = pd.to_numeric(df['Ast'], errors='coerce')\n",
    "\n",
    "# Calculate the sum of goals and assists\n",
    "df['G+A'] = df['Gls'] + df['Ast']\n",
    "\n",
    "# Sort the DataFrame by the 'G+A' column in descending order\n",
    "highest_ga_players = df.sort_values(by='G+A', ascending=False)\n",
    "\n",
    "# Display the players with the highest combined goals and assists\n",
    "print(\"Players with the highest combined goals and assists:\")\n",
    "print(highest_ga_players[['Player', 'G+A']])"
   ]
  },
  {
   "cell_type": "markdown",
   "id": "173b598c-1f06-4039-b50d-df6b08502e9b",
   "metadata": {},
   "source": [
    "# Team Analysis"
   ]
  },
  {
   "cell_type": "markdown",
   "id": "7865e040-5a88-46fe-9802-a93e9d2074f9",
   "metadata": {},
   "source": [
    "## 7. Which team has the highest total goals in the dataset?"
   ]
  },
  {
   "cell_type": "code",
   "execution_count": 18,
   "id": "8d91e247-8eee-4b63-8080-f33f528c4b41",
   "metadata": {
    "tags": []
   },
   "outputs": [
    {
     "name": "stdout",
     "output_type": "stream",
     "text": [
      "Team with the highest total goals: Manchester City\n"
     ]
    }
   ],
   "source": [
    "# Convert the 'Gls' column to numeric (in case it's not already)\n",
    "df['Gls'] = pd.to_numeric(df['Gls'], errors='coerce')\n",
    "\n",
    "# Group by 'Team' and calculate the sum of goals for each team\n",
    "team_goals = df.groupby('Team')['Gls'].sum()\n",
    "\n",
    "# Find the team with the highest total goals\n",
    "team_highest_goals = team_goals.idxmax()\n",
    "\n",
    "# Display the team with the highest total goals\n",
    "print(\"Team with the highest total goals:\", team_highest_goals)"
   ]
  },
  {
   "cell_type": "markdown",
   "id": "0225886e-b418-4a18-8bd6-5932228fe9d6",
   "metadata": {},
   "source": [
    "## 8. Identify the team with the most assists (Ast) in the dataset."
   ]
  },
  {
   "cell_type": "code",
   "execution_count": 19,
   "id": "1dff7d9c-82ed-425b-aaf5-e435ea7e7605",
   "metadata": {
    "tags": []
   },
   "outputs": [
    {
     "name": "stdout",
     "output_type": "stream",
     "text": [
      "Team with the most assists: Liverpool\n"
     ]
    }
   ],
   "source": [
    "# Convert the 'Ast' column to numeric (in case it's not already)\n",
    "df['Ast'] = pd.to_numeric(df['Ast'], errors='coerce')\n",
    "\n",
    "# Group by 'Team' and calculate the sum of assists for each team\n",
    "team_assists = df.groupby('Team')['Ast'].sum()\n",
    "\n",
    "# Find the team with the most assists\n",
    "team_most_assists = team_assists.idxmax()\n",
    "\n",
    "# Display the team with the most assists\n",
    "print(\"Team with the most assists:\", team_most_assists)"
   ]
  },
  {
   "cell_type": "markdown",
   "id": "ab40a5d8-6e86-4cce-9779-5ef58df0d64c",
   "metadata": {},
   "source": [
    "## 9. Calculate the average age of players for each team."
   ]
  },
  {
   "cell_type": "code",
   "execution_count": 20,
   "id": "bc2b4d0c-75aa-4394-ac5a-8996b1adc3a4",
   "metadata": {
    "tags": []
   },
   "outputs": [
    {
     "name": "stdout",
     "output_type": "stream",
     "text": [
      "Average age for each team:\n",
      "Team\n",
      "Arsenal                    22.487805\n",
      "Aston Villa                23.600000\n",
      "Brentford                  23.527778\n",
      "Brighton & Hove Albion     23.685714\n",
      "Burnley                    26.187500\n",
      "Chelsea                    25.387097\n",
      "Crystal Palace             25.400000\n",
      "Everton                    24.421053\n",
      "Leeds United               22.060606\n",
      "Leicester City             25.375000\n",
      "Liverpool                  24.428571\n",
      "Manchester City            24.121212\n",
      "Manchester United          25.363636\n",
      "Newcastle United           26.400000\n",
      "Norwich City               23.696970\n",
      "Southampton                24.100000\n",
      "Tottenham Hotspur          23.500000\n",
      "Watford                    25.236842\n",
      "West Ham United            25.500000\n",
      "Wolverhampton Wanderers    23.235294\n",
      "Name: Age, dtype: float64\n"
     ]
    }
   ],
   "source": [
    "# Convert the 'Age' column to numeric (in case it's not already)\n",
    "df['Age'] = pd.to_numeric(df['Age'], errors='coerce')\n",
    "\n",
    "# Group by 'Team' and calculate the average age for each team\n",
    "average_age_per_team = df.groupby('Team')['Age'].mean()\n",
    "\n",
    "# Display the average age for each team\n",
    "print(\"Average age for each team:\")\n",
    "print(average_age_per_team)"
   ]
  },
  {
   "cell_type": "markdown",
   "id": "65b75f42-61b9-4cae-b1f9-9b2009ec03d3",
   "metadata": {},
   "source": [
    "## 10. Determine which team has the most yellow cards (CrdY) in total."
   ]
  },
  {
   "cell_type": "code",
   "execution_count": 21,
   "id": "c6a161ba-3409-41a6-b86f-2be1a2a7082f",
   "metadata": {
    "tags": []
   },
   "outputs": [
    {
     "name": "stdout",
     "output_type": "stream",
     "text": [
      "Team with the most yellow cards: Leeds United\n"
     ]
    }
   ],
   "source": [
    "# Convert the 'CrdY' column to numeric (in case it's not already)\n",
    "df['Crdy'] = pd.to_numeric(df['Crdy'], errors='coerce')\n",
    "\n",
    "# Group by 'Team' and calculate the sum of yellow cards for each team\n",
    "team_yellow_cards = df.groupby('Team')['Crdy'].sum()\n",
    "\n",
    "# Find the team with the most yellow cards\n",
    "team_most_yellow_cards = team_yellow_cards.idxmax()\n",
    "\n",
    "# Display the team with the most yellow cards\n",
    "print(\"Team with the most yellow cards:\", team_most_yellow_cards)"
   ]
  },
  {
   "cell_type": "markdown",
   "id": "26c77ae2-d10a-4661-8907-5672335a6729",
   "metadata": {},
   "source": [
    "## 11. Which team has the best defensive record based on goals conceded?\n"
   ]
  },
  {
   "cell_type": "code",
   "execution_count": 22,
   "id": "8c72a0eb-4de9-4dce-8d04-f1987c5f5603",
   "metadata": {
    "tags": []
   },
   "outputs": [
    {
     "name": "stdout",
     "output_type": "stream",
     "text": [
      "Team with the best defensive record: Norwich City\n"
     ]
    }
   ],
   "source": [
    "# Convert the 'Gls' column to numeric (in case it's not already)\n",
    "df['Gls'] = pd.to_numeric(df['Gls'], errors='coerce')\n",
    "\n",
    "# Group by 'Team' and calculate the sum of goals conceded for each team\n",
    "team_goals_conceded = df.groupby('Team')['Gls'].sum()\n",
    "\n",
    "# Find the team with the lowest sum of goals conceded (best defensive record)\n",
    "best_defensive_team = team_goals_conceded.idxmin()\n",
    "\n",
    "# Display the team with the best defensive record\n",
    "print(\"Team with the best defensive record:\", best_defensive_team)"
   ]
  },
  {
   "cell_type": "markdown",
   "id": "714fcaf7-46a9-4e89-b47d-1fb56f8a88e8",
   "metadata": {},
   "source": [
    "# Position Analysis"
   ]
  },
  {
   "cell_type": "markdown",
   "id": "7168dccd-91ac-47e1-bf79-58b1147e0f86",
   "metadata": {},
   "source": [
    "## 12. Which playing position (Pos) has the highest average goals per player?"
   ]
  },
  {
   "cell_type": "code",
   "execution_count": 23,
   "id": "d5e6d8f8-4b25-434c-8c72-6b363c74dead",
   "metadata": {
    "tags": []
   },
   "outputs": [
    {
     "name": "stdout",
     "output_type": "stream",
     "text": [
      "Playing position with the highest average goals per player: FW\n"
     ]
    }
   ],
   "source": [
    "# Convert the 'Gls' column to numeric (in case it's not already)\n",
    "df['Gls'] = pd.to_numeric(df['Gls'], errors='coerce')\n",
    "\n",
    "# Group by 'Pos' and calculate the average goals per player for each position\n",
    "average_goals_per_position = df.groupby('Pos')['Gls'].mean()\n",
    "\n",
    "# Find the playing position with the highest average goals per player\n",
    "highest_avg_goals_position = average_goals_per_position.idxmax()\n",
    "\n",
    "# Display the playing position with the highest average goals per player\n",
    "print(\"Playing position with the highest average goals per player:\", highest_avg_goals_position)"
   ]
  },
  {
   "cell_type": "markdown",
   "id": "151fe82d-badd-4de9-9851-e46c2f50f308",
   "metadata": {},
   "source": [
    "## 13. Identify the most common nationality (Nation) among defenders (DF)."
   ]
  },
  {
   "cell_type": "code",
   "execution_count": 24,
   "id": "e645e8ae-5677-477f-b6c5-61a1b0a2459a",
   "metadata": {
    "tags": []
   },
   "outputs": [
    {
     "name": "stdout",
     "output_type": "stream",
     "text": [
      "Most common nationality among defenders: ENG\n"
     ]
    }
   ],
   "source": [
    "# Filter the DataFrame to include only defenders (DF)\n",
    "defender_df = df[df['Pos'] == 'DF']\n",
    "\n",
    "# Find the most common nationality among defenders\n",
    "most_common_nationality_defenders = defender_df['Nation'].mode()[0]\n",
    "\n",
    "# Display the most common nationality among defenders\n",
    "print(\"Most common nationality among defenders:\", most_common_nationality_defenders)"
   ]
  },
  {
   "cell_type": "markdown",
   "id": "d2d21611-3bf4-40ea-a9d9-f0a8f259b18e",
   "metadata": {},
   "source": [
    "## 14. Calculate the average age of midfielders (MF) and forwards (FW)."
   ]
  },
  {
   "cell_type": "code",
   "execution_count": 25,
   "id": "683e3e41-54ff-497a-af3d-0a6a8e3571ac",
   "metadata": {
    "tags": []
   },
   "outputs": [
    {
     "name": "stdout",
     "output_type": "stream",
     "text": [
      "Average age of midfielders (MF): 23.602564102564102\n",
      "Average age of forwards (FW): 24.260416666666668\n"
     ]
    }
   ],
   "source": [
    "# Convert the 'Age' column to numeric (in case it's not already)\n",
    "df['Age'] = pd.to_numeric(df['Age'], errors='coerce')\n",
    "\n",
    "# Filter the DataFrame to include only midfielders (MF) and forwards (FW)\n",
    "midfielders_df = df[df['Pos'] == 'MF']\n",
    "forwards_df = df[df['Pos'] == 'FW']\n",
    "\n",
    "# Calculate the average age for midfielders and forwards\n",
    "average_age_midfielders = midfielders_df['Age'].mean()\n",
    "average_age_forwards = forwards_df['Age'].mean()\n",
    "\n",
    "# Display the average age for midfielders and forwards\n",
    "print(\"Average age of midfielders (MF):\", average_age_midfielders)\n",
    "print(\"Average age of forwards (FW):\", average_age_forwards)"
   ]
  },
  {
   "cell_type": "markdown",
   "id": "2b06b23e-48dd-4a38-8e13-fdbe6694b7c5",
   "metadata": {},
   "source": [
    "## 15. Who are the top-scoring goalkeepers (GK) in terms of goals scored?\n"
   ]
  },
  {
   "cell_type": "code",
   "execution_count": 26,
   "id": "a62485cf-cb81-44e0-b43c-af7f17d89678",
   "metadata": {
    "tags": []
   },
   "outputs": [
    {
     "name": "stdout",
     "output_type": "stream",
     "text": [
      "Top-scoring goalkeepers:\n",
      "                Player  Gls\n",
      "2       Aaron Ramsdale    0\n",
      "510   Michael McGovern    0\n",
      "494         Angus Gunn    0\n",
      "483           Tim Krul    0\n",
      "477     Mark Gillespie    0\n",
      "..                 ...  ...\n",
      "211  Marcus Bettinelli    0\n",
      "206  Kepa Arrizabalaga    0\n",
      "184      Edouard Mendy    0\n",
      "183         Sam Waller    0\n",
      "677       James Storer    0\n",
      "\n",
      "[74 rows x 2 columns]\n"
     ]
    }
   ],
   "source": [
    "# Convert the 'Gls' column to numeric (in case it's not already)\n",
    "df['Gls'] = pd.to_numeric(df['Gls'], errors='coerce')\n",
    "\n",
    "# Filter the DataFrame to include only goalkeepers (GK)\n",
    "goalkeepers_df = df[df['Pos'] == 'GK']\n",
    "\n",
    "# Sort the DataFrame by the 'Gls' column in descending order\n",
    "top_scoring_goalkeepers = goalkeepers_df.sort_values(by='Gls', ascending=False)\n",
    "\n",
    "# Display the top-scoring goalkeepers\n",
    "print(\"Top-scoring goalkeepers:\")\n",
    "print(top_scoring_goalkeepers[['Player', 'Gls']])"
   ]
  },
  {
   "cell_type": "markdown",
   "id": "58e3fe22-3d79-4dd2-9b49-f36c02eeae62",
   "metadata": {},
   "source": [
    "# Expected Goals Analysis"
   ]
  },
  {
   "cell_type": "markdown",
   "id": "737a9262-6423-4c46-84a1-1067c06d2bbd",
   "metadata": {},
   "source": [
    "## 16. Is there a correlation between actual goals (Gls) and expected goals (xG)?"
   ]
  },
  {
   "cell_type": "code",
   "execution_count": 27,
   "id": "ccbc3168-ed3c-458f-adcc-872721b89128",
   "metadata": {
    "tags": []
   },
   "outputs": [
    {
     "name": "stdout",
     "output_type": "stream",
     "text": [
      "Correlation between actual goals (Gls) and expected goals (xG): 0.9392529188522144\n"
     ]
    }
   ],
   "source": [
    "# Convert the 'Gls' and 'Xg' columns to numeric (in case they're not already)\n",
    "df['Gls'] = pd.to_numeric(df['Gls'], errors='coerce')\n",
    "df['Xg'] = pd.to_numeric(df['Xg'], errors='coerce')\n",
    "\n",
    "# Calculate the Pearson correlation coefficient between 'Gls' and 'Xg'\n",
    "correlation_coefficient = df['Gls'].corr(df['Xg'])\n",
    "\n",
    "# Display the correlation coefficient\n",
    "print(\"Correlation between actual goals (Gls) and expected goals (xG):\", correlation_coefficient)"
   ]
  },
  {
   "cell_type": "markdown",
   "id": "22efa165-b0b2-4da6-ab4a-77cf7cf120cb",
   "metadata": {},
   "source": [
    "## 17. Which player has the highest non-penalty expected goals (npxG)?"
   ]
  },
  {
   "cell_type": "code",
   "execution_count": 28,
   "id": "30522a6f-dc94-4be9-9f20-fc8ae4566a47",
   "metadata": {
    "tags": []
   },
   "outputs": [
    {
     "name": "stdout",
     "output_type": "stream",
     "text": [
      "Player with the highest non-penalty expected goals (npxG):\n",
      "Player    Harry Kane\n",
      "Npxg            17.1\n",
      "Name: 543, dtype: object\n"
     ]
    }
   ],
   "source": [
    "# Convert the 'Npxg' column to numeric (in case it's not already)\n",
    "df['Npxg'] = pd.to_numeric(df['Npxg'], errors='coerce')\n",
    "\n",
    "# Sort the DataFrame by the 'Npxg' column in descending order\n",
    "top_npxg_player = df.sort_values(by='Npxg', ascending=False).iloc[0]\n",
    "\n",
    "# Display the player with the highest npxG\n",
    "print(\"Player with the highest non-penalty expected goals (npxG):\")\n",
    "print(top_npxg_player[['Player', 'Npxg']])"
   ]
  },
  {
   "cell_type": "markdown",
   "id": "5715d08c-561a-40ac-8ca0-22ce2ef852df",
   "metadata": {},
   "source": [
    "## 18. Calculate the difference between actual goals and expected goals for each player."
   ]
  },
  {
   "cell_type": "code",
   "execution_count": 29,
   "id": "94d0f270-7fae-4a47-9e58-23812ce31cbe",
   "metadata": {
    "tags": []
   },
   "outputs": [
    {
     "name": "stdout",
     "output_type": "stream",
     "text": [
      "DataFrame with the difference between actual goals and expected goals:\n",
      "                 Player  Gls   Xg  Gls_minus_Xg\n",
      "0           Bukayo Saka   11  9.7           1.3\n",
      "1    Gabriel Dos Santos    5  2.7           2.3\n",
      "2        Aaron Ramsdale    0  0.0           0.0\n",
      "3             Ben White    0  1.0          -1.0\n",
      "4       Martin Ødegaard    7  4.8           2.2\n",
      "..                  ...  ...  ...           ...\n",
      "673   Christian Marques    0  0.0           0.0\n",
      "674     Yerson Mosquera    0  0.0           0.0\n",
      "675       Louie Moulden    0  0.0           0.0\n",
      "676      Dion Sanderson    0  0.0           0.0\n",
      "677        James Storer    0  0.0           0.0\n",
      "\n",
      "[678 rows x 4 columns]\n"
     ]
    }
   ],
   "source": [
    "# Convert the 'Gls' and 'Xg' columns to numeric (in case they're not already)\n",
    "df['Gls'] = pd.to_numeric(df['Gls'], errors='coerce')\n",
    "df['Xg'] = pd.to_numeric(df['Xg'], errors='coerce')\n",
    "\n",
    "# Calculate the difference between actual goals and expected goals\n",
    "df['Gls_minus_Xg'] = df['Gls'] - df['Xg']\n",
    "\n",
    "# Display the DataFrame with the new column\n",
    "print(\"DataFrame with the difference between actual goals and expected goals:\")\n",
    "print(df[['Player', 'Gls', 'Xg', 'Gls_minus_Xg']])"
   ]
  },
  {
   "cell_type": "markdown",
   "id": "e7ca13e4-eb45-4a18-ad47-d9db494cc262",
   "metadata": {},
   "source": [
    "# Minutes Played"
   ]
  },
  {
   "cell_type": "markdown",
   "id": "54936113-cf2f-4fef-a29a-2c4ec435965a",
   "metadata": {},
   "source": [
    "## 19. Identify the players with the most minutes played (Min)."
   ]
  },
  {
   "cell_type": "code",
   "execution_count": 30,
   "id": "9bd74b0b-b5f1-4a44-aaa7-00c9c9651e75",
   "metadata": {
    "tags": []
   },
   "outputs": [
    {
     "name": "stdout",
     "output_type": "stream",
     "text": [
      "Players with the most minutes played:\n",
      "                    Player   Min\n",
      "416           David de Gea  3420\n",
      "542            Hugo Lloris  3420\n",
      "283          Illan Meslier  3384\n",
      "41              Matty Cash  3377\n",
      "644            Conor Coady  3361\n",
      "..                     ...   ...\n",
      "181       Lewis Richardson     0\n",
      "180            Will Norris     0\n",
      "179         Joseph McGlynn     0\n",
      "178  Anthony Gomez Mancini     0\n",
      "677           James Storer     0\n",
      "\n",
      "[678 rows x 2 columns]\n"
     ]
    }
   ],
   "source": [
    "# Convert the 'Min' column to numeric (in case it's not already)\n",
    "df['Min'] = pd.to_numeric(df['Min'], errors='coerce')\n",
    "\n",
    "# Sort the DataFrame by the 'Min' column in descending order\n",
    "most_minutes_players = df.sort_values(by='Min', ascending=False)\n",
    "\n",
    "# Display the players with the most minutes played\n",
    "print(\"Players with the most minutes played:\")\n",
    "print(most_minutes_players[['Player', 'Min']])"
   ]
  },
  {
   "cell_type": "markdown",
   "id": "8d050f95-4394-4b87-9f3b-c14a1d86ce27",
   "metadata": {},
   "source": [
    "## 20. Calculate the average number of starts for players.\n"
   ]
  },
  {
   "cell_type": "code",
   "execution_count": 31,
   "id": "a9739cc2-e044-4c73-8446-f1cf9cfb52f6",
   "metadata": {
    "tags": []
   },
   "outputs": [
    {
     "name": "stdout",
     "output_type": "stream",
     "text": [
      "Average number of starts for players: 12.091445427728614\n"
     ]
    }
   ],
   "source": [
    "# Convert the 'Starts' column to numeric (in case it's not already)\n",
    "df['Starts'] = pd.to_numeric(df['Starts'], errors='coerce')\n",
    "\n",
    "# Calculate the average number of starts\n",
    "average_starts = df['Starts'].mean()\n",
    "\n",
    "# Display the average number of starts\n",
    "print(\"Average number of starts for players:\", average_starts)"
   ]
  },
  {
   "cell_type": "markdown",
   "id": "e3696fb0-d6be-4c6f-a6fb-480fb88c2d7b",
   "metadata": {},
   "source": [
    "# Discipline"
   ]
  },
  {
   "cell_type": "markdown",
   "id": "afc27570-ef16-4a26-b45a-a089f2323945",
   "metadata": {},
   "source": [
    "## 21. Who are the players with the most red cards (CrdR)?"
   ]
  },
  {
   "cell_type": "code",
   "execution_count": 33,
   "id": "60ef2dae-9c78-4729-b1df-67067c70c71f",
   "metadata": {
    "tags": []
   },
   "outputs": [
    {
     "name": "stdout",
     "output_type": "stream",
     "text": [
      "Players with the most red cards:\n",
      "               Player  Crdr\n",
      "650      Raúl Jiménez     2\n",
      "47         Ezri Konsa     2\n",
      "514   Mohammed Salisu     1\n",
      "387   Aymeric Laporte     1\n",
      "219     Wilfried Zaha     1\n",
      "..                ...   ...\n",
      "232  Luka Milivojevi?     0\n",
      "233      Jack Butland     0\n",
      "234      Eberechi Eze     0\n",
      "235     James Tomkins     0\n",
      "677      James Storer     0\n",
      "\n",
      "[678 rows x 2 columns]\n"
     ]
    }
   ],
   "source": [
    "# Convert the 'Crdr' column to numeric (in case it's not already)\n",
    "df['Crdr'] = pd.to_numeric(df['Crdr'], errors='coerce')\n",
    "\n",
    "# Sort the DataFrame by the 'Crdr' column in descending order\n",
    "most_red_cards_players = df.sort_values(by='Crdr', ascending=False)\n",
    "\n",
    "# Display the players with the most red cards\n",
    "print(\"Players with the most red cards:\")\n",
    "print(most_red_cards_players[['Player', 'Crdr']])"
   ]
  },
  {
   "cell_type": "markdown",
   "id": "6bd8de0f-a6ba-444b-a369-c190aacb3d34",
   "metadata": {},
   "source": [
    "## 22. Calculate the average number of yellow cards (CrdY) per team."
   ]
  },
  {
   "cell_type": "code",
   "execution_count": 34,
   "id": "a2fd7c55-e933-4045-8128-434f618250cc",
   "metadata": {
    "tags": []
   },
   "outputs": [
    {
     "name": "stdout",
     "output_type": "stream",
     "text": [
      "Average number of yellow cards per team:\n",
      "Team\n",
      "Arsenal                    1.634146\n",
      "Aston Villa                2.000000\n",
      "Brentford                  1.805556\n",
      "Brighton & Hove Albion     2.057143\n",
      "Burnley                    2.125000\n",
      "Chelsea                    2.032258\n",
      "Crystal Palace             2.300000\n",
      "Everton                    2.052632\n",
      "Leeds United               3.060606\n",
      "Leicester City             1.718750\n",
      "Liverpool                  1.428571\n",
      "Manchester City            1.272727\n",
      "Manchester United          2.333333\n",
      "Newcastle United           2.533333\n",
      "Norwich City               1.484848\n",
      "Southampton                2.166667\n",
      "Tottenham Hotspur          2.000000\n",
      "Watford                    1.526316\n",
      "West Ham United            1.700000\n",
      "Wolverhampton Wanderers    1.823529\n",
      "Name: Crdy, dtype: float64\n"
     ]
    }
   ],
   "source": [
    "# Convert the 'Crdy' column to numeric (in case it's not already)\n",
    "df['Crdy'] = pd.to_numeric(df['Crdy'], errors='coerce')\n",
    "\n",
    "# Group by 'Team' and calculate the average number of yellow cards per team\n",
    "average_yellow_cards_per_team = df.groupby('Team')['Crdy'].mean()\n",
    "\n",
    "# Display the average number of yellow cards per team\n",
    "print(\"Average number of yellow cards per team:\")\n",
    "print(average_yellow_cards_per_team)"
   ]
  },
  {
   "cell_type": "markdown",
   "id": "7fc3e4c2-1f14-4f53-b056-f6c7e52d25b4",
   "metadata": {},
   "source": [
    "## 23. Analyze the relationship between yellow cards and player age.\n"
   ]
  },
  {
   "cell_type": "code",
   "execution_count": 36,
   "id": "4b764bfa-e130-403b-b39f-5ab72a8992ee",
   "metadata": {
    "tags": []
   },
   "outputs": [
    {
     "data": {
      "image/png": "[encoded data removed]",
      "text/plain": [
       "<Figure size 600x600 with 3 Axes>"
      ]
     },
     "metadata": {},
     "output_type": "display_data"
    },
    {
     "name": "stdout",
     "output_type": "stream",
     "text": [
      "Correlation between player age and yellow cards: 0.26360487755128803\n"
     ]
    }
   ],
   "source": [
    "# Convert the 'Crdy' and 'Age' columns to numeric (in case they're not already)\n",
    "df['Crdy'] = pd.to_numeric(df['Crdy'], errors='coerce')\n",
    "df['Age'] = pd.to_numeric(df['Age'], errors='coerce')\n",
    "\n",
    "# Create a jointplot with regression line\n",
    "sns.jointplot(x='Age', y='Crdy', data=df, kind='reg')\n",
    "\n",
    "# Set plot labels and title\n",
    "plt.xlabel('Player Age')\n",
    "plt.ylabel('Yellow Cards (CrdY)')\n",
    "plt.title('Relationship between Yellow Cards and Player Age')\n",
    "\n",
    "# Show the plot\n",
    "plt.show()\n",
    "\n",
    "# Calculate the correlation coefficient\n",
    "correlation_coefficient = df['Age'].corr(df['Crdy'])\n",
    "print(\"Correlation between player age and yellow cards:\", correlation_coefficient)"
   ]
  },
  {
   "cell_type": "markdown",
   "id": "757b982c-1ed2-4de7-84e3-25b9775e2d77",
   "metadata": {},
   "source": [
    "# Efficiency Analysis"
   ]
  },
  {
   "cell_type": "markdown",
   "id": "42ad77c5-4d5a-4881-967d-17760ee78c30",
   "metadata": {},
   "source": [
    "## 24. Calculate the ratio of goals to expected goals (G/xG) for each player."
   ]
  },
  {
   "cell_type": "code",
   "execution_count": 37,
   "id": "d7b50283-498a-49c3-805e-fff949864d6c",
   "metadata": {
    "tags": []
   },
   "outputs": [
    {
     "name": "stdout",
     "output_type": "stream",
     "text": [
      "DataFrame with the ratio of goals to expected goals:\n",
      "                 Player  Gls   Xg  G_xG_ratio\n",
      "0           Bukayo Saka   11  9.7    1.134021\n",
      "1    Gabriel Dos Santos    5  2.7    1.851852\n",
      "2        Aaron Ramsdale    0  0.0         NaN\n",
      "3             Ben White    0  1.0    0.000000\n",
      "4       Martin Ødegaard    7  4.8    1.458333\n",
      "..                  ...  ...  ...         ...\n",
      "673   Christian Marques    0  0.0         NaN\n",
      "674     Yerson Mosquera    0  0.0         NaN\n",
      "675       Louie Moulden    0  0.0         NaN\n",
      "676      Dion Sanderson    0  0.0         NaN\n",
      "677        James Storer    0  0.0         NaN\n",
      "\n",
      "[678 rows x 4 columns]\n"
     ]
    }
   ],
   "source": [
    "# Convert the 'Gls' and 'Xg' columns to numeric (in case they're not already)\n",
    "df['Gls'] = pd.to_numeric(df['Gls'], errors='coerce')\n",
    "df['Xg'] = pd.to_numeric(df['Xg'], errors='coerce')\n",
    "\n",
    "# Calculate the ratio of goals to expected goals\n",
    "df['G_xG_ratio'] = df['Gls'] / df['Xg']\n",
    "\n",
    "# Display the DataFrame with the new column\n",
    "print(\"DataFrame with the ratio of goals to expected goals:\")\n",
    "print(df[['Player', 'Gls', 'Xg', 'G_xG_ratio']])"
   ]
  },
  {
   "cell_type": "markdown",
   "id": "b0ff68c9-2572-4789-81e6-5f257181102d",
   "metadata": {},
   "source": [
    "## 25. Determine which players have the highest non-penalty goals per 90 minutes."
   ]
  },
  {
   "cell_type": "code",
   "execution_count": 39,
   "id": "d8b2af07-c991-4f55-bb81-a23edbc32eb5",
   "metadata": {
    "tags": []
   },
   "outputs": [
    {
     "name": "stdout",
     "output_type": "stream",
     "text": [
      "Players with the highest non-penalty goals per 90 minutes:\n",
      "                Player  NPG_per_90\n",
      "630         Mark Noble    0.271084\n",
      "396       Riyad Mahrez    0.240320\n",
      "188           Jorginho    0.237571\n",
      "59      Anwar El Ghazi    0.233161\n",
      "219      Wilfried Zaha    0.163043\n",
      "..                 ...         ...\n",
      "673  Christian Marques         NaN\n",
      "674    Yerson Mosquera         NaN\n",
      "675      Louie Moulden         NaN\n",
      "676     Dion Sanderson         NaN\n",
      "677       James Storer         NaN\n",
      "\n",
      "[678 rows x 2 columns]\n"
     ]
    }
   ],
   "source": [
    "# Convert the 'Gls' and 'Npxg' columns to numeric (in case they're not already)\n",
    "df['Gls'] = pd.to_numeric(df['Gls'], errors='coerce')\n",
    "df['Npxg'] = pd.to_numeric(df['Npxg'], errors='coerce')\n",
    "df['Min'] = pd.to_numeric(df['Min'], errors='coerce')\n",
    "\n",
    "# Calculate non-penalty goals per 90 minutes\n",
    "df['NPG_per_90'] = (df['Gls'] - df['G-Pk']) / (df['Min'] / 90)\n",
    "\n",
    "# Sort the DataFrame by non-penalty goals per 90 minutes in descending order\n",
    "highest_npg_per_90 = df.sort_values(by='NPG_per_90', ascending=False)\n",
    "\n",
    "# Display the players with the highest non-penalty goals per 90 minutes\n",
    "print(\"Players with the highest non-penalty goals per 90 minutes:\")\n",
    "print(highest_npg_per_90[['Player', 'NPG_per_90']])"
   ]
  },
  {
   "cell_type": "markdown",
   "id": "ebc29611-da88-4f27-82ff-cf68a34ee4dc",
   "metadata": {},
   "source": [
    "## 26. Who has the best combined non-penalty goals and assists per 90 minutes (G+A-PK)?\n"
   ]
  },
  {
   "cell_type": "code",
   "execution_count": 40,
   "id": "f6a2d909-e7f1-4d57-afe8-2e32f263765b",
   "metadata": {
    "tags": []
   },
   "outputs": [
    {
     "name": "stdout",
     "output_type": "stream",
     "text": [
      "Players with the best combined non-penalty goals and assists per 90 minutes:\n",
      "                Player  G_A_PK_per_90\n",
      "374      Neco Williams      11.250000\n",
      "372       Divock Origi       2.030075\n",
      "208             Kenedy       1.551724\n",
      "370    Takumi Minamino       1.451613\n",
      "666          Chiquinho       1.298077\n",
      "..                 ...            ...\n",
      "673  Christian Marques            NaN\n",
      "674    Yerson Mosquera            NaN\n",
      "675      Louie Moulden            NaN\n",
      "676     Dion Sanderson            NaN\n",
      "677       James Storer            NaN\n",
      "\n",
      "[678 rows x 2 columns]\n"
     ]
    }
   ],
   "source": [
    "# Convert the relevant columns to numeric (in case they're not already)\n",
    "df['Gls'] = pd.to_numeric(df['Gls'], errors='coerce')\n",
    "df['Ast'] = pd.to_numeric(df['Ast'], errors='coerce')\n",
    "df['Min'] = pd.to_numeric(df['Min'], errors='coerce')\n",
    "\n",
    "# Calculate non-penalty goals and assists per 90 minutes\n",
    "df['G_A_PK_per_90'] = (df['Gls'] + df['Ast']) / (df['Min'] / 90)\n",
    "\n",
    "# Sort the DataFrame by G+A-PK per 90 minutes in descending order\n",
    "best_g_a_pk_per_90 = df.sort_values(by='G_A_PK_per_90', ascending=False)\n",
    "\n",
    "# Display the players with the best G+A-PK per 90 minutes\n",
    "print(\"Players with the best combined non-penalty goals and assists per 90 minutes:\")\n",
    "print(best_g_a_pk_per_90[['Player', 'G_A_PK_per_90']])"
   ]
  },
  {
   "cell_type": "markdown",
   "id": "4a3c5c1b-4dc4-40e7-9dff-6d4e30eedf8a",
   "metadata": {},
   "source": [
    "# Age and Performance"
   ]
  },
  {
   "cell_type": "markdown",
   "id": "97012b3d-590b-4e32-8e76-e2dafa0def6f",
   "metadata": {},
   "source": [
    "## 27. Is there a correlation between player age and performance metrics like goals or assists?"
   ]
  },
  {
   "cell_type": "code",
   "execution_count": 41,
   "id": "82074a5b-fa5d-48db-91a4-ec0ebfa806aa",
   "metadata": {
    "tags": []
   },
   "outputs": [
    {
     "name": "stdout",
     "output_type": "stream",
     "text": [
      "Correlation between player age and goals: 0.16451146601006816\n",
      "Correlation between player age and assists: 0.16232729299563764\n"
     ]
    }
   ],
   "source": [
    "# Convert relevant columns to numeric (in case they're not already)\n",
    "df['Age'] = pd.to_numeric(df['Age'], errors='coerce')\n",
    "df['Gls'] = pd.to_numeric(df['Gls'], errors='coerce')\n",
    "df['Ast'] = pd.to_numeric(df['Ast'], errors='coerce')\n",
    "\n",
    "# Calculate the correlation coefficients\n",
    "correlation_age_goals = df['Age'].corr(df['Gls'])\n",
    "correlation_age_assists = df['Age'].corr(df['Ast'])\n",
    "\n",
    "# Display the correlation coefficients\n",
    "print(\"Correlation between player age and goals:\", correlation_age_goals)\n",
    "print(\"Correlation between player age and assists:\", correlation_age_assists)"
   ]
  },
  {
   "cell_type": "markdown",
   "id": "2721f62d-1527-4edf-b982-36cdfefbc652",
   "metadata": {},
   "source": [
    "## 28. How does the age distribution differ for different playing positions?"
   ]
  },
  {
   "cell_type": "code",
   "execution_count": 42,
   "id": "8792742d-fcb6-4a4f-bfc5-dfbcd55c1078",
   "metadata": {
    "tags": []
   },
   "outputs": [
    {
     "data": {
      "image/png": "[encoded data removed]",
      "text/plain": [
       "<Figure size 1200x800 with 1 Axes>"
      ]
     },
     "metadata": {},
     "output_type": "display_data"
    }
   ],
   "source": [
    "# Convert the 'Age' column to numeric (in case it's not already)\n",
    "df['Age'] = pd.to_numeric(df['Age'], errors='coerce')\n",
    "\n",
    "# Create a boxplot or violin plot\n",
    "plt.figure(figsize=(12, 8))\n",
    "sns.boxplot(x='Pos', y='Age', data=df, palette='viridis')\n",
    "plt.title('Age Distribution by Playing Position')\n",
    "plt.xlabel('Playing Position')\n",
    "plt.ylabel('Age')\n",
    "plt.show()"
   ]
  },
  {
   "cell_type": "markdown",
   "id": "2d4be014-4ca2-4458-ae39-b96e8bc7f4eb",
   "metadata": {},
   "source": [
    "### The visualization shows that players that likely to always be at the front wing ranges from 20year to 30years of age."
   ]
  },
  {
   "cell_type": "markdown",
   "id": "e86e0a78-69ca-4337-86ba-1635cee1c986",
   "metadata": {},
   "source": [
    "## 29. Analyze the relationship between age and disciplinary actions (yellow and red cards)"
   ]
  },
  {
   "cell_type": "code",
   "execution_count": 44,
   "id": "5a18aed4-9739-45d1-a3a5-1163a9abca57",
   "metadata": {
    "tags": []
   },
   "outputs": [
    {
     "data": {
      "image/png": "[encoded data removed]",
      "text/plain": [
       "<Figure size 1400x600 with 1 Axes>"
      ]
     },
     "metadata": {},
     "output_type": "display_data"
    }
   ],
   "source": [
    "# Convert relevant columns to numeric (in case they're not already)\n",
    "df['Age'] = pd.to_numeric(df['Age'], errors='coerce')\n",
    "df['Crdy'] = pd.to_numeric(df['Crdy'], errors='coerce')\n",
    "df['Crdr'] = pd.to_numeric(df['Crdr'], errors='coerce')\n",
    "\n",
    "# Create a bar chart for yellow and red cards by age\n",
    "plt.figure(figsize=(14, 6))\n",
    "sns.barplot(x='Age', y='Crdy', data=df, color='orange', label='Yellow Cards')\n",
    "sns.barplot(x='Age', y='Crdr', data=df, color='red', label='Red Cards')\n",
    "\n",
    "# Set plot labels and title\n",
    "plt.xlabel('Player Age')\n",
    "plt.ylabel('Number of Cards')\n",
    "plt.title('Relationship between Age and Disciplinary Actions')\n",
    "plt.legend()\n",
    "plt.show()"
   ]
  },
  {
   "cell_type": "markdown",
   "id": "f301fecb-39f7-4376-91fb-c6bb9666b129",
   "metadata": {},
   "source": [
    "The visualization show that player at the range of 18years recieve the lowest yellow card while players at the range of 28years recieve the highest yellow card.\n",
    "Also the player at the range of 28years recieve the highest red while player at the range of 18,33,36,37,38 and 39 do not recieve any"
   ]
  },
  {
   "cell_type": "markdown",
   "id": "8327fc5c-8958-4454-b5be-b18801b8e006",
   "metadata": {},
   "source": [
    "## 30. Calculate the average age for players from different nationalities (Nations)."
   ]
  },
  {
   "cell_type": "code",
   "execution_count": 45,
   "id": "e84b309f-5a48-46da-9fbe-67c80a444f1d",
   "metadata": {
    "tags": []
   },
   "outputs": [
    {
     "name": "stdout",
     "output_type": "stream",
     "text": [
      "Average age for players from different nationalities:\n",
      "Nation\n",
      "ALB    19.000\n",
      "ALG    27.500\n",
      "ANG    27.000\n",
      "ARG    27.625\n",
      "AUT    27.000\n",
      "        ...  \n",
      "USA    22.000\n",
      "VEN    31.000\n",
      "WAL    22.875\n",
      "ZAM    22.500\n",
      "ZIM    27.000\n",
      "Name: Age, Length: 66, dtype: float64\n"
     ]
    }
   ],
   "source": [
    "# Convert the 'Age' column to numeric (in case it's not already)\n",
    "df['Age'] = pd.to_numeric(df['Age'], errors='coerce')\n",
    "\n",
    "# Calculate the average age for players from different nationalities\n",
    "average_age_by_nation = df.groupby('Nation')['Age'].mean()\n",
    "\n",
    "# Display the average age for players from different nationalities\n",
    "print(\"Average age for players from different nationalities:\")\n",
    "print(average_age_by_nation)"
   ]
  },
  {
   "cell_type": "markdown",
   "id": "72680d94-a226-462d-84f5-f48b1ef0a5c8",
   "metadata": {},
   "source": [
    "## In conclusion, football players play a central role in the vibrant and dynamic world of football. As athletes, they bring a unique combination of physical prowess and technical skill to the pitch. The diverse positions, roles, and playing styles contribute to the rich tapestry of the sport. From forwards who strive to score goals to goalkeepers who defend the net, each player plays a crucial part in the team's success."
   ]
  },
  {
   "cell_type": "markdown",
   "id": "38999e92-458f-4dae-a327-55798e8cd0b7",
   "metadata": {},
   "source": [
    "# THANK YOU"
   ]
  },
  {
   "cell_type": "code",
   "execution_count": null,
   "id": "cacf49e6-a6d8-4c21-b75f-519dc01d2c79",
   "metadata": {},
   "outputs": [],
   "source": []
  }
 ],
 "metadata": {
  "kernelspec": {
   "display_name": "Python 3 (ipykernel)",
   "language": "python",
   "name": "python3"
  },
  "language_info": {
   "codemirror_mode": {
    "name": "ipython",
    "version": 3
   },
   "file_extension": ".py",
   "mimetype": "text/x-python",
   "name": "python",
   "nbconvert_exporter": "python",
   "pygments_lexer": "ipython3",
   "version": "3.11.4"
  },
  "widgets": {
   "application/vnd.jupyter.widget-state+json": {
    "state": {},
    "version_major": 2,
    "version_minor": 0
   }
  }
 },
 "nbformat": 4,
 "nbformat_minor": 5
}
