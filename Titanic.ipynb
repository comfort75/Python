{
 "cells": [
  {
   "cell_type": "markdown",
   "id": "d63acfbb-c338-4576-8bf5-daa62862b4b2",
   "metadata": {},
   "source": [
    "## Titanic"
   ]
  },
  {
   "cell_type": "markdown",
   "id": "f53bcbb9-178d-47ae-a4b8-01309354747d",
   "metadata": {},
   "source": [
    "## Introduction"
   ]
  },
  {
   "cell_type": "markdown",
   "id": "2d0feae0-656b-46d4-927f-6130c4810280",
   "metadata": {},
   "source": [
    "## The Titanic was a British passenger liner that tragically sank on its maiden voyage from Southampton to New York City. The sinking of the Titanic is one of the most well-known maritime disasters in history. And looking at the history of this disasters many lifes were lost and some survived which is the main reason for this analysis in order to know the rate of people that survived and people that lost their life in this disaster and also to work toward avoiding any occurence like this."
   ]
  },
  {
   "cell_type": "markdown",
   "id": "aa7f0292-c431-4222-ba3b-b473c9bb10da",
   "metadata": {},
   "source": [
    "## Import the neccesary libaries"
   ]
  },
  {
   "cell_type": "code",
   "execution_count": 1,
   "id": "3066de16-ee75-4525-b89a-b59c9ce25d73",
   "metadata": {
    "tags": []
   },
   "outputs": [],
   "source": [
    "import numpy as np\n",
    "import pandas as pd \n",
    "import matplotlib.pyplot as plt\n",
    "import seaborn as sns"
   ]
  },
  {
   "cell_type": "code",
   "execution_count": 2,
   "id": "a610693d-952b-40ed-bbb0-fde86a5902db",
   "metadata": {},
   "outputs": [],
   "source": [
    "df=pd.read_csv(r\"C:\\Users\\COMFORT\\OneDrive\\Documents\\TITANIC.csv\")"
   ]
  },
  {
   "cell_type": "code",
   "execution_count": 3,
   "id": "5ba13f71-812e-4075-9f1a-a081d3d60390",
   "metadata": {
    "tags": []
   },
   "outputs": [
    {
     "data": {
      "text/html": [
       "<div>\n",
       "<style scoped>\n",
       "    .dataframe tbody tr th:only-of-type {\n",
       "        vertical-align: middle;\n",
       "    }\n",
       "\n",
       "    .dataframe tbody tr th {\n",
       "        vertical-align: top;\n",
       "    }\n",
       "\n",
       "    .dataframe thead th {\n",
       "        text-align: right;\n",
       "    }\n",
       "</style>\n",
       "<table border=\"1\" class=\"dataframe\">\n",
       "  <thead>\n",
       "    <tr style=\"text-align: right;\">\n",
       "      <th></th>\n",
       "      <th>PassengerId</th>\n",
       "      <th>Survived</th>\n",
       "      <th>Pclass</th>\n",
       "      <th>Name</th>\n",
       "      <th>Sex</th>\n",
       "      <th>Age</th>\n",
       "      <th>SibSp</th>\n",
       "      <th>Parch</th>\n",
       "      <th>Ticket</th>\n",
       "      <th>Fare</th>\n",
       "      <th>Cabin</th>\n",
       "      <th>Embarked</th>\n",
       "    </tr>\n",
       "  </thead>\n",
       "  <tbody>\n",
       "    <tr>\n",
       "      <th>0</th>\n",
       "      <td>1</td>\n",
       "      <td>0</td>\n",
       "      <td>3</td>\n",
       "      <td>Braund, Mr. Owen Harris</td>\n",
       "      <td>male</td>\n",
       "      <td>22.0</td>\n",
       "      <td>1</td>\n",
       "      <td>0</td>\n",
       "      <td>A/5 21171</td>\n",
       "      <td>7.2500</td>\n",
       "      <td>NaN</td>\n",
       "      <td>S</td>\n",
       "    </tr>\n",
       "    <tr>\n",
       "      <th>1</th>\n",
       "      <td>2</td>\n",
       "      <td>1</td>\n",
       "      <td>1</td>\n",
       "      <td>Cumings, Mrs. John Bradley (Florence Briggs Th...</td>\n",
       "      <td>female</td>\n",
       "      <td>38.0</td>\n",
       "      <td>1</td>\n",
       "      <td>0</td>\n",
       "      <td>PC 17599</td>\n",
       "      <td>71.2833</td>\n",
       "      <td>C85</td>\n",
       "      <td>C</td>\n",
       "    </tr>\n",
       "    <tr>\n",
       "      <th>2</th>\n",
       "      <td>3</td>\n",
       "      <td>1</td>\n",
       "      <td>3</td>\n",
       "      <td>Heikkinen, Miss. Laina</td>\n",
       "      <td>female</td>\n",
       "      <td>26.0</td>\n",
       "      <td>0</td>\n",
       "      <td>0</td>\n",
       "      <td>STON/O2. 3101282</td>\n",
       "      <td>7.9250</td>\n",
       "      <td>NaN</td>\n",
       "      <td>S</td>\n",
       "    </tr>\n",
       "    <tr>\n",
       "      <th>3</th>\n",
       "      <td>4</td>\n",
       "      <td>1</td>\n",
       "      <td>1</td>\n",
       "      <td>Futrelle, Mrs. Jacques Heath (Lily May Peel)</td>\n",
       "      <td>female</td>\n",
       "      <td>35.0</td>\n",
       "      <td>1</td>\n",
       "      <td>0</td>\n",
       "      <td>113803</td>\n",
       "      <td>53.1000</td>\n",
       "      <td>C123</td>\n",
       "      <td>S</td>\n",
       "    </tr>\n",
       "    <tr>\n",
       "      <th>4</th>\n",
       "      <td>5</td>\n",
       "      <td>0</td>\n",
       "      <td>3</td>\n",
       "      <td>Allen, Mr. William Henry</td>\n",
       "      <td>male</td>\n",
       "      <td>35.0</td>\n",
       "      <td>0</td>\n",
       "      <td>0</td>\n",
       "      <td>373450</td>\n",
       "      <td>8.0500</td>\n",
       "      <td>NaN</td>\n",
       "      <td>S</td>\n",
       "    </tr>\n",
       "    <tr>\n",
       "      <th>...</th>\n",
       "      <td>...</td>\n",
       "      <td>...</td>\n",
       "      <td>...</td>\n",
       "      <td>...</td>\n",
       "      <td>...</td>\n",
       "      <td>...</td>\n",
       "      <td>...</td>\n",
       "      <td>...</td>\n",
       "      <td>...</td>\n",
       "      <td>...</td>\n",
       "      <td>...</td>\n",
       "      <td>...</td>\n",
       "    </tr>\n",
       "    <tr>\n",
       "      <th>886</th>\n",
       "      <td>887</td>\n",
       "      <td>0</td>\n",
       "      <td>2</td>\n",
       "      <td>Montvila, Rev. Juozas</td>\n",
       "      <td>male</td>\n",
       "      <td>27.0</td>\n",
       "      <td>0</td>\n",
       "      <td>0</td>\n",
       "      <td>211536</td>\n",
       "      <td>13.0000</td>\n",
       "      <td>NaN</td>\n",
       "      <td>S</td>\n",
       "    </tr>\n",
       "    <tr>\n",
       "      <th>887</th>\n",
       "      <td>888</td>\n",
       "      <td>1</td>\n",
       "      <td>1</td>\n",
       "      <td>Graham, Miss. Margaret Edith</td>\n",
       "      <td>female</td>\n",
       "      <td>19.0</td>\n",
       "      <td>0</td>\n",
       "      <td>0</td>\n",
       "      <td>112053</td>\n",
       "      <td>30.0000</td>\n",
       "      <td>B42</td>\n",
       "      <td>S</td>\n",
       "    </tr>\n",
       "    <tr>\n",
       "      <th>888</th>\n",
       "      <td>889</td>\n",
       "      <td>0</td>\n",
       "      <td>3</td>\n",
       "      <td>Johnston, Miss. Catherine Helen \"Carrie\"</td>\n",
       "      <td>female</td>\n",
       "      <td>NaN</td>\n",
       "      <td>1</td>\n",
       "      <td>2</td>\n",
       "      <td>W./C. 6607</td>\n",
       "      <td>23.4500</td>\n",
       "      <td>NaN</td>\n",
       "      <td>S</td>\n",
       "    </tr>\n",
       "    <tr>\n",
       "      <th>889</th>\n",
       "      <td>890</td>\n",
       "      <td>1</td>\n",
       "      <td>1</td>\n",
       "      <td>Behr, Mr. Karl Howell</td>\n",
       "      <td>male</td>\n",
       "      <td>26.0</td>\n",
       "      <td>0</td>\n",
       "      <td>0</td>\n",
       "      <td>111369</td>\n",
       "      <td>30.0000</td>\n",
       "      <td>C148</td>\n",
       "      <td>C</td>\n",
       "    </tr>\n",
       "    <tr>\n",
       "      <th>890</th>\n",
       "      <td>891</td>\n",
       "      <td>0</td>\n",
       "      <td>3</td>\n",
       "      <td>Dooley, Mr. Patrick</td>\n",
       "      <td>male</td>\n",
       "      <td>32.0</td>\n",
       "      <td>0</td>\n",
       "      <td>0</td>\n",
       "      <td>370376</td>\n",
       "      <td>7.7500</td>\n",
       "      <td>NaN</td>\n",
       "      <td>Q</td>\n",
       "    </tr>\n",
       "  </tbody>\n",
       "</table>\n",
       "<p>891 rows × 12 columns</p>\n",
       "</div>"
      ],
      "text/plain": [
       "     PassengerId  Survived  Pclass  \\\n",
       "0              1         0       3   \n",
       "1              2         1       1   \n",
       "2              3         1       3   \n",
       "3              4         1       1   \n",
       "4              5         0       3   \n",
       "..           ...       ...     ...   \n",
       "886          887         0       2   \n",
       "887          888         1       1   \n",
       "888          889         0       3   \n",
       "889          890         1       1   \n",
       "890          891         0       3   \n",
       "\n",
       "                                                  Name     Sex   Age  SibSp  \\\n",
       "0                              Braund, Mr. Owen Harris    male  22.0      1   \n",
       "1    Cumings, Mrs. John Bradley (Florence Briggs Th...  female  38.0      1   \n",
       "2                               Heikkinen, Miss. Laina  female  26.0      0   \n",
       "3         Futrelle, Mrs. Jacques Heath (Lily May Peel)  female  35.0      1   \n",
       "4                             Allen, Mr. William Henry    male  35.0      0   \n",
       "..                                                 ...     ...   ...    ...   \n",
       "886                              Montvila, Rev. Juozas    male  27.0      0   \n",
       "887                       Graham, Miss. Margaret Edith  female  19.0      0   \n",
       "888           Johnston, Miss. Catherine Helen \"Carrie\"  female   NaN      1   \n",
       "889                              Behr, Mr. Karl Howell    male  26.0      0   \n",
       "890                                Dooley, Mr. Patrick    male  32.0      0   \n",
       "\n",
       "     Parch            Ticket     Fare Cabin Embarked  \n",
       "0        0         A/5 21171   7.2500   NaN        S  \n",
       "1        0          PC 17599  71.2833   C85        C  \n",
       "2        0  STON/O2. 3101282   7.9250   NaN        S  \n",
       "3        0            113803  53.1000  C123        S  \n",
       "4        0            373450   8.0500   NaN        S  \n",
       "..     ...               ...      ...   ...      ...  \n",
       "886      0            211536  13.0000   NaN        S  \n",
       "887      0            112053  30.0000   B42        S  \n",
       "888      2        W./C. 6607  23.4500   NaN        S  \n",
       "889      0            111369  30.0000  C148        C  \n",
       "890      0            370376   7.7500   NaN        Q  \n",
       "\n",
       "[891 rows x 12 columns]"
      ]
     },
     "execution_count": 3,
     "metadata": {},
     "output_type": "execute_result"
    }
   ],
   "source": [
    "df"
   ]
  },
  {
   "cell_type": "code",
   "execution_count": 4,
   "id": "f8c3b1e2-303d-4423-acd2-5806521c794c",
   "metadata": {
    "tags": []
   },
   "outputs": [
    {
     "data": {
      "text/html": [
       "<div>\n",
       "<style scoped>\n",
       "    .dataframe tbody tr th:only-of-type {\n",
       "        vertical-align: middle;\n",
       "    }\n",
       "\n",
       "    .dataframe tbody tr th {\n",
       "        vertical-align: top;\n",
       "    }\n",
       "\n",
       "    .dataframe thead th {\n",
       "        text-align: right;\n",
       "    }\n",
       "</style>\n",
       "<table border=\"1\" class=\"dataframe\">\n",
       "  <thead>\n",
       "    <tr style=\"text-align: right;\">\n",
       "      <th></th>\n",
       "      <th>PassengerId</th>\n",
       "      <th>Survived</th>\n",
       "      <th>Pclass</th>\n",
       "      <th>Name</th>\n",
       "      <th>Sex</th>\n",
       "      <th>Age</th>\n",
       "      <th>SibSp</th>\n",
       "      <th>Parch</th>\n",
       "      <th>Ticket</th>\n",
       "      <th>Fare</th>\n",
       "      <th>Cabin</th>\n",
       "      <th>Embarked</th>\n",
       "    </tr>\n",
       "  </thead>\n",
       "  <tbody>\n",
       "    <tr>\n",
       "      <th>0</th>\n",
       "      <td>1</td>\n",
       "      <td>0</td>\n",
       "      <td>3</td>\n",
       "      <td>Braund, Mr. Owen Harris</td>\n",
       "      <td>male</td>\n",
       "      <td>22.0</td>\n",
       "      <td>1</td>\n",
       "      <td>0</td>\n",
       "      <td>A/5 21171</td>\n",
       "      <td>7.2500</td>\n",
       "      <td>NaN</td>\n",
       "      <td>S</td>\n",
       "    </tr>\n",
       "    <tr>\n",
       "      <th>1</th>\n",
       "      <td>2</td>\n",
       "      <td>1</td>\n",
       "      <td>1</td>\n",
       "      <td>Cumings, Mrs. John Bradley (Florence Briggs Th...</td>\n",
       "      <td>female</td>\n",
       "      <td>38.0</td>\n",
       "      <td>1</td>\n",
       "      <td>0</td>\n",
       "      <td>PC 17599</td>\n",
       "      <td>71.2833</td>\n",
       "      <td>C85</td>\n",
       "      <td>C</td>\n",
       "    </tr>\n",
       "    <tr>\n",
       "      <th>2</th>\n",
       "      <td>3</td>\n",
       "      <td>1</td>\n",
       "      <td>3</td>\n",
       "      <td>Heikkinen, Miss. Laina</td>\n",
       "      <td>female</td>\n",
       "      <td>26.0</td>\n",
       "      <td>0</td>\n",
       "      <td>0</td>\n",
       "      <td>STON/O2. 3101282</td>\n",
       "      <td>7.9250</td>\n",
       "      <td>NaN</td>\n",
       "      <td>S</td>\n",
       "    </tr>\n",
       "    <tr>\n",
       "      <th>3</th>\n",
       "      <td>4</td>\n",
       "      <td>1</td>\n",
       "      <td>1</td>\n",
       "      <td>Futrelle, Mrs. Jacques Heath (Lily May Peel)</td>\n",
       "      <td>female</td>\n",
       "      <td>35.0</td>\n",
       "      <td>1</td>\n",
       "      <td>0</td>\n",
       "      <td>113803</td>\n",
       "      <td>53.1000</td>\n",
       "      <td>C123</td>\n",
       "      <td>S</td>\n",
       "    </tr>\n",
       "    <tr>\n",
       "      <th>4</th>\n",
       "      <td>5</td>\n",
       "      <td>0</td>\n",
       "      <td>3</td>\n",
       "      <td>Allen, Mr. William Henry</td>\n",
       "      <td>male</td>\n",
       "      <td>35.0</td>\n",
       "      <td>0</td>\n",
       "      <td>0</td>\n",
       "      <td>373450</td>\n",
       "      <td>8.0500</td>\n",
       "      <td>NaN</td>\n",
       "      <td>S</td>\n",
       "    </tr>\n",
       "    <tr>\n",
       "      <th>5</th>\n",
       "      <td>6</td>\n",
       "      <td>0</td>\n",
       "      <td>3</td>\n",
       "      <td>Moran, Mr. James</td>\n",
       "      <td>male</td>\n",
       "      <td>NaN</td>\n",
       "      <td>0</td>\n",
       "      <td>0</td>\n",
       "      <td>330877</td>\n",
       "      <td>8.4583</td>\n",
       "      <td>NaN</td>\n",
       "      <td>Q</td>\n",
       "    </tr>\n",
       "    <tr>\n",
       "      <th>6</th>\n",
       "      <td>7</td>\n",
       "      <td>0</td>\n",
       "      <td>1</td>\n",
       "      <td>McCarthy, Mr. Timothy J</td>\n",
       "      <td>male</td>\n",
       "      <td>54.0</td>\n",
       "      <td>0</td>\n",
       "      <td>0</td>\n",
       "      <td>17463</td>\n",
       "      <td>51.8625</td>\n",
       "      <td>E46</td>\n",
       "      <td>S</td>\n",
       "    </tr>\n",
       "  </tbody>\n",
       "</table>\n",
       "</div>"
      ],
      "text/plain": [
       "   PassengerId  Survived  Pclass  \\\n",
       "0            1         0       3   \n",
       "1            2         1       1   \n",
       "2            3         1       3   \n",
       "3            4         1       1   \n",
       "4            5         0       3   \n",
       "5            6         0       3   \n",
       "6            7         0       1   \n",
       "\n",
       "                                                Name     Sex   Age  SibSp  \\\n",
       "0                            Braund, Mr. Owen Harris    male  22.0      1   \n",
       "1  Cumings, Mrs. John Bradley (Florence Briggs Th...  female  38.0      1   \n",
       "2                             Heikkinen, Miss. Laina  female  26.0      0   \n",
       "3       Futrelle, Mrs. Jacques Heath (Lily May Peel)  female  35.0      1   \n",
       "4                           Allen, Mr. William Henry    male  35.0      0   \n",
       "5                                   Moran, Mr. James    male   NaN      0   \n",
       "6                            McCarthy, Mr. Timothy J    male  54.0      0   \n",
       "\n",
       "   Parch            Ticket     Fare Cabin Embarked  \n",
       "0      0         A/5 21171   7.2500   NaN        S  \n",
       "1      0          PC 17599  71.2833   C85        C  \n",
       "2      0  STON/O2. 3101282   7.9250   NaN        S  \n",
       "3      0            113803  53.1000  C123        S  \n",
       "4      0            373450   8.0500   NaN        S  \n",
       "5      0            330877   8.4583   NaN        Q  \n",
       "6      0             17463  51.8625   E46        S  "
      ]
     },
     "execution_count": 4,
     "metadata": {},
     "output_type": "execute_result"
    }
   ],
   "source": [
    "df.head(7)"
   ]
  },
  {
   "cell_type": "code",
   "execution_count": 5,
   "id": "5e9336bc-8d2f-49b6-ac5b-6af44540f315",
   "metadata": {
    "tags": []
   },
   "outputs": [
    {
     "data": {
      "text/html": [
       "<div>\n",
       "<style scoped>\n",
       "    .dataframe tbody tr th:only-of-type {\n",
       "        vertical-align: middle;\n",
       "    }\n",
       "\n",
       "    .dataframe tbody tr th {\n",
       "        vertical-align: top;\n",
       "    }\n",
       "\n",
       "    .dataframe thead th {\n",
       "        text-align: right;\n",
       "    }\n",
       "</style>\n",
       "<table border=\"1\" class=\"dataframe\">\n",
       "  <thead>\n",
       "    <tr style=\"text-align: right;\">\n",
       "      <th></th>\n",
       "      <th>PassengerId</th>\n",
       "      <th>Survived</th>\n",
       "      <th>Pclass</th>\n",
       "      <th>Name</th>\n",
       "      <th>Sex</th>\n",
       "      <th>Age</th>\n",
       "      <th>SibSp</th>\n",
       "      <th>Parch</th>\n",
       "      <th>Ticket</th>\n",
       "      <th>Fare</th>\n",
       "      <th>Cabin</th>\n",
       "      <th>Embarked</th>\n",
       "    </tr>\n",
       "  </thead>\n",
       "  <tbody>\n",
       "    <tr>\n",
       "      <th>886</th>\n",
       "      <td>887</td>\n",
       "      <td>0</td>\n",
       "      <td>2</td>\n",
       "      <td>Montvila, Rev. Juozas</td>\n",
       "      <td>male</td>\n",
       "      <td>27.0</td>\n",
       "      <td>0</td>\n",
       "      <td>0</td>\n",
       "      <td>211536</td>\n",
       "      <td>13.00</td>\n",
       "      <td>NaN</td>\n",
       "      <td>S</td>\n",
       "    </tr>\n",
       "    <tr>\n",
       "      <th>887</th>\n",
       "      <td>888</td>\n",
       "      <td>1</td>\n",
       "      <td>1</td>\n",
       "      <td>Graham, Miss. Margaret Edith</td>\n",
       "      <td>female</td>\n",
       "      <td>19.0</td>\n",
       "      <td>0</td>\n",
       "      <td>0</td>\n",
       "      <td>112053</td>\n",
       "      <td>30.00</td>\n",
       "      <td>B42</td>\n",
       "      <td>S</td>\n",
       "    </tr>\n",
       "    <tr>\n",
       "      <th>888</th>\n",
       "      <td>889</td>\n",
       "      <td>0</td>\n",
       "      <td>3</td>\n",
       "      <td>Johnston, Miss. Catherine Helen \"Carrie\"</td>\n",
       "      <td>female</td>\n",
       "      <td>NaN</td>\n",
       "      <td>1</td>\n",
       "      <td>2</td>\n",
       "      <td>W./C. 6607</td>\n",
       "      <td>23.45</td>\n",
       "      <td>NaN</td>\n",
       "      <td>S</td>\n",
       "    </tr>\n",
       "    <tr>\n",
       "      <th>889</th>\n",
       "      <td>890</td>\n",
       "      <td>1</td>\n",
       "      <td>1</td>\n",
       "      <td>Behr, Mr. Karl Howell</td>\n",
       "      <td>male</td>\n",
       "      <td>26.0</td>\n",
       "      <td>0</td>\n",
       "      <td>0</td>\n",
       "      <td>111369</td>\n",
       "      <td>30.00</td>\n",
       "      <td>C148</td>\n",
       "      <td>C</td>\n",
       "    </tr>\n",
       "    <tr>\n",
       "      <th>890</th>\n",
       "      <td>891</td>\n",
       "      <td>0</td>\n",
       "      <td>3</td>\n",
       "      <td>Dooley, Mr. Patrick</td>\n",
       "      <td>male</td>\n",
       "      <td>32.0</td>\n",
       "      <td>0</td>\n",
       "      <td>0</td>\n",
       "      <td>370376</td>\n",
       "      <td>7.75</td>\n",
       "      <td>NaN</td>\n",
       "      <td>Q</td>\n",
       "    </tr>\n",
       "  </tbody>\n",
       "</table>\n",
       "</div>"
      ],
      "text/plain": [
       "     PassengerId  Survived  Pclass                                      Name  \\\n",
       "886          887         0       2                     Montvila, Rev. Juozas   \n",
       "887          888         1       1              Graham, Miss. Margaret Edith   \n",
       "888          889         0       3  Johnston, Miss. Catherine Helen \"Carrie\"   \n",
       "889          890         1       1                     Behr, Mr. Karl Howell   \n",
       "890          891         0       3                       Dooley, Mr. Patrick   \n",
       "\n",
       "        Sex   Age  SibSp  Parch      Ticket   Fare Cabin Embarked  \n",
       "886    male  27.0      0      0      211536  13.00   NaN        S  \n",
       "887  female  19.0      0      0      112053  30.00   B42        S  \n",
       "888  female   NaN      1      2  W./C. 6607  23.45   NaN        S  \n",
       "889    male  26.0      0      0      111369  30.00  C148        C  \n",
       "890    male  32.0      0      0      370376   7.75   NaN        Q  "
      ]
     },
     "execution_count": 5,
     "metadata": {},
     "output_type": "execute_result"
    }
   ],
   "source": [
    "df.tail(5)"
   ]
  },
  {
   "cell_type": "code",
   "execution_count": 6,
   "id": "25e71ef5-125c-4b68-8102-b1de13f51527",
   "metadata": {
    "tags": []
   },
   "outputs": [
    {
     "name": "stdout",
     "output_type": "stream",
     "text": [
      "<class 'pandas.core.frame.DataFrame'>\n",
      "RangeIndex: 891 entries, 0 to 890\n",
      "Data columns (total 12 columns):\n",
      " #   Column       Non-Null Count  Dtype  \n",
      "---  ------       --------------  -----  \n",
      " 0   PassengerId  891 non-null    int64  \n",
      " 1   Survived     891 non-null    int64  \n",
      " 2   Pclass       891 non-null    int64  \n",
      " 3   Name         891 non-null    object \n",
      " 4   Sex          891 non-null    object \n",
      " 5   Age          714 non-null    float64\n",
      " 6   SibSp        891 non-null    int64  \n",
      " 7   Parch        891 non-null    int64  \n",
      " 8   Ticket       891 non-null    object \n",
      " 9   Fare         891 non-null    float64\n",
      " 10  Cabin        204 non-null    object \n",
      " 11  Embarked     889 non-null    object \n",
      "dtypes: float64(2), int64(5), object(5)\n",
      "memory usage: 83.7+ KB\n"
     ]
    }
   ],
   "source": [
    "df.info()"
   ]
  },
  {
   "cell_type": "code",
   "execution_count": 7,
   "id": "c9c362d0-f94c-43f7-9895-70710bbd8366",
   "metadata": {
    "tags": []
   },
   "outputs": [
    {
     "data": {
      "text/html": [
       "<div>\n",
       "<style scoped>\n",
       "    .dataframe tbody tr th:only-of-type {\n",
       "        vertical-align: middle;\n",
       "    }\n",
       "\n",
       "    .dataframe tbody tr th {\n",
       "        vertical-align: top;\n",
       "    }\n",
       "\n",
       "    .dataframe thead th {\n",
       "        text-align: right;\n",
       "    }\n",
       "</style>\n",
       "<table border=\"1\" class=\"dataframe\">\n",
       "  <thead>\n",
       "    <tr style=\"text-align: right;\">\n",
       "      <th></th>\n",
       "      <th>PassengerId</th>\n",
       "      <th>Survived</th>\n",
       "      <th>Pclass</th>\n",
       "      <th>Age</th>\n",
       "      <th>SibSp</th>\n",
       "      <th>Parch</th>\n",
       "      <th>Fare</th>\n",
       "    </tr>\n",
       "  </thead>\n",
       "  <tbody>\n",
       "    <tr>\n",
       "      <th>count</th>\n",
       "      <td>891.000000</td>\n",
       "      <td>891.000000</td>\n",
       "      <td>891.000000</td>\n",
       "      <td>714.000000</td>\n",
       "      <td>891.000000</td>\n",
       "      <td>891.000000</td>\n",
       "      <td>891.000000</td>\n",
       "    </tr>\n",
       "    <tr>\n",
       "      <th>mean</th>\n",
       "      <td>446.000000</td>\n",
       "      <td>0.383838</td>\n",
       "      <td>2.308642</td>\n",
       "      <td>29.699118</td>\n",
       "      <td>0.523008</td>\n",
       "      <td>0.381594</td>\n",
       "      <td>32.204208</td>\n",
       "    </tr>\n",
       "    <tr>\n",
       "      <th>std</th>\n",
       "      <td>257.353842</td>\n",
       "      <td>0.486592</td>\n",
       "      <td>0.836071</td>\n",
       "      <td>14.526497</td>\n",
       "      <td>1.102743</td>\n",
       "      <td>0.806057</td>\n",
       "      <td>49.693429</td>\n",
       "    </tr>\n",
       "    <tr>\n",
       "      <th>min</th>\n",
       "      <td>1.000000</td>\n",
       "      <td>0.000000</td>\n",
       "      <td>1.000000</td>\n",
       "      <td>0.420000</td>\n",
       "      <td>0.000000</td>\n",
       "      <td>0.000000</td>\n",
       "      <td>0.000000</td>\n",
       "    </tr>\n",
       "    <tr>\n",
       "      <th>25%</th>\n",
       "      <td>223.500000</td>\n",
       "      <td>0.000000</td>\n",
       "      <td>2.000000</td>\n",
       "      <td>20.125000</td>\n",
       "      <td>0.000000</td>\n",
       "      <td>0.000000</td>\n",
       "      <td>7.910400</td>\n",
       "    </tr>\n",
       "    <tr>\n",
       "      <th>50%</th>\n",
       "      <td>446.000000</td>\n",
       "      <td>0.000000</td>\n",
       "      <td>3.000000</td>\n",
       "      <td>28.000000</td>\n",
       "      <td>0.000000</td>\n",
       "      <td>0.000000</td>\n",
       "      <td>14.454200</td>\n",
       "    </tr>\n",
       "    <tr>\n",
       "      <th>75%</th>\n",
       "      <td>668.500000</td>\n",
       "      <td>1.000000</td>\n",
       "      <td>3.000000</td>\n",
       "      <td>38.000000</td>\n",
       "      <td>1.000000</td>\n",
       "      <td>0.000000</td>\n",
       "      <td>31.000000</td>\n",
       "    </tr>\n",
       "    <tr>\n",
       "      <th>max</th>\n",
       "      <td>891.000000</td>\n",
       "      <td>1.000000</td>\n",
       "      <td>3.000000</td>\n",
       "      <td>80.000000</td>\n",
       "      <td>8.000000</td>\n",
       "      <td>6.000000</td>\n",
       "      <td>512.329200</td>\n",
       "    </tr>\n",
       "  </tbody>\n",
       "</table>\n",
       "</div>"
      ],
      "text/plain": [
       "       PassengerId    Survived      Pclass         Age       SibSp  \\\n",
       "count   891.000000  891.000000  891.000000  714.000000  891.000000   \n",
       "mean    446.000000    0.383838    2.308642   29.699118    0.523008   \n",
       "std     257.353842    0.486592    0.836071   14.526497    1.102743   \n",
       "min       1.000000    0.000000    1.000000    0.420000    0.000000   \n",
       "25%     223.500000    0.000000    2.000000   20.125000    0.000000   \n",
       "50%     446.000000    0.000000    3.000000   28.000000    0.000000   \n",
       "75%     668.500000    1.000000    3.000000   38.000000    1.000000   \n",
       "max     891.000000    1.000000    3.000000   80.000000    8.000000   \n",
       "\n",
       "            Parch        Fare  \n",
       "count  891.000000  891.000000  \n",
       "mean     0.381594   32.204208  \n",
       "std      0.806057   49.693429  \n",
       "min      0.000000    0.000000  \n",
       "25%      0.000000    7.910400  \n",
       "50%      0.000000   14.454200  \n",
       "75%      0.000000   31.000000  \n",
       "max      6.000000  512.329200  "
      ]
     },
     "execution_count": 7,
     "metadata": {},
     "output_type": "execute_result"
    }
   ],
   "source": [
    "df.describe()"
   ]
  },
  {
   "cell_type": "code",
   "execution_count": 8,
   "id": "41392286-2f29-4063-92b3-4e0dbc92a1f1",
   "metadata": {
    "tags": []
   },
   "outputs": [
    {
     "data": {
      "text/html": [
       "<div>\n",
       "<style scoped>\n",
       "    .dataframe tbody tr th:only-of-type {\n",
       "        vertical-align: middle;\n",
       "    }\n",
       "\n",
       "    .dataframe tbody tr th {\n",
       "        vertical-align: top;\n",
       "    }\n",
       "\n",
       "    .dataframe thead th {\n",
       "        text-align: right;\n",
       "    }\n",
       "</style>\n",
       "<table border=\"1\" class=\"dataframe\">\n",
       "  <thead>\n",
       "    <tr style=\"text-align: right;\">\n",
       "      <th></th>\n",
       "      <th>PassengerId</th>\n",
       "      <th>Survived</th>\n",
       "      <th>Pclass</th>\n",
       "      <th>Name</th>\n",
       "      <th>Sex</th>\n",
       "      <th>Age</th>\n",
       "      <th>SibSp</th>\n",
       "      <th>Parch</th>\n",
       "      <th>Ticket</th>\n",
       "      <th>Fare</th>\n",
       "      <th>Cabin</th>\n",
       "      <th>Embarked</th>\n",
       "    </tr>\n",
       "  </thead>\n",
       "  <tbody>\n",
       "    <tr>\n",
       "      <th>527</th>\n",
       "      <td>528</td>\n",
       "      <td>0</td>\n",
       "      <td>1</td>\n",
       "      <td>Farthing, Mr. John</td>\n",
       "      <td>male</td>\n",
       "      <td>NaN</td>\n",
       "      <td>0</td>\n",
       "      <td>0</td>\n",
       "      <td>PC 17483</td>\n",
       "      <td>221.7792</td>\n",
       "      <td>C95</td>\n",
       "      <td>S</td>\n",
       "    </tr>\n",
       "    <tr>\n",
       "      <th>441</th>\n",
       "      <td>442</td>\n",
       "      <td>0</td>\n",
       "      <td>3</td>\n",
       "      <td>Hampe, Mr. Leon</td>\n",
       "      <td>male</td>\n",
       "      <td>20.0</td>\n",
       "      <td>0</td>\n",
       "      <td>0</td>\n",
       "      <td>345769</td>\n",
       "      <td>9.5000</td>\n",
       "      <td>NaN</td>\n",
       "      <td>S</td>\n",
       "    </tr>\n",
       "    <tr>\n",
       "      <th>588</th>\n",
       "      <td>589</td>\n",
       "      <td>0</td>\n",
       "      <td>3</td>\n",
       "      <td>Gilinski, Mr. Eliezer</td>\n",
       "      <td>male</td>\n",
       "      <td>22.0</td>\n",
       "      <td>0</td>\n",
       "      <td>0</td>\n",
       "      <td>14973</td>\n",
       "      <td>8.0500</td>\n",
       "      <td>NaN</td>\n",
       "      <td>S</td>\n",
       "    </tr>\n",
       "    <tr>\n",
       "      <th>92</th>\n",
       "      <td>93</td>\n",
       "      <td>0</td>\n",
       "      <td>1</td>\n",
       "      <td>Chaffee, Mr. Herbert Fuller</td>\n",
       "      <td>male</td>\n",
       "      <td>46.0</td>\n",
       "      <td>1</td>\n",
       "      <td>0</td>\n",
       "      <td>W.E.P. 5734</td>\n",
       "      <td>61.1750</td>\n",
       "      <td>E31</td>\n",
       "      <td>S</td>\n",
       "    </tr>\n",
       "  </tbody>\n",
       "</table>\n",
       "</div>"
      ],
      "text/plain": [
       "     PassengerId  Survived  Pclass                         Name   Sex   Age  \\\n",
       "527          528         0       1           Farthing, Mr. John  male   NaN   \n",
       "441          442         0       3              Hampe, Mr. Leon  male  20.0   \n",
       "588          589         0       3        Gilinski, Mr. Eliezer  male  22.0   \n",
       "92            93         0       1  Chaffee, Mr. Herbert Fuller  male  46.0   \n",
       "\n",
       "     SibSp  Parch       Ticket      Fare Cabin Embarked  \n",
       "527      0      0     PC 17483  221.7792   C95        S  \n",
       "441      0      0       345769    9.5000   NaN        S  \n",
       "588      0      0        14973    8.0500   NaN        S  \n",
       "92       1      0  W.E.P. 5734   61.1750   E31        S  "
      ]
     },
     "execution_count": 8,
     "metadata": {},
     "output_type": "execute_result"
    }
   ],
   "source": [
    "df.sample(4)"
   ]
  },
  {
   "cell_type": "code",
   "execution_count": 9,
   "id": "543f84e3-9dbb-472b-83f3-46b6f34f5c65",
   "metadata": {
    "tags": []
   },
   "outputs": [
    {
     "data": {
      "text/plain": [
       "PassengerId      0\n",
       "Survived         0\n",
       "Pclass           0\n",
       "Name             0\n",
       "Sex              0\n",
       "Age            177\n",
       "SibSp            0\n",
       "Parch            0\n",
       "Ticket           0\n",
       "Fare             0\n",
       "Cabin          687\n",
       "Embarked         2\n",
       "dtype: int64"
      ]
     },
     "execution_count": 9,
     "metadata": {},
     "output_type": "execute_result"
    }
   ],
   "source": [
    "df.isnull().sum()"
   ]
  },
  {
   "cell_type": "markdown",
   "id": "8f878eb0-3178-494a-80dc-1379b6c32e6c",
   "metadata": {},
   "source": [
    "# Handle all missing values"
   ]
  },
  {
   "cell_type": "code",
   "execution_count": 10,
   "id": "75a205b7-9a78-4fbf-ac96-847aad78057f",
   "metadata": {
    "tags": []
   },
   "outputs": [],
   "source": [
    "# Impute missing values in 'Age' with the median\n",
    "df['Age'].fillna(df['Age'].median(), inplace=True)"
   ]
  },
  {
   "cell_type": "markdown",
   "id": "db700404-64af-4f81-af2f-b0e9f3a8ac5a",
   "metadata": {},
   "source": [
    "# Survival Analysis."
   ]
  },
  {
   "cell_type": "markdown",
   "id": "4f044213-21c4-444d-aac1-1e718cb43ae0",
   "metadata": {},
   "source": [
    "## a: What was the overall survival rate on the Titanic?"
   ]
  },
  {
   "cell_type": "code",
   "execution_count": 11,
   "id": "4598086e-a01d-40d5-a2bb-8c890c913ba8",
   "metadata": {
    "tags": []
   },
   "outputs": [
    {
     "name": "stdout",
     "output_type": "stream",
     "text": [
      "Overall Survival Rate on the Titanic: 38.38%\n"
     ]
    }
   ],
   "source": [
    "# Calculate the overall survival rate\n",
    "overall_survival_rate = df['Survived'].mean()\n",
    "\n",
    "print(f\"Overall Survival Rate on the Titanic: {overall_survival_rate * 100:.2f}%\")"
   ]
  },
  {
   "cell_type": "markdown",
   "id": "7ed808ca-3180-4a6d-9003-3a63e12f0d87",
   "metadata": {},
   "source": [
    "## Therefore, the survival rate is very low because out of 100%, 38.38% were able to survive the titanic "
   ]
  },
  {
   "cell_type": "markdown",
   "id": "6cdd44a5-f0db-49bb-b25a-82266dfd1cc8",
   "metadata": {},
   "source": [
    "## b: Did passengers in certain classes have a higher chance of survival?"
   ]
  },
  {
   "cell_type": "code",
   "execution_count": 12,
   "id": "e0e9779c-767f-4a42-bca5-c02f50947083",
   "metadata": {
    "tags": []
   },
   "outputs": [
    {
     "name": "stdout",
     "output_type": "stream",
     "text": [
      "Survival Rate by Passenger Class:\n",
      "Pclass\n",
      "1    0.629630\n",
      "2    0.472826\n",
      "3    0.242363\n",
      "Name: Survived, dtype: float64\n"
     ]
    }
   ],
   "source": [
    "# Calculate the survival rate for each passenger class\n",
    "class_survival_rate = df.groupby('Pclass')['Survived'].mean()\n",
    "\n",
    "print(\"Survival Rate by Passenger Class:\")\n",
    "print(class_survival_rate)"
   ]
  },
  {
   "cell_type": "markdown",
   "id": "a5351c30-7982-4026-b40e-3e6c83a60f26",
   "metadata": {},
   "source": [
    "## Yes, passengers in class 1 has highest survival rate which mean if there are more passengers in class 1 than other classes, there will be more survival rate."
   ]
  },
  {
   "cell_type": "markdown",
   "id": "0af3bd89-1228-48ae-82f7-8f0daeeb0b39",
   "metadata": {},
   "source": [
    "## c: Did gender play a role in survival rates?"
   ]
  },
  {
   "cell_type": "code",
   "execution_count": 13,
   "id": "34e757ce-0b69-4fc2-8fac-c0db910f18f0",
   "metadata": {
    "tags": []
   },
   "outputs": [
    {
     "name": "stdout",
     "output_type": "stream",
     "text": [
      "Survival Rate by Gender:\n",
      "Sex\n",
      "female    0.742038\n",
      "male      0.188908\n",
      "Name: Survived, dtype: float64\n"
     ]
    }
   ],
   "source": [
    "# Calculate the survival rate for each gender\n",
    "gender_survival_rate = df.groupby('Sex')['Survived'].mean()\n",
    "\n",
    "print(\"Survival Rate by Gender:\")\n",
    "print(gender_survival_rate)"
   ]
  },
  {
   "cell_type": "markdown",
   "id": "6a1e7c7e-d35b-48e6-a291-ae077a28da7f",
   "metadata": {
    "tags": []
   },
   "source": [
    "## Looking at the statastics of survival rate by gender, Yes, gender play a big role in survival rate."
   ]
  },
  {
   "cell_type": "markdown",
   "id": "2fe3be1c-db7c-4a89-8ed5-bf4547104e21",
   "metadata": {},
   "source": [
    "## d: Were passengers with siblings or spouses more likely to survive?"
   ]
  },
  {
   "cell_type": "code",
   "execution_count": 14,
   "id": "c90ac219-e07a-4b0e-bd22-8e98de313cb8",
   "metadata": {
    "tags": []
   },
   "outputs": [
    {
     "name": "stdout",
     "output_type": "stream",
     "text": [
      "Survival Rate by Siblings/Spouses Count:\n",
      "SibSp\n",
      "0    0.345395\n",
      "1    0.535885\n",
      "2    0.464286\n",
      "3    0.250000\n",
      "4    0.166667\n",
      "5    0.000000\n",
      "8    0.000000\n",
      "Name: Survived, dtype: float64\n"
     ]
    }
   ],
   "source": [
    "# Calculate the survival rate for each value of 'SibSp'\n",
    "sibsp_survival_rate = df.groupby('SibSp')['Survived'].mean()\n",
    "\n",
    "print(\"Survival Rate by Siblings/Spouses Count:\")\n",
    "print(sibsp_survival_rate)"
   ]
  },
  {
   "cell_type": "markdown",
   "id": "34ad8b5c-24dd-44a2-a318-0ea80625c308",
   "metadata": {},
   "source": [
    "## e: Did having parents or children aboard the Titanic influence survival rates?"
   ]
  },
  {
   "cell_type": "code",
   "execution_count": 15,
   "id": "f2b73a6b-0dd3-4dc8-aac8-b806b0734785",
   "metadata": {
    "tags": []
   },
   "outputs": [
    {
     "name": "stdout",
     "output_type": "stream",
     "text": [
      "Survival Rate by Parents/Children Count:\n",
      "Parch\n",
      "0    0.343658\n",
      "1    0.550847\n",
      "2    0.500000\n",
      "3    0.600000\n",
      "4    0.000000\n",
      "5    0.200000\n",
      "6    0.000000\n",
      "Name: Survived, dtype: float64\n"
     ]
    }
   ],
   "source": [
    "# Calculate the survival rate for each value of 'Parch'\n",
    "parch_survival_rate = df.groupby('Parch')['Survived'].mean()\n",
    "\n",
    "print(\"Survival Rate by Parents/Children Count:\")\n",
    "print(parch_survival_rate)"
   ]
  },
  {
   "cell_type": "markdown",
   "id": "49dcd62a-2072-47e1-9d80-b4ad9b85e80f",
   "metadata": {},
   "source": [
    "# Age and Survival:"
   ]
  },
  {
   "cell_type": "markdown",
   "id": "a43abebd-e34b-4977-91f9-a718bbabd82d",
   "metadata": {},
   "source": [
    "## a: What was the age distribution of passengers on the Titanic?"
   ]
  },
  {
   "cell_type": "code",
   "execution_count": 16,
   "id": "09fb33ea-453f-4683-95ec-1f9fdabad8f1",
   "metadata": {
    "tags": []
   },
   "outputs": [
    {
     "data": {
      "image/png": "[encoded data removed]",
      "text/plain": [
       "<Figure size 1000x600 with 1 Axes>"
      ]
     },
     "metadata": {},
     "output_type": "display_data"
    }
   ],
   "source": [
    "# Plot the age distribution\n",
    "plt.figure(figsize=(10, 6))\n",
    "plt.hist(df['Age'].dropna(), bins=20, color='skyblue', edgecolor='black')\n",
    "plt.title('Age Distribution of Passengers on the Titanic')\n",
    "plt.xlabel('Age')\n",
    "plt.ylabel('Number of Passengers')\n",
    "plt.show()"
   ]
  },
  {
   "cell_type": "markdown",
   "id": "a295d354-3931-409c-9f0e-e45482258e84",
   "metadata": {},
   "source": [
    "## b: Did age impact a passenger's likelihood of survival?"
   ]
  },
  {
   "cell_type": "code",
   "execution_count": 17,
   "id": "7e547020-1e65-4f3c-9f5e-c1e36ed5c7ea",
   "metadata": {
    "tags": []
   },
   "outputs": [
    {
     "data": {
      "image/png": "[encoded data removed]",
      "text/plain": [
       "<Figure size 800x800 with 1 Axes>"
      ]
     },
     "metadata": {},
     "output_type": "display_data"
    }
   ],
   "source": [
    "# Create age groups (bins)\n",
    "age_bins = [0, 18, 30, 50, 100]\n",
    "age_labels = ['0-18', '19-30', '31-50', '51+']\n",
    "\n",
    "df['AgeGroup'] = pd.cut(df['Age'], bins=age_bins, labels=age_labels, right=False)\n",
    "\n",
    "# Calculate survival rate for each age group\n",
    "age_survival_rate = df.groupby('AgeGroup')['Survived'].mean()\n",
    "\n",
    "# Plot the survival rate by age group in a pie chart\n",
    "plt.figure(figsize=(8, 8))\n",
    "plt.pie(age_survival_rate, labels=age_survival_rate.index, autopct='%1.1f%%', startangle=90, colors=['lightcoral', 'lightskyblue', 'lightgreen', 'lightyellow'])\n",
    "plt.title('Survival Rate by Age Group on the Titanic')\n",
    "plt.show()\n",
    "\n",
    "\n",
    "\n",
    "\n"
   ]
  },
  {
   "cell_type": "markdown",
   "id": "2c1790e0-9ba4-4c38-95b7-7fc12bb97e7c",
   "metadata": {},
   "source": [
    "## Yes, age impact a passenger's likelihood of survival."
   ]
  },
  {
   "cell_type": "markdown",
   "id": "a41331e4-31df-490e-865a-de1c5d2ab0bd",
   "metadata": {},
   "source": [
    "## c: Were children given priority in the lifeboats?\n"
   ]
  },
  {
   "cell_type": "code",
   "execution_count": 18,
   "id": "e13779c3-1c2b-4e71-91ed-debb0d0f14b0",
   "metadata": {
    "tags": []
   },
   "outputs": [
    {
     "data": {
      "image/png": "[encoded data removed]",
      "text/plain": [
       "<Figure size 800x800 with 1 Axes>"
      ]
     },
     "metadata": {},
     "output_type": "display_data"
    }
   ],
   "source": [
    "# Create a new column indicating whether the passenger is a child (age <= 18)\n",
    "df['IsChild'] = df['Age'] <= 18\n",
    "\n",
    "# Calculate survival rate for children\n",
    "child_survival_rate = df.groupby('IsChild')['Survived'].mean()\n",
    "\n",
    "# Plot the survival rate for children in a doughnut chart\n",
    "plt.figure(figsize=(8, 8))\n",
    "plt.pie(child_survival_rate, labels=child_survival_rate.index, autopct='%1.1f%%', startangle=90, colors=['lightcoral', 'lightgreen'])\n",
    "plt.gca().add_artist(plt.Circle((0,0),0.6,fc='white'))\n",
    "plt.title('Survival Rate for Children on the Titanic')\n",
    "plt.show()"
   ]
  },
  {
   "cell_type": "markdown",
   "id": "d90973c2-1162-4f5a-bff1-970aa94f0c97",
   "metadata": {},
   "source": [
    "## Yes"
   ]
  },
  {
   "cell_type": "markdown",
   "id": "b9fdaac4-24f4-4fc3-a896-f3f49ad1f14b",
   "metadata": {},
   "source": [
    "# Ticket Fare and Survival:"
   ]
  },
  {
   "cell_type": "markdown",
   "id": "2a4063f9-5945-44a6-b6ae-cdc4f41dac3d",
   "metadata": {},
   "source": [
    "## a: What was the distribution of ticket fares?"
   ]
  },
  {
   "cell_type": "code",
   "execution_count": 19,
   "id": "c5a8f214-e636-4f65-8fe6-f608c1d84638",
   "metadata": {
    "tags": []
   },
   "outputs": [
    {
     "data": {
      "image/png": "[encoded data removed]",
      "text/plain": [
       "<Figure size 1000x600 with 1 Axes>"
      ]
     },
     "metadata": {},
     "output_type": "display_data"
    }
   ],
   "source": [
    "# Plot the distribution of ticket fares\n",
    "plt.figure(figsize=(10, 6))\n",
    "plt.hist(df['Fare'], bins=20, color='skyblue', edgecolor='black')\n",
    "plt.title('Distribution of Ticket Fares on the Titanic')\n",
    "plt.xlabel('Fare')\n",
    "plt.ylabel('Number of Passengers')\n",
    "plt.show()"
   ]
  },
  {
   "cell_type": "markdown",
   "id": "9750e0fe-1d0c-443a-8a58-b2eb621b5887",
   "metadata": {},
   "source": [
    "## b: Did passengers who paid more for their tickets have a higher chance of survival?"
   ]
  },
  {
   "cell_type": "code",
   "execution_count": 20,
   "id": "085ad2e0-2a63-43d4-8e1b-7962c0fb263a",
   "metadata": {
    "tags": []
   },
   "outputs": [
    {
     "data": {
      "image/png": "[encoded data removed]",
      "text/plain": [
       "<Figure size 1000x600 with 1 Axes>"
      ]
     },
     "metadata": {},
     "output_type": "display_data"
    }
   ],
   "source": [
    "# Create fare groups (bins)\n",
    "fare_bins = [0, 20, 40, 60, 80, 100, 200, 300, 400, 500]\n",
    "fare_labels = ['0-20', '21-40', '41-60', '61-80', '81-100', '101-200', '201-300', '301-400', '401-500']\n",
    "\n",
    "df['FareGroup'] = pd.cut(df['Fare'], bins=fare_bins, labels=fare_labels, right=False)\n",
    "\n",
    "# Calculate survival rate for each fare group\n",
    "fare_survival_rate = df.groupby('FareGroup')['Survived'].mean()\n",
    "\n",
    "# Plot the survival rate by fare group\n",
    "plt.figure(figsize=(10, 6))\n",
    "fare_survival_rate.plot(kind='bar', color='skyblue', edgecolor='black')\n",
    "plt.title('Survival Rate by Fare Group on the Titanic')\n",
    "plt.xlabel('Fare Group')\n",
    "plt.ylabel('Survival Rate')\n",
    "plt.show()\n",
    "\n",
    "\n",
    "\n",
    "\n",
    "\n"
   ]
  },
  {
   "cell_type": "markdown",
   "id": "eebb33e7-65ed-4a03-be90-07da9881c2e9",
   "metadata": {},
   "source": [
    "## c: Did the ticket fare correlate with the passenger class?\n"
   ]
  },
  {
   "cell_type": "code",
   "execution_count": 21,
   "id": "c52146cd-1165-4752-9e9e-63fbbcb7d269",
   "metadata": {
    "tags": []
   },
   "outputs": [
    {
     "data": {
      "image/png": "[encoded data removed]",
      "text/plain": [
       "<Figure size 1000x600 with 1 Axes>"
      ]
     },
     "metadata": {},
     "output_type": "display_data"
    },
    {
     "name": "stdout",
     "output_type": "stream",
     "text": [
      "Pearson Correlation Coefficient: -0.5494996199439078\n"
     ]
    }
   ],
   "source": [
    "# Scatter plot\n",
    "plt.figure(figsize=(10, 6))\n",
    "sns.scatterplot(x='Pclass', y='Fare', data=df, hue='Pclass', palette='viridis', edgecolor='black')\n",
    "plt.title('Scatter Plot of Fare vs Passenger Class on the Titanic')\n",
    "plt.xlabel('Passenger Class')\n",
    "plt.ylabel('Fare')\n",
    "plt.show()\n",
    "\n",
    "# Calculate Pearson correlation coefficient\n",
    "correlation_coefficient = df['Pclass'].corr(df['Fare'])\n",
    "\n",
    "print(f\"Pearson Correlation Coefficient: {correlation_coefficient}\")"
   ]
  },
  {
   "cell_type": "markdown",
   "id": "4e0af14f-e38a-4d28-af8f-77c194f77aad",
   "metadata": {},
   "source": [
    "# Port of Embarkation:"
   ]
  },
  {
   "cell_type": "markdown",
   "id": "d9bd2f22-7de5-41c3-8255-f23ea14fc077",
   "metadata": {},
   "source": [
    "## a: How many passengers embarked from each of the three ports (Southampton, Cherbourg, and Queenstown)?"
   ]
  },
  {
   "cell_type": "code",
   "execution_count": 22,
   "id": "6e7e3020-39b9-43bb-9373-e1218daa8de2",
   "metadata": {
    "tags": []
   },
   "outputs": [
    {
     "name": "stdout",
     "output_type": "stream",
     "text": [
      "S    644\n",
      "C    168\n",
      "Q     77\n",
      "Name: Embarked, dtype: int64\n"
     ]
    }
   ],
   "source": [
    "# Count the number of passengers for each embarkation port\n",
    "embarked_counts = df['Embarked'].value_counts()\n",
    "\n",
    "# Display the counts\n",
    "print(embarked_counts)"
   ]
  },
  {
   "cell_type": "markdown",
   "id": "0a77e25a-08e8-40c9-9304-cb24fc62e892",
   "metadata": {},
   "source": [
    "## b: Did the port of embarkation influence a passenger's survival chances?\n"
   ]
  },
  {
   "cell_type": "code",
   "execution_count": 23,
   "id": "bfd7e7e3-e1f8-4589-977d-cfcc0c5b0bb1",
   "metadata": {
    "tags": []
   },
   "outputs": [
    {
     "data": {
      "image/png": "[encoded data removed]",
      "text/plain": [
       "<Figure size 1000x600 with 1 Axes>"
      ]
     },
     "metadata": {},
     "output_type": "display_data"
    }
   ],
   "source": [
    "\n",
    "# Calculate survival rate for each embarkation port\n",
    "survival_rate_by_embarkation = df.groupby('Embarked')['Survived'].mean()\n",
    "\n",
    "# Create a funnel-like horizontal bar chart\n",
    "plt.figure(figsize=(10, 6))\n",
    "survival_rate_by_embarkation.sort_values().plot(kind='barh', color='skyblue', edgecolor='black')\n",
    "plt.title('Funnel-Like Chart of Survival Rate by Embarkation Port on the Titanic')\n",
    "plt.xlabel('Survival Rate')\n",
    "plt.ylabel('Embarkation Port')\n",
    "plt.gca().invert_yaxis()  # Invert y-axis to make it look like a funnel\n",
    "plt.show()"
   ]
  },
  {
   "cell_type": "markdown",
   "id": "9c6bf17a-d132-48bc-9e2a-4c3bb386c308",
   "metadata": {},
   "source": [
    "## Yes, if there are more passengers at the C port of Embarkation, there will be more more survival Rate. "
   ]
  },
  {
   "cell_type": "markdown",
   "id": "5126e90e-7e12-40bf-8c00-01ae1470aea0",
   "metadata": {},
   "source": [
    "# Family Size:"
   ]
  },
  {
   "cell_type": "markdown",
   "id": "ee697812-09af-440c-b4b9-653bb60eccf7",
   "metadata": {},
   "source": [
    "## a: What was the average family size on the Titanic?"
   ]
  },
  {
   "cell_type": "code",
   "execution_count": 24,
   "id": "3a8afa72-12da-4da2-9994-4ed015be2336",
   "metadata": {
    "tags": []
   },
   "outputs": [
    {
     "name": "stdout",
     "output_type": "stream",
     "text": [
      "The average family size on the Titanic was: 1.90\n"
     ]
    }
   ],
   "source": [
    "# Calculate family size for each passenger\n",
    "df['FamilySize'] = df['SibSp'] + df['Parch'] + 1\n",
    "\n",
    "# Calculate the average family size\n",
    "average_family_size = df['FamilySize'].mean()\n",
    "\n",
    "print(f'The average family size on the Titanic was: {average_family_size:.2f}')"
   ]
  },
  {
   "cell_type": "markdown",
   "id": "8fdadf95-9ef8-4854-95fc-de23e4979d79",
   "metadata": {},
   "source": [
    "## b: Did passengers traveling alone have a different survival rate compared to those with family members aboard?"
   ]
  },
  {
   "cell_type": "code",
   "execution_count": 25,
   "id": "6558591a-d0fe-4c4a-83c7-f0f0cdb5da4e",
   "metadata": {
    "tags": []
   },
   "outputs": [
    {
     "data": {
      "image/png": "[encoded data removed]",
      "text/plain": [
       "<Figure size 800x600 with 1 Axes>"
      ]
     },
     "metadata": {},
     "output_type": "display_data"
    }
   ],
   "source": [
    "# Create a new column indicating whether the passenger is traveling alone\n",
    "df['TravelingAlone'] = (df['SibSp'] + df['Parch']) == 0\n",
    "\n",
    "# Calculate survival rate for passengers traveling alone and with family\n",
    "survival_rate_by_traveling_alone = df.groupby('TravelingAlone')['Survived'].mean()\n",
    "\n",
    "# Plot the doughnut chart\n",
    "plt.figure(figsize=(8, 6))\n",
    "\n",
    "# Plot the outer circle (representing all passengers)\n",
    "plt.pie([1], labels=['All Passengers'], colors=['white'], radius=1.0, startangle=90, wedgeprops=dict(width=0.4, edgecolor='w'))\n",
    "\n",
    "# Plot the inner circle (representing passengers with and without family)\n",
    "plt.pie(survival_rate_by_traveling_alone, labels=survival_rate_by_traveling_alone.index, colors=['skyblue', 'lightcoral'], autopct='%1.1f%%',\n",
    "        radius=0.6, startangle=90, wedgeprops=dict(width=0.4, edgecolor='w'))\n",
    "\n",
    "plt.title('Survival Rate Based on Traveling Alone on the Titanic')\n",
    "plt.show()"
   ]
  },
  {
   "cell_type": "markdown",
   "id": "d989ffa2-fa78-4890-bce9-d7608d307a59",
   "metadata": {},
   "source": [
    "# Cabin and Deck Information:"
   ]
  },
  {
   "cell_type": "markdown",
   "id": "7d0bd0be-d8b4-4732-91b4-433bcbd916ee",
   "metadata": {},
   "source": [
    "## a: How many passengers had cabin information available in the dataset?"
   ]
  },
  {
   "cell_type": "code",
   "execution_count": 26,
   "id": "909113d2-fb30-4b87-bbcc-ca8b9df11275",
   "metadata": {
    "tags": []
   },
   "outputs": [
    {
     "name": "stdout",
     "output_type": "stream",
     "text": [
      "The number of passengers with cabin information available is: 204\n"
     ]
    }
   ],
   "source": [
    "# Count the number of passengers with cabin information\n",
    "passengers_with_cabin_info = df['Cabin'].count()\n",
    "\n",
    "print(f'The number of passengers with cabin information available is: {passengers_with_cabin_info}')"
   ]
  },
  {
   "cell_type": "markdown",
   "id": "facda908-e878-429e-a655-56c430cbae66",
   "metadata": {},
   "source": [
    "## b:Did the deck level (A, B, C, etc.) where a passenger's cabin was located affect their survival?\n"
   ]
  },
  {
   "cell_type": "code",
   "execution_count": 27,
   "id": "8ab7ffe5-b641-441f-be89-f56aebf20ff6",
   "metadata": {
    "tags": []
   },
   "outputs": [
    {
     "data": {
      "image/png": "[encoded data removed]",
      "text/plain": [
       "<Figure size 1000x600 with 1 Axes>"
      ]
     },
     "metadata": {},
     "output_type": "display_data"
    }
   ],
   "source": [
    "# Extract the deck information from the 'Cabin' column\n",
    "df['Deck'] = df['Cabin'].str.extract(r'([A-Za-z])')\n",
    "\n",
    "# Fill missing deck values with a placeholder (e.g., 'Unknown')\n",
    "df['Deck'].fillna('Unknown', inplace=True)\n",
    "\n",
    "# Calculate survival rate for each deck\n",
    "survival_rate_by_deck = df.groupby('Deck')['Survived'].mean()\n",
    "\n",
    "# Plot the survival rate by deck\n",
    "plt.figure(figsize=(10, 6))\n",
    "survival_rate_by_deck.sort_values().plot(kind='bar', color='skyblue', edgecolor='black')\n",
    "plt.title('Survival Rate by Deck Level on the Titanic')\n",
    "plt.xlabel('Deck')\n",
    "plt.ylabel('Survival Rate')\n",
    "plt.show()"
   ]
  },
  {
   "cell_type": "markdown",
   "id": "44e27e60-9d7b-4b82-b42e-3a1f1a5e8cdc",
   "metadata": {},
   "source": [
    "# Name Analysis:"
   ]
  },
  {
   "cell_type": "markdown",
   "id": "1b489611-8ce2-4ec7-8795-b86e20b26e55",
   "metadata": {},
   "source": [
    "## What are the most common titles (e.g., Mr., Mrs., Miss) among passengers, and did they impact survival?"
   ]
  },
  {
   "cell_type": "code",
   "execution_count": 28,
   "id": "b5be09b3-bc46-4710-ba56-c6816c723485",
   "metadata": {
    "tags": []
   },
   "outputs": [
    {
     "name": "stdout",
     "output_type": "stream",
     "text": [
      "The most common titles among passengers are:\n",
      "Mr        517\n",
      "Miss      182\n",
      "Mrs       125\n",
      "Master     40\n",
      "Dr          7\n",
      "Name: Title, dtype: int64\n"
     ]
    }
   ],
   "source": [
    "# Extract titles from the 'Name' column\n",
    "df['Title'] = df['Name'].str.extract(r',\\s(.*?)\\.')\n",
    "\n",
    "# Display the most common titles\n",
    "most_common_titles = df['Title'].value_counts().head(5)\n",
    "print(f'The most common titles among passengers are:\\n{most_common_titles}')"
   ]
  },
  {
   "cell_type": "code",
   "execution_count": 29,
   "id": "3e6c0384-8895-41e4-949d-7ead4b00a558",
   "metadata": {
    "tags": []
   },
   "outputs": [
    {
     "name": "stdout",
     "output_type": "stream",
     "text": [
      "Survival rates by title:\n",
      "Title\n",
      "Capt            0.000000\n",
      "Col             0.500000\n",
      "Don             0.000000\n",
      "Dr              0.428571\n",
      "Jonkheer        0.000000\n",
      "Lady            1.000000\n",
      "Major           0.500000\n",
      "Master          0.575000\n",
      "Miss            0.697802\n",
      "Mlle            1.000000\n",
      "Mme             1.000000\n",
      "Mr              0.156673\n",
      "Mrs             0.792000\n",
      "Ms              1.000000\n",
      "Rev             0.000000\n",
      "Sir             1.000000\n",
      "the Countess    1.000000\n",
      "Name: Survived, dtype: float64\n"
     ]
    },
    {
     "data": {
      "image/png": "[encoded data removed]",
      "text/plain": [
       "<Figure size 1200x600 with 1 Axes>"
      ]
     },
     "metadata": {},
     "output_type": "display_data"
    }
   ],
   "source": [
    "# Calculate survival rates by title\n",
    "survival_rate_by_title = df.groupby('Title')['Survived'].mean()\n",
    "\n",
    "# Display the survival rates by title\n",
    "print(f'Survival rates by title:\\n{survival_rate_by_title}')\n",
    "\n",
    "# Plot survival rates by title\n",
    "plt.figure(figsize=(12, 6))\n",
    "survival_rate_by_title.sort_values().plot(kind='bar', color='skyblue', edgecolor='black')\n",
    "plt.title('Survival Rate by Title on the Titanic')\n",
    "plt.xlabel('Title')\n",
    "plt.ylabel('Survival Rate')\n",
    "plt.show()"
   ]
  },
  {
   "cell_type": "markdown",
   "id": "aeefdec3-7829-4e87-ac25-ad42863ac920",
   "metadata": {},
   "source": [
    "## Can we infer the family relationships or group affiliations from the names of passengers?"
   ]
  },
  {
   "cell_type": "code",
   "execution_count": 30,
   "id": "3f19f6ba-95b3-41c3-bab2-73b58a85956b",
   "metadata": {
    "tags": []
   },
   "outputs": [
    {
     "name": "stdout",
     "output_type": "stream",
     "text": [
      "Potential Family Groups:\n",
      "['Abbing, Mr. Anthony']\n",
      "['Abbott, Mrs. Stanton (Rosa Hunt)', 'Abbott, Mr. Rossmore Edward']\n",
      "['Abelson, Mr. Samuel', 'Abelson, Mrs. Samuel (Hannah Wizosky)']\n",
      "['Adahl, Mr. Mauritz Nils Martin']\n",
      "['Adams, Mr. John']\n",
      "['Ahlin, Mrs. Johan (Johanna Persdotter Larsson)']\n",
      "['Aks, Mrs. Sam (Leah Rosen)']\n",
      "['Albimona, Mr. Nassef Cassem']\n",
      "['Alexander, Mr. William']\n",
      "['Alhomaki, Mr. Ilmari Rudolf']\n",
      "['Ali, Mr. Ahmed', 'Ali, Mr. William']\n",
      "['Allen, Mr. William Henry', 'Allen, Miss. Elisabeth Walton']\n",
      "['Allison, Miss. Helen Loraine', 'Allison, Master. Hudson Trevor', 'Allison, Mrs. Hudson J C (Bessie Waldo Daniels)']\n",
      "['Allum, Mr. Owen George']\n",
      "['Andersen-Jensen, Miss. Carla Christine Nielsine']\n",
      "['Anderson, Mr. Harry']\n",
      "['Andersson, Mr. Anders Johan', 'Andersson, Miss. Erna Alexandra', 'Andersson, Miss. Ellis Anna Maria', 'Andersson, Mr. August Edvard (\"Wennerstrom\")', 'Andersson, Miss. Ingeborg Constanzia', 'Andersson, Miss. Sigrid Elisabeth', 'Andersson, Mrs. Anders Johan (Alfrida Konstantia Brogren)', 'Andersson, Miss. Ebba Iris Alfrida', 'Andersson, Master. Sigvard Harald Elias']\n",
      "['Andreasson, Mr. Paul Edvin']\n",
      "['Andrew, Mr. Edgardo Samuel']\n",
      "['Andrews, Miss. Kornelia Theodosia', 'Andrews, Mr. Thomas Jr']\n",
      "['Angle, Mrs. William A (Florence \"Mary\" Agnes Hughes)']\n",
      "['Appleton, Mrs. Edward Dale (Charlotte Lamson)']\n",
      "['Arnold-Franchi, Mrs. Josef (Josefine Franchi)', 'Arnold-Franchi, Mr. Josef']\n",
      "['Artagaveytia, Mr. Ramon']\n",
      "['Asim, Mr. Adola']\n",
      "['Asplund, Mrs. Carl Oscar (Selma Augusta Emilia Johansson)', 'Asplund, Master. Clarence Gustaf Hugo', 'Asplund, Miss. Lillian Gertrud', 'Asplund, Master. Edvin Rojj Felix']\n",
      "['Astor, Mrs. John Jacob (Madeleine Talmadge Force)']\n",
      "['Attalah, Miss. Malake', 'Attalah, Mr. Sleiman']\n",
      "['Aubart, Mme. Leontine Pauline']\n",
      "['Augustsson, Mr. Albert']\n",
      "['Ayoub, Miss. Banoura']\n",
      "['Backstrom, Mrs. Karl Alfred (Maria Mathilda Gustafsson)', 'Backstrom, Mr. Karl Alfred']\n",
      "['Baclini, Miss. Marie Catherine', 'Baclini, Miss. Helene Barbara', 'Baclini, Miss. Eugenie', 'Baclini, Mrs. Solomon (Latifa Qurban)']\n",
      "['Badt, Mr. Mohamed']\n",
      "['Bailey, Mr. Percy Andrew']\n",
      "['Balkic, Mr. Cerin']\n",
      "['Ball, Mrs. (Ada E Hall)']\n",
      "['Banfield, Mr. Frederick James']\n",
      "['Barah, Mr. Hanna Assi']\n",
      "['Barbara, Mrs. (Catherine David)', 'Barbara, Miss. Saiide']\n",
      "['Barber, Miss. Ellen \"Nellie\"']\n",
      "['Barkworth, Mr. Algernon Henry Wilson']\n",
      "['Barton, Mr. David John']\n",
      "['Bateman, Rev. Robert James']\n",
      "['Baumann, Mr. John D']\n",
      "['Baxter, Mr. Quigg Edmond', 'Baxter, Mrs. James (Helene DeLaudeniere Chaput)']\n",
      "['Bazzani, Miss. Albina']\n",
      "['Beane, Mr. Edward', 'Beane, Mrs. Edward (Ethel Clarke)']\n",
      "['Beavan, Mr. William Thomas']\n",
      "['Becker, Master. Richard F', 'Becker, Miss. Marion Louise']\n",
      "['Beckwith, Mr. Richard Leonard', 'Beckwith, Mrs. Richard Leonard (Sallie Monypeny)']\n",
      "['Beesley, Mr. Lawrence']\n",
      "['Behr, Mr. Karl Howell']\n",
      "['Bengtsson, Mr. John Viktor']\n",
      "['Berglund, Mr. Karl Ivar Sven']\n",
      "['Berriman, Mr. William John']\n",
      "['Betros, Mr. Tannous']\n",
      "['Bidois, Miss. Rosalie']\n",
      "['Bing, Mr. Lee']\n",
      "['Birkeland, Mr. Hans Martin Monsen']\n",
      "['Bishop, Mrs. Dickinson H (Helen Walton)', 'Bishop, Mr. Dickinson H']\n",
      "['Bissette, Miss. Amelia']\n",
      "['Bjornstrom-Steffansson, Mr. Mauritz Hakan']\n",
      "['Blackwell, Mr. Stephen Weart']\n",
      "['Blank, Mr. Henry']\n",
      "['Bonnell, Miss. Elizabeth']\n",
      "['Bostandyeff, Mr. Guentcho']\n",
      "['Boulos, Mrs. Joseph (Sultana)', 'Boulos, Mr. Hanna', 'Boulos, Miss. Nourelain']\n",
      "['Bourke, Mr. John', 'Bourke, Miss. Mary', 'Bourke, Mrs. John (Catherine)']\n",
      "['Bowen, Mr. David John \"Dai\"']\n",
      "['Bowerman, Miss. Elsie Edith']\n",
      "['Bracken, Mr. James H']\n",
      "['Bradley, Mr. George (\"George Arthur Brayton\")']\n",
      "['Braund, Mr. Owen Harris', 'Braund, Mr. Lewis Richard']\n",
      "['Brewe, Dr. Arthur Jackson']\n",
      "['Brocklebank, Mr. William Alfred']\n",
      "['Brown, Mrs. James Joseph (Margaret Tobin)', 'Brown, Miss. Amelia \"Mildred\"', 'Brown, Mrs. Thomas William Solomon (Elizabeth Catherine Ford)', 'Brown, Mr. Thomas William Solomon']\n",
      "['Bryhl, Mr. Kurt Arnold Gottfrid']\n",
      "['Burke, Mr. Jeremiah']\n",
      "['Burns, Miss. Elizabeth Margaret']\n",
      "['Buss, Miss. Kate']\n",
      "['Butler, Mr. Reginald Fenton']\n",
      "['Butt, Major. Archibald Willingham']\n",
      "['Byles, Rev. Thomas Roussel Davids']\n",
      "['Bystrom, Mrs. (Karolina)']\n",
      "['Cacic, Mr. Luka', 'Cacic, Miss. Marija']\n",
      "['Cairns, Mr. Alexander']\n",
      "['Calderhead, Mr. Edward Pennington']\n",
      "['Caldwell, Master. Alden Gates', 'Caldwell, Mrs. Albert Francis (Sylvia Mae Harbaugh)']\n",
      "['Calic, Mr. Jovo', 'Calic, Mr. Petar']\n",
      "['Cameron, Miss. Clear Annie']\n",
      "['Campbell, Mr. William']\n",
      "['Canavan, Miss. Mary']\n",
      "['Cann, Mr. Ernest Charles']\n",
      "['Caram, Mrs. Joseph (Maria Elias)']\n",
      "['Carbines, Mr. William']\n",
      "['Cardeza, Mr. Thomas Drake Martinez']\n",
      "['Carlsson, Mr. August Sigfrid', 'Carlsson, Mr. Frans Olof']\n",
      "['Carr, Miss. Helen \"Ellen\"']\n",
      "['Carrau, Mr. Francisco M']\n",
      "['Carter, Rev. Ernest Courtenay', 'Carter, Mr. William Ernest', 'Carter, Miss. Lucile Polk', 'Carter, Mrs. William Ernest (Lucile Polk)', 'Carter, Master. William Thornton II', 'Carter, Mrs. Ernest Courtenay (Lilian Hughes)']\n",
      "['Cavendish, Mr. Tyrell William']\n",
      "['Celotti, Mr. Francesco']\n",
      "['Chaffee, Mr. Herbert Fuller']\n",
      "['Chambers, Mr. Norman Campbell', 'Chambers, Mrs. Norman Campbell (Bertha Griggs)']\n",
      "['Chapman, Mr. John Henry', 'Chapman, Mr. Charles Henry']\n",
      "['Charters, Mr. David']\n",
      "['Cherry, Miss. Gladys']\n",
      "['Chibnall, Mrs. (Edith Martha Bowerman)']\n",
      "['Chip, Mr. Chang']\n",
      "['Christmann, Mr. Emil']\n",
      "['Christy, Miss. Julie Rachel']\n",
      "['Chronopoulos, Mr. Apostolos']\n",
      "['Clarke, Mrs. Charles V (Ada Maria Winfield)']\n",
      "['Cleaver, Miss. Alice']\n",
      "['Clifford, Mr. George Quincy']\n",
      "['Coelho, Mr. Domingos Fernandeo']\n",
      "['Cohen, Mr. Gurshon \"Gus\"']\n",
      "['Coleff, Mr. Satio', 'Coleff, Mr. Peju']\n",
      "['Coleridge, Mr. Reginald Charles']\n",
      "['Collander, Mr. Erik Gustaf']\n",
      "['Colley, Mr. Edward Pomeroy']\n",
      "['Collyer, Miss. Marjorie \"Lottie\"', 'Collyer, Mr. Harvey', 'Collyer, Mrs. Harvey (Charlotte Annie Tate)']\n",
      "['Compton, Miss. Sara Rebecca']\n",
      "['Connaghton, Mr. Michael']\n",
      "['Connolly, Miss. Kate']\n",
      "['Connors, Mr. Patrick']\n",
      "['Cook, Mr. Jacob']\n",
      "['Cor, Mr. Liudevit']\n",
      "['Corn, Mr. Harry']\n",
      "['Coutts, Master. William Loch \"William\"', 'Coutts, Master. Eden Leslie \"Neville\"']\n",
      "['Coxon, Mr. Daniel']\n",
      "['Crease, Mr. Ernest James']\n",
      "['Cribb, Mr. John Hatfield']\n",
      "['Crosby, Miss. Harriet R', 'Crosby, Capt. Edward Gifford']\n",
      "['Culumovic, Mr. Jeso']\n",
      "['Cumings, Mrs. John Bradley (Florence Briggs Thayer)']\n",
      "['Cunningham, Mr. Alfred Fleming']\n",
      "['Dahl, Mr. Karl Edwart']\n",
      "['Dahlberg, Miss. Gerda Ulrika']\n",
      "['Dakic, Mr. Branko']\n",
      "['Daly, Mr. Eugene Patrick', 'Daly, Mr. Peter Denis ']\n",
      "['Danbom, Mrs. Ernst Gilbert (Anna Sigrid Maria Brogren)', 'Danbom, Mr. Ernst Gilbert']\n",
      "['Daniel, Mr. Robert Williams']\n",
      "['Danoff, Mr. Yoto']\n",
      "['Dantcheff, Mr. Ristiu']\n",
      "['Davidson, Mr. Thornton']\n",
      "['Davies, Mr. Charles Henry', 'Davies, Master. John Morgan Jr', 'Davies, Mr. Alfred J']\n",
      "['Davis, Miss. Mary']\n",
      "['Davison, Mrs. Thomas Henry (Mary E Finck)']\n",
      "['Dean, Mr. Bertram Frank', 'Dean, Master. Bertram Vere']\n",
      "['Denkoff, Mr. Mitto']\n",
      "['Dennis, Mr. Samuel']\n",
      "['Devaney, Miss. Margaret Delia']\n",
      "['Dick, Mr. Albert Adrian', 'Dick, Mrs. Albert Adrian (Vera Gillespie)']\n",
      "['Dimic, Mr. Jovan']\n",
      "['Dodge, Master. Washington']\n",
      "['Doharr, Mr. Tannous']\n",
      "['Doling, Mrs. John T (Ada Julia Bone)', 'Doling, Miss. Elsie']\n",
      "['Dooley, Mr. Patrick']\n",
      "['Dorking, Mr. Edward Arthur']\n",
      "['Douglas, Mr. Walter Donald']\n",
      "['Dowdell, Miss. Elizabeth']\n",
      "['Downton, Mr. William James']\n",
      "['Drazenoic, Mr. Jozef']\n",
      "['Drew, Mrs. James Vivian (Lulu Thorne Christian)']\n",
      "['Duane, Mr. Frank']\n",
      "['Duff Gordon, Lady. (Lucille Christiana Sutherland) (\"Mrs Morgan\")', 'Duff Gordon, Sir. Cosmo Edmund (\"Mr Morgan\")']\n",
      "['Duran y More, Miss. Asuncion']\n",
      "['Edvardsson, Mr. Gustaf Hjalmar']\n",
      "['Eitemiller, Mr. George Floyd']\n",
      "['Eklund, Mr. Hans Linus']\n",
      "['Ekstrom, Mr. Johan']\n",
      "['Elias, Mr. Tannous', 'Elias, Mr. Joseph Jr', 'Elias, Mr. Dibo']\n",
      "['Elsbury, Mr. William James']\n",
      "['Emanuel, Miss. Virginia Ethel']\n",
      "['Emir, Mr. Farred Chehab']\n",
      "['Endres, Miss. Caroline Louise']\n",
      "['Eustis, Miss. Elizabeth Mussey']\n",
      "['Fahlstrom, Mr. Arne Jonas']\n",
      "['Farrell, Mr. James']\n",
      "['Farthing, Mr. John']\n",
      "['Faunthorpe, Mrs. Lizzie (Elizabeth Anne Wilkinson)']\n",
      "['Fischer, Mr. Eberhard Thelander']\n",
      "['Fleming, Miss. Margaret']\n",
      "['Flynn, Mr. James', 'Flynn, Mr. John Irwin (\"Irving\")', 'Flynn, Mr. John']\n",
      "['Foo, Mr. Choong']\n",
      "['Ford, Mr. William Neal', 'Ford, Miss. Robina Maggie \"Ruby\"', 'Ford, Miss. Doolina Margaret \"Daisy\"', 'Ford, Mrs. Edward (Margaret Ann Watson)']\n",
      "['Foreman, Mr. Benjamin Laventall']\n",
      "['Fortune, Mr. Charles Alexander', 'Fortune, Miss. Mabel Helen', 'Fortune, Miss. Alice Elizabeth', 'Fortune, Mr. Mark']\n",
      "['Fox, Mr. Stanley Hubert']\n",
      "['Francatelli, Miss. Laura Mabel']\n",
      "['Frauenthal, Mrs. Henry William (Clara Heinsheimer)', 'Frauenthal, Dr. Henry William']\n",
      "['Frolicher, Miss. Hedwig Margaritha']\n",
      "['Frolicher-Stehli, Mr. Maxmillian']\n",
      "['Frost, Mr. Anthony Wood \"Archie\"']\n",
      "['Fry, Mr. Richard']\n",
      "['Funk, Miss. Annie Clemmer']\n",
      "['Futrelle, Mrs. Jacques Heath (Lily May Peel)', 'Futrelle, Mr. Jacques Heath']\n",
      "['Fynney, Mr. Joseph J']\n",
      "['Gale, Mr. Shadrach']\n",
      "['Gallagher, Mr. Martin']\n",
      "['Garfirth, Mr. John']\n",
      "['Garside, Miss. Ethel']\n",
      "['Gaskell, Mr. Alfred']\n",
      "['Gavey, Mr. Lawrence']\n",
      "['Gee, Mr. Arthur H']\n",
      "['Gheorgheff, Mr. Stanio']\n",
      "['Giglio, Mr. Victor']\n",
      "['Giles, Mr. Frederick Edward']\n",
      "['Gilinski, Mr. Eliezer']\n",
      "['Gill, Mr. John William']\n",
      "['Gillespie, Mr. William Henry']\n",
      "['Gilnagh, Miss. Katherine \"Katie\"']\n",
      "['Givard, Mr. Hans Kristensen']\n",
      "['Glynn, Miss. Mary Agatha']\n",
      "['Goldenberg, Mr. Samuel L', 'Goldenberg, Mrs. Samuel L (Edwiga Grabowska)']\n",
      "['Goldschmidt, Mr. George B']\n",
      "['Goldsmith, Master. Frank John William \"Frankie\"', 'Goldsmith, Mrs. Frank John (Emily Alice Brown)', 'Goldsmith, Mr. Frank John']\n",
      "['Goncalves, Mr. Manuel Estanslas']\n",
      "['Goodwin, Master. William Frederick', 'Goodwin, Miss. Lillian Amy', 'Goodwin, Master. Sidney Leonard', 'Goodwin, Master. Harold Victor', 'Goodwin, Mrs. Frederick (Augusta Tyler)', 'Goodwin, Mr. Charles Edward']\n",
      "['Graham, Mrs. William Thompson (Edith Junkins)', 'Graham, Mr. George Edward', 'Graham, Miss. Margaret Edith']\n",
      "['Green, Mr. George Henry']\n",
      "['Greenberg, Mr. Samuel']\n",
      "['Greenfield, Mr. William Bertram']\n",
      "['Gronnestad, Mr. Daniel Danielsen']\n",
      "['Guggenheim, Mr. Benjamin']\n",
      "['Gustafsson, Mr. Anders Vilhelm', 'Gustafsson, Mr. Karl Gideon', 'Gustafsson, Mr. Johan Birger', 'Gustafsson, Mr. Alfred Ossian']\n",
      "['Haas, Miss. Aloisia']\n",
      "['Hagland, Mr. Ingvald Olai Olsen', 'Hagland, Mr. Konrad Mathias Reiersen']\n",
      "['Hakkarainen, Mrs. Pekka Pietari (Elin Matilda Dolck)', 'Hakkarainen, Mr. Pekka Pietari']\n",
      "['Hale, Mr. Reginald']\n",
      "['Hamalainen, Mrs. William (Anna)', 'Hamalainen, Master. Viljo']\n",
      "['Hampe, Mr. Leon']\n",
      "['Hanna, Mr. Mansour']\n",
      "['Hansen, Mr. Henry Damsgaard', 'Hansen, Mr. Henrik Juul', 'Hansen, Mr. Claus Peter']\n",
      "['Harder, Mr. George Achilles']\n",
      "['Harknett, Miss. Alice Phoebe']\n",
      "['Harmer, Mr. Abraham (David Lishin)']\n",
      "['Harper, Mrs. Henry Sleeper (Myna Haxtun)', 'Harper, Mr. Henry Sleeper', 'Harper, Miss. Annie Jessie \"Nina\"', 'Harper, Rev. John']\n",
      "['Harrington, Mr. Charles H']\n",
      "['Harris, Mr. Henry Birkhardt', 'Harris, Mr. Walter', 'Harris, Mrs. Henry Birkhardt (Irene Wallach)', 'Harris, Mr. George']\n",
      "['Harrison, Mr. William']\n",
      "['Hart, Mr. Benjamin', 'Hart, Mr. Henry', 'Hart, Mrs. Benjamin (Esther Ada Bloomfield)', 'Hart, Miss. Eva Miriam']\n",
      "['Hassab, Mr. Hammad']\n",
      "['Hassan, Mr. Houssein G N']\n",
      "['Hawksford, Mr. Walter James']\n",
      "['Hays, Miss. Margaret Bechstein', 'Hays, Mrs. Charles Melville (Clara Jennings Gregg)']\n",
      "['Healy, Miss. Hanora \"Nora\"']\n",
      "['Hedman, Mr. Oskar Arvid']\n",
      "['Hegarty, Miss. Hanora \"Nora\"']\n",
      "['Heikkinen, Miss. Laina']\n",
      "['Heininen, Miss. Wendla Maria']\n",
      "['Hendekovic, Mr. Ignjac']\n",
      "['Henry, Miss. Delia']\n",
      "['Herman, Miss. Alice', 'Herman, Mrs. Samuel (Jane Laver)']\n",
      "['Hewlett, Mrs. (Mary D Kingcome) ']\n",
      "['Hickman, Mr. Stanley George', 'Hickman, Mr. Leonard Mark', 'Hickman, Mr. Lewis']\n",
      "['Hippach, Miss. Jean Gertrude', 'Hippach, Mrs. Louis Albert (Ida Sophia Fischer)']\n",
      "['Hirvonen, Miss. Hildur E']\n",
      "['Hocking, Mr. Richard George', 'Hocking, Mrs. Elizabeth (Eliza Needs)']\n",
      "['Hodges, Mr. Henry Price']\n",
      "['Hogeboom, Mrs. John C (Anna Andrews)']\n",
      "['Hold, Mr. Stephen']\n",
      "['Holm, Mr. John Fredrik Alexander']\n",
      "['Holverson, Mr. Alexander Oskar', 'Holverson, Mrs. Alexander Oskar (Mary Aline Towner)']\n",
      "['Homer, Mr. Harry (\"Mr E Haven\")']\n",
      "['Honkanen, Miss. Eliina']\n",
      "['Hood, Mr. Ambrose Jr']\n",
      "['Horgan, Mr. John']\n",
      "['Hosono, Mr. Masabumi']\n",
      "['Hoyt, Mr. Frederick Maxfield', 'Hoyt, Mrs. Frederick Maxfield (Jane Anne Forby)', 'Hoyt, Mr. William Fisher']\n",
      "['Humblen, Mr. Adolf Mathias Nicolai Olsen']\n",
      "['Hunt, Mr. George Henry']\n",
      "['Ibrahim Shawah, Mr. Yousseff']\n",
      "['Icard, Miss. Amelie']\n",
      "['Ilett, Miss. Bertha']\n",
      "['Ilmakangas, Miss. Pieta Sofia']\n",
      "['Isham, Miss. Ann Elizabeth']\n",
      "['Ivanoff, Mr. Kanio']\n",
      "['Jacobsohn, Mr. Sidney Samuel', 'Jacobsohn, Mrs. Sidney Samuel (Amy Frances Christy)']\n",
      "['Jalsevac, Mr. Ivan']\n",
      "['Jansson, Mr. Carl Olof']\n",
      "['Jardin, Mr. Jose Neto']\n",
      "['Jarvis, Mr. John Denzil']\n",
      "['Jenkin, Mr. Stephen Curnow']\n",
      "['Jensen, Mr. Hans Peder', 'Jensen, Mr. Svend Lauritz', 'Jensen, Mr. Niels Peder']\n",
      "['Jermyn, Miss. Annie']\n",
      "['Jerwan, Mrs. Amin S (Marie Marthe Thuillard)']\n",
      "['Johannesen-Bratthammer, Mr. Bernt']\n",
      "['Johanson, Mr. Jakob Alfred']\n",
      "['Johansson, Mr. Gustaf Joel', 'Johansson, Mr. Erik', 'Johansson, Mr. Karl Johan']\n",
      "['Johnson, Mrs. Oscar W (Elisabeth Vilhelmina Berg)', 'Johnson, Miss. Eleanor Ileen', 'Johnson, Mr. William Cahoone Jr', 'Johnson, Mr. Alfred', 'Johnson, Mr. Malkolm Joackim', 'Johnson, Master. Harold Theodor']\n",
      "['Johnston, Mr. Andrew G', 'Johnston, Miss. Catherine Helen \"Carrie\"']\n",
      "['Jonkoff, Mr. Lalio']\n",
      "['Jonsson, Mr. Carl']\n",
      "['Jussila, Miss. Katriina', 'Jussila, Miss. Mari Aina', 'Jussila, Mr. Eiriik']\n",
      "['Kallio, Mr. Nikolai Erland']\n",
      "['Kalvik, Mr. Johannes Halvorsen']\n",
      "['Kantor, Mr. Sinai', 'Kantor, Mrs. Sinai (Miriam Sternin)']\n",
      "['Karaic, Mr. Milan']\n",
      "['Karlsson, Mr. Nils August']\n",
      "['Karun, Miss. Manca']\n",
      "['Kassem, Mr. Fared']\n",
      "['Keane, Miss. Nora A', 'Keane, Mr. Andrew \"Andy\"']\n",
      "['Keefe, Mr. Arthur']\n",
      "['Kelly, Miss. Anna Katherine \"Annie Kate\"', 'Kelly, Miss. Mary', 'Kelly, Mr. James', 'Kelly, Mrs. Florence \"Fannie\"']\n",
      "['Kent, Mr. Edward Austin']\n",
      "['Kenyon, Mrs. Frederick R (Marion)']\n",
      "['Kiernan, Mr. Philip']\n",
      "['Kilgannon, Mr. Thomas J']\n",
      "['Kimball, Mr. Edwin Nelson Jr']\n",
      "['Kink, Mr. Vincenz']\n",
      "['Kink-Heilmann, Miss. Luise Gretchen']\n",
      "['Kirkland, Rev. Charles Leonard']\n",
      "['Klaber, Mr. Herman']\n",
      "['Klasen, Mr. Klas Albin']\n",
      "['Knight, Mr. Robert J']\n",
      "['Kraeff, Mr. Theodor']\n",
      "['Kvillner, Mr. Johan Henrik Johannesson']\n",
      "['Lahoud, Mr. Sarkis']\n",
      "['Lahtinen, Mrs. William (Anna Sylfven)']\n",
      "['Laitinen, Miss. Kristina Sofia']\n",
      "['Laleff, Mr. Kristo']\n",
      "['Lam, Mr. Ali', 'Lam, Mr. Len']\n",
      "['Landergren, Miss. Aurora Adelia']\n",
      "['Lang, Mr. Fang']\n",
      "['Laroche, Miss. Simonne Marie Anne Andree', 'Laroche, Mrs. Joseph (Juliette Marie Louise Lafargue)', 'Laroche, Mr. Joseph Philippe Lemercier']\n",
      "['Larsson, Mr. Bengt Edvin', 'Larsson, Mr. August Viktor']\n",
      "['LeRoy, Miss. Bertha']\n",
      "['Leader, Dr. Alice (Farnham)']\n",
      "['Leeni, Mr. Fahim (\"Philip Zenni\")']\n",
      "['Lefebre, Master. Henry Forbes', 'Lefebre, Miss. Mathilde', 'Lefebre, Miss. Ida', 'Lefebre, Miss. Jeannie']\n",
      "['Lehmann, Miss. Bertha']\n",
      "['Leinonen, Mr. Antti Gustaf']\n",
      "['Leitch, Miss. Jessie Wills']\n",
      "['Lemberopolous, Mr. Peter L']\n",
      "['Lemore, Mrs. (Amelia Milley)']\n",
      "['Lennon, Mr. Denis']\n",
      "['Leonard, Mr. Lionel']\n",
      "['Lester, Mr. James']\n",
      "['Lesurer, Mr. Gustave J']\n",
      "['Levy, Mr. Rene Jacques']\n",
      "['Lewy, Mr. Ervin G']\n",
      "['Leyson, Mr. Robert William Norman']\n",
      "['Lievens, Mr. Rene Aime']\n",
      "['Lindahl, Miss. Agda Thorilda Viktoria']\n",
      "['Lindblom, Miss. Augusta Charlotta']\n",
      "['Lindell, Mr. Edvard Bengtsson']\n",
      "['Lindqvist, Mr. Eino William']\n",
      "['Lines, Miss. Mary Conover']\n",
      "['Ling, Mr. Lee']\n",
      "['Lobb, Mr. William Arthur', 'Lobb, Mrs. William Arthur (Cordelia K Stanlick)']\n",
      "['Long, Mr. Milton Clyde']\n",
      "['Longley, Miss. Gretchen Fiske']\n",
      "['Louch, Mrs. Charles Alexander (Alice Adelaide Slow)']\n",
      "['Lovell, Mr. John Hall (\"Henry\")']\n",
      "['Lulic, Mr. Nikola']\n",
      "['Lundahl, Mr. Johan Svensson']\n",
      "['Lurette, Miss. Elise']\n",
      "['Mack, Mrs. (Mary)']\n",
      "['Madigan, Miss. Margaret \"Maggie\"']\n",
      "['Madill, Miss. Georgette Alexandra']\n",
      "['Madsen, Mr. Fridtjof Arne']\n",
      "['Maenpaa, Mr. Matti Alexanteri']\n",
      "['Maioni, Miss. Roberta']\n",
      "['Maisner, Mr. Simon']\n",
      "['Mallet, Mr. Albert', 'Mallet, Master. Andre']\n",
      "['Mamee, Mr. Hanna']\n",
      "['Mangan, Miss. Mary']\n",
      "['Mannion, Miss. Margareth']\n",
      "['Marechal, Mr. Pierre']\n",
      "['Markoff, Mr. Marin']\n",
      "['Markun, Mr. Johann']\n",
      "['Marvin, Mr. Daniel Warner']\n",
      "['Masselmani, Mrs. Fatima']\n",
      "['Matthews, Mr. William John']\n",
      "['Mayne, Mlle. Berthe Antonine (\"Mrs de Villiers\")']\n",
      "['McCarthy, Mr. Timothy J']\n",
      "['McCormack, Mr. Thomas Joseph']\n",
      "['McCoy, Mr. Bernard', 'McCoy, Miss. Agnes']\n",
      "['McDermott, Miss. Brigdet Delia']\n",
      "['McEvoy, Mr. Michael']\n",
      "['McGough, Mr. James Robert']\n",
      "['McGovern, Miss. Mary']\n",
      "['McGowan, Miss. Anna \"Annie\"']\n",
      "['McKane, Mr. Peter David']\n",
      "['McMahon, Mr. Martin']\n",
      "['McNamee, Mr. Neal']\n",
      "['Meanwell, Miss. (Marion Ogden)']\n",
      "['Meek, Mrs. Thomas (Annie Louise Rowley)']\n",
      "['Mellinger, Mrs. (Elizabeth Anne Maidment)', 'Mellinger, Miss. Madeleine Violet']\n",
      "['Mellors, Mr. William John']\n",
      "['Meo, Mr. Alfonzo']\n",
      "['Mernagh, Mr. Robert']\n",
      "['Meyer, Mr. Edgar Joseph', 'Meyer, Mrs. Edgar Joseph (Leila Saks)', 'Meyer, Mr. August']\n",
      "['Millet, Mr. Francis Davis']\n",
      "['Milling, Mr. Jacob Christian']\n",
      "['Minahan, Dr. William Edward', 'Minahan, Miss. Daisy E']\n",
      "['Mineff, Mr. Ivan']\n",
      "['Mionoff, Mr. Stoytcho']\n",
      "['Mitchell, Mr. Henry Michael']\n",
      "['Mitkoff, Mr. Mito']\n",
      "['Mockler, Miss. Helen Mary \"Ellie\"']\n",
      "['Moen, Mr. Sigurd Hansen']\n",
      "['Molson, Mr. Harry Markland']\n",
      "['Montvila, Rev. Juozas']\n",
      "['Moor, Master. Meier', 'Moor, Mrs. (Beila)']\n",
      "['Moore, Mr. Leonard Charles']\n",
      "['Moran, Mr. James', 'Moran, Miss. Bertha', 'Moran, Mr. Daniel J']\n",
      "['Moraweck, Dr. Ernest']\n",
      "['Morley, Mr. William', 'Morley, Mr. Henry Samuel (\"Mr Henry Marshall\")']\n",
      "['Morrow, Mr. Thomas Rowan']\n",
      "['Moss, Mr. Albert Johan']\n",
      "['Moubarek, Master. Gerios', 'Moubarek, Master. Halim Gonios (\"William George\")']\n",
      "['Moussa, Mrs. (Mantoura Boulos)']\n",
      "['Moutal, Mr. Rahamin Haim']\n",
      "['Mudd, Mr. Thomas Charles']\n",
      "['Mullens, Miss. Katherine \"Katie\"']\n",
      "['Murdlin, Mr. Joseph']\n",
      "['Murphy, Miss. Katherine \"Kate\"', 'Murphy, Miss. Margaret Jane']\n",
      "['Myhrman, Mr. Pehr Fabian Oliver Malkolm']\n",
      "['Naidenoff, Mr. Penko']\n",
      "['Najib, Miss. Adele Kiamie \"Jane\"']\n",
      "['Nakid, Miss. Maria (\"Mary\")', 'Nakid, Mr. Sahid']\n",
      "['Nankoff, Mr. Minko']\n",
      "['Nasser, Mrs. Nicholas (Adele Achem)', 'Nasser, Mr. Nicholas']\n",
      "['Natsch, Mr. Charles H']\n",
      "['Navratil, Mr. Michel (\"Louis M Hoffman\")', 'Navratil, Master. Michel M', 'Navratil, Master. Edmond Roger']\n",
      "['Nenkoff, Mr. Christo']\n",
      "['Newell, Miss. Madeleine', 'Newell, Miss. Marjorie', 'Newell, Mr. Arthur Webster']\n",
      "['Newsom, Miss. Helen Monypeny']\n",
      "['Nicholls, Mr. Joseph Charles']\n",
      "['Nicholson, Mr. Arthur Ernest']\n",
      "['Nicola-Yarred, Miss. Jamila', 'Nicola-Yarred, Master. Elias']\n",
      "['Nilsson, Miss. Helmina Josefina']\n",
      "['Nirva, Mr. Iisakki Antino Aijo']\n",
      "['Niskanen, Mr. Juha']\n",
      "['Norman, Mr. Robert Douglas']\n",
      "['Nosworthy, Mr. Richard Cater']\n",
      "['Novel, Mr. Mansouer']\n",
      "['Nye, Mrs. (Elizabeth Ramell)']\n",
      "['Nysten, Miss. Anna Sofia']\n",
      "['Nysveen, Mr. Johan Hansen']\n",
      "['O\\'Brien, Mrs. Thomas (Johanna \"Hannah\" Godfrey)', \"O'Brien, Mr. Thomas\", \"O'Brien, Mr. Timothy\"]\n",
      "[\"O'Connell, Mr. Patrick D\"]\n",
      "[\"O'Connor, Mr. Maurice\"]\n",
      "[\"O'Driscoll, Miss. Bridget\"]\n",
      "['O\\'Dwyer, Miss. Ellen \"Nellie\"']\n",
      "['O\\'Leary, Miss. Hanora \"Norah\"']\n",
      "[\"O'Sullivan, Miss. Bridget Mary\"]\n",
      "['Odahl, Mr. Nils Martin']\n",
      "['Ohman, Miss. Velin']\n",
      "['Olsen, Mr. Ole Martin', 'Olsen, Mr. Karl Siegwart Andreas', 'Olsen, Mr. Henry Margido']\n",
      "['Olsson, Mr. Nils Johan Goransson', 'Olsson, Miss. Elina']\n",
      "['Olsvigen, Mr. Thor Anderson']\n",
      "['Oreskovic, Miss. Marija', 'Oreskovic, Mr. Luka']\n",
      "['Osen, Mr. Olaf Elon']\n",
      "['Osman, Mrs. Mara']\n",
      "['Ostby, Mr. Engelhart Cornelius']\n",
      "['Otter, Mr. Richard']\n",
      "['Padro y Manent, Mr. Julian']\n",
      "['Pain, Dr. Alfred']\n",
      "['Palsson, Master. Gosta Leonard', 'Palsson, Miss. Torborg Danira', 'Palsson, Miss. Stina Viola', 'Palsson, Mrs. Nils (Alma Cornelia Berglund)']\n",
      "['Panula, Master. Juha Niilo', 'Panula, Master. Eino Viljami', 'Panula, Mr. Ernesti Arvid', 'Panula, Mrs. Juha (Maria Emilia Ojala)', 'Panula, Mr. Jaako Arnold', 'Panula, Master. Urho Abraham']\n",
      "['Parkes, Mr. Francis \"Frank\"']\n",
      "['Parr, Mr. William Henry Marsh']\n",
      "['Parrish, Mrs. (Lutie Davis)']\n",
      "['Partner, Mr. Austen']\n",
      "['Pasic, Mr. Jakob']\n",
      "['Patchett, Mr. George']\n",
      "['Paulner, Mr. Uscher']\n",
      "['Pavlovic, Mr. Stefo']\n",
      "['Pears, Mrs. Thomas (Edith Wearne)', 'Pears, Mr. Thomas Clinton']\n",
      "['Peduzzi, Mr. Joseph']\n",
      "['Pekoniemi, Mr. Edvard']\n",
      "['Penasco y Castellana, Mrs. Victor de Satode (Maria Josefa Perez de Soto y Vallejo)', 'Penasco y Castellana, Mr. Victor de Satode']\n",
      "['Pengelly, Mr. Frederick William']\n",
      "['Perkin, Mr. John Henry']\n",
      "['Pernot, Mr. Rene']\n",
      "['Perreault, Miss. Anne']\n",
      "['Persson, Mr. Ernst Ulrik']\n",
      "['Peter, Miss. Anna', 'Peter, Mrs. Catherine (Catherine Rizk)']\n",
      "['Peters, Miss. Katie']\n",
      "['Petranec, Miss. Matilda']\n",
      "['Petroff, Mr. Pastcho (\"Pentcho\")', 'Petroff, Mr. Nedelio']\n",
      "['Petterson, Mr. Johan Emil']\n",
      "['Pettersson, Miss. Ellen Natalia']\n",
      "['Peuchen, Major. Arthur Godfrey']\n",
      "['Phillips, Miss. Kate Florence (\"Mrs Kate Louise Phillips Marshall\")']\n",
      "['Pickard, Mr. Berk (Berk Trembisky)']\n",
      "['Pinsky, Mrs. (Rosa)']\n",
      "['Plotcharsky, Mr. Vasil']\n",
      "['Ponesell, Mr. Martin']\n",
      "['Porter, Mr. Walter Chamberlain']\n",
      "['Potter, Mrs. Thomas Jr (Lily Alexenia Wilson)']\n",
      "['Quick, Mrs. Frederick Charles (Jane Richards)', 'Quick, Miss. Phyllis May']\n",
      "['Radeff, Mr. Alexander']\n",
      "['Razi, Mr. Raihed']\n",
      "['Reed, Mr. James George']\n",
      "['Reeves, Mr. David']\n",
      "['Rekic, Mr. Tido']\n",
      "['Renouf, Mr. Peter Henry', 'Renouf, Mrs. Peter Henry (Lillian Jefferys)']\n",
      "['Reuchlin, Jonkheer. John George']\n",
      "['Reynaldo, Ms. Encarnacion']\n",
      "['Rice, Master. Eugene', 'Rice, Master. Arthur', 'Rice, Master. Eric', 'Rice, Master. George Hugh', 'Rice, Mrs. William (Margaret Norton)']\n",
      "['Richard, Mr. Emile']\n",
      "['Richards, Master. William Rowe', 'Richards, Mrs. Sidney (Emily Hocking)', 'Richards, Master. George Sibley']\n",
      "['Ridsdale, Miss. Lucy']\n",
      "['Ringhini, Mr. Sante']\n",
      "['Rintamaki, Mr. Matti']\n",
      "['Risien, Mr. Samuel Beard']\n",
      "['Robbins, Mr. Victor']\n",
      "['Robert, Mrs. Edward Scott (Elisabeth Walton McMillan)']\n",
      "['Robins, Mrs. Alexander A (Grace Charity Laury)']\n",
      "['Roebling, Mr. Washington Augustus II']\n",
      "['Rogers, Mr. William John']\n",
      "['Romaine, Mr. Charles Hallace (\"Mr C Rolmane\")']\n",
      "['Rommetvedt, Mr. Knud Paust']\n",
      "['Rood, Mr. Hugh Roscoe']\n",
      "['Rosblom, Mrs. Viktor (Helena Wilhelmina)', 'Rosblom, Mr. Viktor Richard']\n",
      "['Ross, Mr. John Hugo']\n",
      "['Rothes, the Countess. of (Lucy Noel Martha Dyer-Edwards)']\n",
      "['Rothschild, Mrs. Martin (Elizabeth L. Barrett)']\n",
      "['Rouse, Mr. Richard Henry']\n",
      "['Rugg, Miss. Emily']\n",
      "['Rush, Mr. Alfred George John']\n",
      "['Ryan, Mr. Patrick']\n",
      "['Ryerson, Miss. Emily Borie', 'Ryerson, Miss. Susan Parker \"Suzette\"']\n",
      "['Saad, Mr. Khalil', 'Saad, Mr. Amin']\n",
      "['Saalfeld, Mr. Adolphe']\n",
      "['Sadlier, Mr. Matthew']\n",
      "['Sage, Master. Thomas Henry', 'Sage, Miss. Constance Gladys', 'Sage, Mr. Frederick', 'Sage, Mr. George John Jr', 'Sage, Miss. Stella Anna', 'Sage, Mr. Douglas Bullen', 'Sage, Miss. Dorothy Edith \"Dolly\"']\n",
      "['Sagesser, Mlle. Emma']\n",
      "['Salkjelsvik, Miss. Anna Kristine']\n",
      "['Salonen, Mr. Johan Werner']\n",
      "['Samaan, Mr. Youssef']\n",
      "['Sandstrom, Miss. Marguerite Rut', 'Sandstrom, Mrs. Hjalmar (Agnes Charlotta Bengtsson)']\n",
      "['Saundercock, Mr. William Henry']\n",
      "['Sawyer, Mr. Frederick Charles']\n",
      "['Scanlan, Mr. James']\n",
      "['Sdycoff, Mr. Todor']\n",
      "['Sedgwick, Mr. Charles Frederick Waddington']\n",
      "['Serepeca, Miss. Augusta']\n",
      "['Seward, Mr. Frederic Kimber']\n",
      "['Sharp, Mr. Percival James R']\n",
      "['Sheerlinck, Mr. Jan Baptist']\n",
      "['Shellard, Mr. Frederick William']\n",
      "['Shelley, Mrs. William (Imanita Parrish Hall)']\n",
      "['Shorney, Mr. Charles Joseph']\n",
      "['Shutes, Miss. Elizabeth W']\n",
      "['Silven, Miss. Lyyli Karoliina']\n",
      "['Silverthorne, Mr. Spencer Victor']\n",
      "['Silvey, Mr. William Baird', 'Silvey, Mrs. William Baird (Alice Munger)']\n",
      "['Simmons, Mr. John']\n",
      "['Simonius-Blumer, Col. Oberst Alfons']\n",
      "['Sinkkonen, Miss. Anna']\n",
      "['Sirayanian, Mr. Orsen']\n",
      "['Sirota, Mr. Maurice']\n",
      "['Sivic, Mr. Husein']\n",
      "['Sivola, Mr. Antti Wilhelm']\n",
      "['Sjoblom, Miss. Anna Sofia']\n",
      "['Sjostedt, Mr. Ernst Adolf']\n",
      "['Skoog, Master. Harald', 'Skoog, Mrs. William (Anna Bernhardina Karlsson)', 'Skoog, Mr. Wilhelm', 'Skoog, Miss. Mabel', 'Skoog, Miss. Margit Elizabeth', 'Skoog, Master. Karl Thorsten']\n",
      "['Slabenoff, Mr. Petco']\n",
      "['Slayter, Miss. Hilda Mary']\n",
      "['Slemen, Mr. Richard James']\n",
      "['Slocovski, Mr. Selman Francis']\n",
      "['Sloper, Mr. William Thompson']\n",
      "['Smart, Mr. John Montgomery']\n",
      "['Smiljanic, Mr. Mile']\n",
      "['Smith, Mr. James Clinch', 'Smith, Mr. Thomas', 'Smith, Mr. Richard William', 'Smith, Miss. Marion Elsie']\n",
      "['Sobey, Mr. Samuel James Hayden']\n",
      "['Soholt, Mr. Peter Andreas Lauritz Andersen']\n",
      "['Somerton, Mr. Francis William']\n",
      "['Spedden, Mrs. Frederic Oakley (Margaretta Corning Stone)']\n",
      "['Spencer, Mrs. William Augustus (Marie Eugenie)']\n",
      "['Stahelin-Maeglin, Dr. Max']\n",
      "['Staneff, Mr. Ivan']\n",
      "['Stankovic, Mr. Ivan']\n",
      "['Stanley, Mr. Edward Roland', 'Stanley, Miss. Amy Zillah Elsie']\n",
      "['Stead, Mr. William Thomas']\n",
      "['Stephenson, Mrs. Walter Bertram (Martha Eustis)']\n",
      "['Stewart, Mr. Albert A']\n",
      "['Stone, Mrs. George Nelson (Martha Evelyn)']\n",
      "['Stoytcheff, Mr. Ilia']\n",
      "['Strandberg, Miss. Ida Sofia']\n",
      "['Stranden, Mr. Juho']\n",
      "['Strom, Miss. Telma Matilda', 'Strom, Mrs. Wilhelm (Elna Matilda Persson)']\n",
      "['Sunderland, Mr. Victor Francis']\n",
      "['Sundman, Mr. Johan Julian']\n",
      "['Sutehall, Mr. Henry Jr']\n",
      "['Sutton, Mr. Frederick']\n",
      "['Svensson, Mr. Olof', 'Svensson, Mr. Johan']\n",
      "['Swift, Mrs. Frederick Joel (Margaret Welles Barron)']\n",
      "['Taussig, Mr. Emil', 'Taussig, Mrs. Emil (Tillie Mandelbaum)', 'Taussig, Miss. Ruth']\n",
      "['Taylor, Mrs. Elmer Zebley (Juliet Cummins Wright)', 'Taylor, Mr. Elmer Zebley']\n",
      "['Thayer, Mr. John Borland Jr', 'Thayer, Mrs. John Borland (Marian Longstreth Morris)', 'Thayer, Mr. John Borland']\n",
      "['Theobald, Mr. Thomas Leonard']\n",
      "['Thomas, Master. Assad Alexander']\n",
      "['Thorne, Mrs. Gertrude Maybelle']\n",
      "['Thorneycroft, Mrs. Percival (Florence Kate White)', 'Thorneycroft, Mr. Percival']\n",
      "['Tikkanen, Mr. Juho']\n",
      "['Tobin, Mr. Roger']\n",
      "['Todoroff, Mr. Lalio']\n",
      "['Tomlin, Mr. Ernest Portage']\n",
      "['Toomey, Miss. Ellen']\n",
      "['Torber, Mr. Ernst William']\n",
      "['Tornquist, Mr. William Henry']\n",
      "['Toufik, Mr. Nakli']\n",
      "['Touma, Mrs. Darwis (Hanne Youssef Razi)']\n",
      "['Troupiansky, Mr. Moses Aaron']\n",
      "['Trout, Mrs. William H (Jessie L)']\n",
      "['Troutt, Miss. Edwina Celia \"Winnie\"']\n",
      "['Turcin, Mr. Stjepan']\n",
      "['Turja, Miss. Anna Sofia']\n",
      "['Turkula, Mrs. (Hedwig)']\n",
      "['Turpin, Mrs. William John Robert (Dorothy Ann Wonnacott)', 'Turpin, Mr. William John Robert']\n",
      "['Uruchurtu, Don. Manuel E']\n",
      "['Van Impe, Miss. Catharina', 'Van Impe, Mr. Jean Baptiste', 'Van Impe, Mrs. Jean Baptiste (Rosalie Paula Govaert)']\n",
      "['Van der hoef, Mr. Wyckoff']\n",
      "['Vande Velde, Mr. Johannes Joseph']\n",
      "['Vande Walle, Mr. Nestor Cyriel']\n",
      "['Vanden Steen, Mr. Leo Peter']\n",
      "['Vander Cruyssen, Mr. Victor']\n",
      "['Vander Planke, Mrs. Julius (Emelia Maria Vandemoortele)', 'Vander Planke, Miss. Augusta Maria', 'Vander Planke, Mr. Leo Edmondus']\n",
      "['Vestrom, Miss. Hulda Amanda Adolfina']\n",
      "['Vovk, Mr. Janko']\n",
      "['Waelens, Mr. Achille']\n",
      "['Walker, Mr. William Anderson']\n",
      "['Ward, Miss. Anna']\n",
      "['Warren, Mrs. Frank Manley (Anna Sophia Atkinson)']\n",
      "['Watson, Mr. Ennis Hastings']\n",
      "['Watt, Mrs. James (Elizabeth \"Bessie\" Inglis Milne)']\n",
      "['Webber, Miss. Susan', 'Webber, Mr. James']\n",
      "['Weir, Col. John']\n",
      "['Weisz, Mrs. Leopold (Mathilde Francoise Pede)']\n",
      "['Wells, Miss. Joan']\n",
      "['West, Miss. Constance Mirium', 'West, Mr. Edwy Arthur', 'West, Mrs. Edwy Arthur (Ada Mary Worth)']\n",
      "['Wheadon, Mr. Edward H']\n",
      "['White, Mr. Richard Frasar', 'White, Mr. Percival Wayland']\n",
      "['Wick, Miss. Mary Natalie', 'Wick, Mrs. George Dennick (Mary Hitchcock)']\n",
      "['Widegren, Mr. Carl/Charles Peter']\n",
      "['Widener, Mr. Harry Elkins']\n",
      "['Wiklund, Mr. Jakob Alfred']\n",
      "['Wilhelms, Mr. Charles']\n",
      "['Willey, Mr. Edward']\n",
      "['Williams, Mr. Charles Eugene', 'Williams, Mr. Charles Duane', 'Williams, Mr. Howard Hugh \"Harry\"', 'Williams, Mr. Leslie']\n",
      "['Williams-Lambert, Mr. Fletcher Fellows']\n",
      "['Windelov, Mr. Einar']\n",
      "['Wiseman, Mr. Phillippe']\n",
      "['Woolner, Mr. Hugh']\n",
      "['Wright, Mr. George']\n",
      "['Yasbeck, Mr. Antoni', 'Yasbeck, Mrs. Antoni (Selini Alexander)']\n",
      "['Young, Miss. Marie Grice']\n",
      "['Youseff, Mr. Gerious']\n",
      "['Yousif, Mr. Wazli']\n",
      "['Yousseff, Mr. Gerious']\n",
      "['Yrois, Miss. Henriette (\"Mrs Harbeck\")']\n",
      "['Zabour, Miss. Hileni', 'Zabour, Miss. Thamine']\n",
      "['Zimmerman, Mr. Leo']\n",
      "['de Messemaeker, Mrs. Guillaume Joseph (Emma)']\n",
      "['de Mulder, Mr. Theodore']\n",
      "['de Pelsmaeker, Mr. Alfons']\n",
      "['del Carlo, Mr. Sebastiano']\n",
      "['van Billiard, Mr. Austin Blyler']\n",
      "['van Melkebeke, Mr. Philemon']\n"
     ]
    }
   ],
   "source": [
    "# Extract last names from the 'Name' column\n",
    "df['Last_Name'] = df['Name'].apply(lambda x: x.split(',')[0])\n",
    "\n",
    "# Identify passengers with the same last name (potential family members)\n",
    "family_groups = df.groupby('Last_Name')['Name'].apply(list)\n",
    "\n",
    "# Display family groups\n",
    "print(\"Potential Family Groups:\")\n",
    "for group in family_groups:\n",
    "    print(group)"
   ]
  },
  {
   "cell_type": "markdown",
   "id": "abce7be9-ebc0-480b-b817-d21956c97336",
   "metadata": {},
   "source": [
    "# Missing Data Analysis:"
   ]
  },
  {
   "cell_type": "markdown",
   "id": "2095f1ee-cdc0-4f61-a652-4475b4e7d3a1",
   "metadata": {},
   "source": [
    "## a: How much missing data is there in the dataset for various attributes, and how should it be handled?"
   ]
  },
  {
   "cell_type": "code",
   "execution_count": 31,
   "id": "bc1bd99b-f6b3-419e-810e-f1693d0b70be",
   "metadata": {
    "tags": []
   },
   "outputs": [
    {
     "name": "stdout",
     "output_type": "stream",
     "text": [
      "Missing Data:\n",
      "PassengerId         0\n",
      "Survived            0\n",
      "Pclass              0\n",
      "Name                0\n",
      "Sex                 0\n",
      "Age                 0\n",
      "SibSp               0\n",
      "Parch               0\n",
      "Ticket              0\n",
      "Fare                0\n",
      "Cabin             687\n",
      "Embarked            2\n",
      "AgeGroup            0\n",
      "IsChild             0\n",
      "FareGroup           3\n",
      "FamilySize          0\n",
      "TravelingAlone      0\n",
      "Deck                0\n",
      "Title               0\n",
      "Last_Name           0\n",
      "dtype: int64\n"
     ]
    }
   ],
   "source": [
    "# Check for missing data\n",
    "missing_data = df.isnull().sum()\n",
    "\n",
    "# Display the missing data\n",
    "print(\"Missing Data:\")\n",
    "print(missing_data)"
   ]
  },
  {
   "cell_type": "markdown",
   "id": "27a06aba-49a0-4d83-8fe9-f6ff51ff33ef",
   "metadata": {},
   "source": [
    "## Handling missing values in the 'Age' and 'Cabin' columns involves different strategies due to the nature of the data. Let's address each one separately:"
   ]
  },
  {
   "cell_type": "markdown",
   "id": "844ef185-4d09-4634-94c4-854c7a9d471f",
   "metadata": {},
   "source": [
    "## Handling Missing Values in 'Age':\n",
    "## Impute with Mean or Median: One common approach is to impute missing age values with the mean or median of the column. This helps maintain the original distribution of ages."
   ]
  },
  {
   "cell_type": "code",
   "execution_count": 32,
   "id": "a57ad0cd-73f7-4430-89e4-8c683b8be7b8",
   "metadata": {
    "tags": []
   },
   "outputs": [],
   "source": [
    "# Impute missing values in 'Age' with the median\n",
    "df['Age'].fillna(df['Age'].median(), inplace=True)"
   ]
  },
  {
   "cell_type": "markdown",
   "id": "eaa0261a-9286-48a1-9a12-0d8b04ed2064",
   "metadata": {},
   "source": [
    "## Handling Missing Values in 'Cabin':\n",
    "## Create 'CabinKnown' Feature: Create a new feature, 'CabinKnown,' to indicate whether cabin information is available. This preserves information about whether a cabin was specified or not."
   ]
  },
  {
   "cell_type": "code",
   "execution_count": 33,
   "id": "359be151-6fc3-4255-b47e-ca3cdcbd3df3",
   "metadata": {
    "tags": []
   },
   "outputs": [],
   "source": [
    "# Create a new column indicating whether cabin information is available\n",
    "df['CabinKnown'] = df['Cabin'].notnull().astype(int)\n",
    "\n",
    "# Drop the 'Cabin' column\n",
    "df.drop('Cabin', axis=1, inplace=True)"
   ]
  },
  {
   "cell_type": "markdown",
   "id": "cb35cd6d-ff6c-48fd-a4ad-e030e744fb48",
   "metadata": {},
   "source": [
    "## b: Did the absence of certain data, like age or cabin information, impact the analysis?\n"
   ]
  },
  {
   "cell_type": "markdown",
   "id": "f4f73a04-04cf-4b86-9e49-885e2aab7b87",
   "metadata": {},
   "source": [
    "## NO, because it was replaced"
   ]
  },
  {
   "cell_type": "markdown",
   "id": "f77fd86b-646d-47fe-9dbe-6b33d9c9f936",
   "metadata": {},
   "source": [
    "# Survival Over Time:"
   ]
  },
  {
   "cell_type": "markdown",
   "id": "69524cb8-3f81-4f36-afd0-bd0acb93a7df",
   "metadata": {},
   "source": [
    "## a:Can we analyze if the survival rate changed over the course of the disaster?"
   ]
  },
  {
   "cell_type": "markdown",
   "id": "d92402ca-354f-4538-86ae-c0db7d929721",
   "metadata": {},
   "source": [
    "## YES, Analyzing whether the survival rate changed over the course of the disaster typically involves examining survival rates over different time intervals or phases of the event. The Titanic disaster unfolded over a period, and various factors could influence survival rates at different times."
   ]
  },
  {
   "cell_type": "markdown",
   "id": "f7cd78da-4c28-43be-8160-f9315826dfa5",
   "metadata": {},
   "source": [
    "## Interaction Effects:"
   ]
  },
  {
   "cell_type": "markdown",
   "id": "0e5fc937-a67d-4e66-91e6-b59896277c4d",
   "metadata": {},
   "source": [
    "## a. Can we identify any interactions between different features that had a significant impact on survival?"
   ]
  },
  {
   "cell_type": "markdown",
   "id": "541cd8a5-2eaa-4ce9-945e-5a0658a8397a",
   "metadata": {},
   "source": [
    "## Certainly! Interactions between different features has a significant impact on survival . Here are some common interactions to consider:"
   ]
  },
  {
   "cell_type": "markdown",
   "id": "9837eae7-905c-4b29-a90b-91714cf58839",
   "metadata": {},
   "source": [
    "## Pclass (Passenger Class) and Sex"
   ]
  },
  {
   "cell_type": "markdown",
   "id": "02b9ea5e-d43e-401e-b845-59529c99e3b5",
   "metadata": {},
   "source": [
    "## Age and Pclass"
   ]
  },
  {
   "cell_type": "markdown",
   "id": "45da1871-094d-4223-9fdb-8e4045650bd6",
   "metadata": {},
   "source": [
    "## Embarked and Pclass"
   ]
  },
  {
   "cell_type": "markdown",
   "id": "60c0c573-6c76-4b09-9b16-21869169d159",
   "metadata": {},
   "source": [
    "## SibSp (Siblings/Spouses) and Parch (Parents/Children)"
   ]
  },
  {
   "cell_type": "markdown",
   "id": "735bfef2-9e2c-43b5-9450-ebbcc5a5c513",
   "metadata": {},
   "source": [
    "## Fare and Pclass"
   ]
  },
  {
   "cell_type": "code",
   "execution_count": null,
   "id": "163bacf6-4e98-4fc5-b2dd-a54f09491e74",
   "metadata": {},
   "outputs": [],
   "source": []
  }
 ],
 "metadata": {
  "kernelspec": {
   "display_name": "Python 3 (ipykernel)",
   "language": "python",
   "name": "python3"
  },
  "language_info": {
   "codemirror_mode": {
    "name": "ipython",
    "version": 3
   },
   "file_extension": ".py",
   "mimetype": "text/x-python",
   "name": "python",
   "nbconvert_exporter": "python",
   "pygments_lexer": "ipython3",
   "version": "3.11.4"
  },
  "widgets": {
   "application/vnd.jupyter.widget-state+json": {
    "state": {},
    "version_major": 2,
    "version_minor": 0
   }
  }
 },
 "nbformat": 4,
 "nbformat_minor": 5
}
